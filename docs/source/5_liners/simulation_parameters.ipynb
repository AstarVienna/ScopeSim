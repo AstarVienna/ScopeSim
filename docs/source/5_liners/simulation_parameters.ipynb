{
 "cells": [
  {
   "cell_type": "markdown",
   "id": "round-montgomery",
   "metadata": {},
   "source": [
    "# Global rc simulation parameters\n",
    "\n",
    "Default global simulation parameters used as a base layer for all instruments. \n",
    "\n",
    "Also accessible via an empty `scopesim.UserCommands()` or via an empty `scopesim.OpticalTrain()`object"
   ]
  },
  {
   "cell_type": "code",
   "execution_count": null,
   "id": "defensive-practitioner",
   "metadata": {},
   "outputs": [],
   "source": [
    "import scopesim\n",
    "\n",
    "scopesim.rc.__currsys__[\"!SIM.random.seed\"] = 9001\n",
    "scopesim.rc.__currsys__[\"!SIM.file.local_packages_path\"] = \"./\"\n",
    "\n",
    "scopesim.rc.__currsys__[\"!SIM\"]"
   ]
  }
 ],
 "metadata": {
  "kernelspec": {
   "display_name": "Python 3 (ipykernel)",
   "language": "python",
   "name": "python3"
  },
  "language_info": {
   "codemirror_mode": {
    "name": "ipython",
    "version": 3
   },
   "file_extension": ".py",
   "mimetype": "text/x-python",
   "name": "python",
   "nbconvert_exporter": "python",
   "pygments_lexer": "ipython3",
   "version": "3.9.16"
  }
 },
 "nbformat": 4,
 "nbformat_minor": 5
}
