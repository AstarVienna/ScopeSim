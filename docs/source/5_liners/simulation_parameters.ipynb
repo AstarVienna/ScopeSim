{
 "cells": [
  {
   "cell_type": "markdown",
   "id": "round-montgomery",
   "metadata": {},
   "source": [
    "# Global rc simulation parameters\n",
    "\n",
    "Default global simulation parameters used as a base layer for all instruments. \n",
    "\n",
    "Also accessible via an empty `scopesim.UserCommands()` or via an empty `scopesim.OpticalTrain()`object"
   ]
  },
  {
   "cell_type": "code",
   "execution_count": 5,
   "id": "defensive-practitioner",
   "metadata": {},
   "outputs": [
    {
     "data": {
      "text/plain": [
       "{'spectral': {'wave_min': 0.3,\n",
       "  'wave_mid': 2.2,\n",
       "  'wave_max': 20,\n",
       "  'wave_unit': 'um',\n",
       "  'spectral_bin_width': 0.0001,\n",
       "  'spectral_resolution': 5000,\n",
       "  'minimum_throughput': 1e-06,\n",
       "  'minimum_pixel_flux': 1},\n",
       " 'sub_pixel': {'flag': False, 'fraction': 1},\n",
       " 'random': {'seed': 9001},\n",
       " 'computing': {'chunk_size': 2048,\n",
       "  'max_segment_size': 16777217,\n",
       "  'oversampling': 1,\n",
       "  'spline_order': 1,\n",
       "  'flux_accuracy': 0.001,\n",
       "  'preload_field_of_views': False,\n",
       "  'bg_cell_width': 60},\n",
       " 'file': {'local_packages_path': './',\n",
       "  'server_base_url': 'https://scopesim.univie.ac.at/InstPkgSvr/',\n",
       "  'use_cached_downloads': False,\n",
       "  'search_path': ['./inst_pkgs/', './'],\n",
       "  'error_on_missing_file': False},\n",
       " 'reports': {'ip_tracking': False,\n",
       "  'verbose': False,\n",
       "  'rst_path': './reports/rst/',\n",
       "  'latex_path': './reports/latex/',\n",
       "  'image_path': './reports/images/',\n",
       "  'image_format': 'png',\n",
       "  'preamble_file': 'None'},\n",
       " 'logging': {'log_to_file': False,\n",
       "  'log_to_console': True,\n",
       "  'file_path': '.scopesim.log',\n",
       "  'file_open_mode': 'w',\n",
       "  'file_level': 'DEBUG',\n",
       "  'console_level': 'INFO'},\n",
       " 'tests': {'run_integration_tests': True, 'run_skycalc_ter_tests': True}}"
      ]
     },
     "execution_count": 5,
     "metadata": {},
     "output_type": "execute_result"
    }
   ],
   "source": [
    "import scopesim\n",
    "\n",
    "scopesim.rc.__currsys__[\"!SIM.random.seed\"] = 9001\n",
    "scopesim.rc.__currsys__[\"!SIM.file.local_packages_path\"] = \"./\"\n",
    "\n",
    "scopesim.rc.__currsys__[\"!SIM\"]"
   ]
  }
 ],
 "metadata": {
  "kernelspec": {
   "display_name": "Python 3",
   "language": "python",
   "name": "python3"
  },
  "language_info": {
   "codemirror_mode": {
    "name": "ipython",
    "version": 3
   },
   "file_extension": ".py",
   "mimetype": "text/x-python",
   "name": "python",
   "nbconvert_exporter": "python",
   "pygments_lexer": "ipython3",
   "version": "3.6.8"
  }
 },
 "nbformat": 4,
 "nbformat_minor": 5
}
