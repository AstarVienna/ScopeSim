{
 "cells": [
  {
   "cell_type": "markdown",
   "id": "empty-contractor",
   "metadata": {},
   "source": [
    "# Downloading packages\n",
    "\n",
    ".. note: Instrument packages are kept in a separate repository: [the Instrument Reference Database (IRDB)]((https://github.com/astronomyk/irdb))\n",
    "\n",
    "Before simulating anything we need to get the relevant instrument packages. Packages are split into the following categories\n",
    "\n",
    "- Locations (e.g. Armazones, LaPalma)\n",
    "- Telescopes (e.g. ELT, GTC)\n",
    "- Instruments (e.g. MICADO, METIS, MAORY, OSIRIS, MAAT)\n",
    "\n",
    "We need to amke sure we have all the packages required to built the optical system. E.g. observing with MICADO is useless without including the ELT."
   ]
  },
  {
   "cell_type": "code",
   "execution_count": 1,
   "id": "collaborative-glass",
   "metadata": {},
   "outputs": [],
   "source": [
    "import scopesim as sim\n",
    "\n",
    "from tempfile import TemporaryDirectory\n",
    "tmpdir = TemporaryDirectory()\n",
    "sim.rc.__config__[\"!SIM.file.local_packages_path\"] = tmpdir.name"
   ]
  },
  {
   "cell_type": "markdown",
   "id": "round-watts",
   "metadata": {},
   "source": [
    "## scopesim.download_packages()\n",
    "\n",
    "### Stable packages\n",
    "\n",
    "The simplest way is to simply get the latest stable versions of the packages by calling their names.\n",
    "\n",
    "Call `list_packages()` or see the [IRDB]((https://github.com/astronomyk/irdb)) for names."
   ]
  },
  {
   "cell_type": "code",
   "execution_count": 2,
   "id": "blind-algorithm",
   "metadata": {},
   "outputs": [
    {
     "data": {
      "text/plain": [
       "['Armazones',\n",
       " 'ELT',\n",
       " 'GTC',\n",
       " 'HAWKI',\n",
       " 'HST',\n",
       " 'LFOA',\n",
       " 'LaPalma',\n",
       " 'MAAT',\n",
       " 'MAORY',\n",
       " 'METIS',\n",
       " 'MICADO',\n",
       " 'MICADO_Sci',\n",
       " 'OSIRIS',\n",
       " 'Paranal',\n",
       " 'VLT',\n",
       " 'WFC3',\n",
       " 'test_package']"
      ]
     },
     "execution_count": 2,
     "metadata": {},
     "output_type": "execute_result"
    }
   ],
   "source": [
    "sim.list_packages()"
   ]
  },
  {
   "cell_type": "code",
   "execution_count": 3,
   "id": "happy-column",
   "metadata": {},
   "outputs": [
    {
     "data": {
      "text/plain": [
       "['C:\\\\Users\\\\Kieran\\\\AppData\\\\Local\\\\Temp\\\\tmpvf9r8z__\\\\Armazones.zip',\n",
       " 'C:\\\\Users\\\\Kieran\\\\AppData\\\\Local\\\\Temp\\\\tmpvf9r8z__\\\\ELT.zip',\n",
       " 'C:\\\\Users\\\\Kieran\\\\AppData\\\\Local\\\\Temp\\\\tmpvf9r8z__\\\\MICADO.zip']"
      ]
     },
     "execution_count": 3,
     "metadata": {},
     "output_type": "execute_result"
    }
   ],
   "source": [
    "sim.download_packages([\"Armazones\", \"ELT\", \"MICADO\"])"
   ]
  },
  {
   "cell_type": "markdown",
   "id": "handled-fraud",
   "metadata": {},
   "source": [
    "### Development version\n",
    "\n",
    "Use the `release=\"latest\"` parameter to get the latest stable development verions of the packages"
   ]
  },
  {
   "cell_type": "code",
   "execution_count": 4,
   "id": "egyptian-absolute",
   "metadata": {},
   "outputs": [
    {
     "data": {
      "text/plain": [
       "['C:\\\\Users\\\\Kieran\\\\AppData\\\\Local\\\\Temp\\\\tmpvf9r8z__\\\\test_package.zip']"
      ]
     },
     "execution_count": 4,
     "metadata": {},
     "output_type": "execute_result"
    }
   ],
   "source": [
    "sim.download_packages(\"test_package\", release=\"latest\")"
   ]
  },
  {
   "cell_type": "markdown",
   "id": "indie-house",
   "metadata": {},
   "source": [
    "### Bleeding-edge versions from GitHub\n",
    "\n",
    "We can also pull the latest verisons of a package from GitHub. This is useful if you are the one writing the package and want to test how it works on a different machine.\n",
    "\n",
    "The following strings will work:\n",
    "\n",
    "- Latest from a branch: `release=\"github:<branch-name>\"`\n",
    "- From a specific tag: `release=\"github:<tag>\"`\n",
    "- From a specific commit: `release=\"github:<super-long-commit-hash>\"`"
   ]
  },
  {
   "cell_type": "code",
   "execution_count": 5,
   "id": "happy-thought",
   "metadata": {},
   "outputs": [
    {
     "name": "stdout",
     "output_type": "stream",
     "text": [
      "INFO - Downloaded: test_package/TC_filter_Ks.dat\n",
      "INFO - Downloaded: test_package/default.yaml\n",
      "INFO - Downloaded: test_package/test_detector.yaml\n",
      "INFO - Downloaded: test_package/test_instrument.yaml\n",
      "INFO - Downloaded: test_package/test_mode_2.yaml\n",
      "INFO - Downloaded: test_package/test_package.yaml\n",
      "INFO - Downloaded: test_package/test_telescope.yaml\n",
      "INFO - Downloaded: test_package/version.yaml\n"
     ]
    },
    {
     "data": {
      "text/plain": [
       "['C:\\\\Users\\\\Kieran\\\\AppData\\\\Local\\\\Temp\\\\tmpvf9r8z__']"
      ]
     },
     "execution_count": 5,
     "metadata": {},
     "output_type": "execute_result"
    }
   ],
   "source": [
    "sim.download_packages(\"test_package\", release=\"github:dev_master\")"
   ]
  },
  {
   "cell_type": "code",
   "execution_count": null,
   "id": "neither-netscape",
   "metadata": {},
   "outputs": [
    {
     "name": "stdout",
     "output_type": "stream",
     "text": [
      "INFO - Downloaded: LFOA/CCD-QE.jpg\n",
      "INFO - Downloaded: LFOA/LFOA.yaml\n",
      "INFO - Downloaded: LFOA/LFOA_SBIG.yaml\n",
      "INFO - Downloaded: LFOA/LIST_LFOA_mirrors_static.dat\n",
      "INFO - Downloaded: LFOA/QE_SBIG.dat\n",
      "INFO - Downloaded: LFOA/TER_atmosphere.dat\n",
      "INFO - Downloaded: LFOA/TER_focal_reducer.dat\n",
      "INFO - Downloaded: LFOA/TER_mirror_aluminium.dat\n",
      "INFO - Downloaded: LFOA/__init__.py\n",
      "INFO - Downloaded: LFOA/code/__init__.py\n",
      "INFO - Downloaded: LFOA/code/sort_NB_filters.py\n",
      "INFO - Downloaded: LFOA/default.yaml\n",
      "INFO - Downloaded: LFOA/docs/__init__.py\n",
      "INFO - Downloaded: LFOA/docs/report_preamble.rst\n",
      "INFO - Downloaded: LFOA/filters/B.dat\n",
      "INFO - Downloaded: LFOA/filters/Halpha_narrow.dat\n",
      "INFO - Downloaded: LFOA/filters/Halpha_wide.dat\n",
      "INFO - Downloaded: LFOA/filters/Hbeta.dat\n",
      "INFO - Downloaded: LFOA/filters/I.dat\n",
      "INFO - Downloaded: LFOA/filters/OIII.dat\n",
      "INFO - Downloaded: LFOA/filters/R.dat\n",
      "INFO - Downloaded: LFOA/filters/SII.dat\n",
      "INFO - Downloaded: LFOA/filters/U.dat\n",
      "INFO - Downloaded: LFOA/filters/V.dat\n"
     ]
    }
   ],
   "source": [
    "sim.download_packages(\"LFOA\", release=\"github:3c136cd59ceeca551c01c6fa79f87377997f33f9\")"
   ]
  }
 ],
 "metadata": {
  "kernelspec": {
   "display_name": "Python 3",
   "language": "python",
   "name": "python3"
  },
  "language_info": {
   "codemirror_mode": {
    "name": "ipython",
    "version": 3
   },
   "file_extension": ".py",
   "mimetype": "text/x-python",
   "name": "python",
   "nbconvert_exporter": "python",
   "pygments_lexer": "ipython3",
   "version": "3.6.8"
  }
 },
 "nbformat": 4,
 "nbformat_minor": 5
}
