{
 "cells": [
  {
   "cell_type": "markdown",
   "id": "nervous-sight",
   "metadata": {},
   "source": [
    "# Using !-string and #-string commands\n",
    "\n",
    "## !-strings are for setting simulation parameters\n",
    "\n",
    "!-strings are a convenient way of accessing multiple layers of a nested dictionary structure with a single string using the format:\n",
    "\n",
    "    \"!<ALIAS>.<sub-dict>...<sub-dict>.<param>\"\n",
    "    \n",
    "Any level of the nested dictionary can be reached by truncating the keyword.\n",
    "\n",
    "**Note: !-strings only work on `UserCommands` objects**\n",
    "\n",
    "Below is an example of how to use !-strings, using the example optical train."
   ]
  },
  {
   "cell_type": "code",
   "execution_count": 1,
   "id": "loved-franchise",
   "metadata": {},
   "outputs": [],
   "source": [
    "import scopesim as sim\n",
    "opt = sim.load_example_optical_train()"
   ]
  },
  {
   "cell_type": "code",
   "execution_count": 2,
   "id": "uniform-cursor",
   "metadata": {},
   "outputs": [
    {
     "data": {
      "text/plain": [
       "{'background': {'filter_name': 'J', 'value': 16.6, 'unit': 'mag'},\n",
       " 'element_name': 'basic_atmosphere'}"
      ]
     },
     "execution_count": 2,
     "metadata": {},
     "output_type": "execute_result"
    }
   ],
   "source": [
    "opt.cmds[\"!ATMO\"]"
   ]
  },
  {
   "cell_type": "code",
   "execution_count": 3,
   "id": "domestic-chemical",
   "metadata": {},
   "outputs": [
    {
     "data": {
      "text/plain": [
       "{'filter_name': 'J', 'value': 16.6, 'unit': 'mag'}"
      ]
     },
     "execution_count": 3,
     "metadata": {},
     "output_type": "execute_result"
    }
   ],
   "source": [
    "opt.cmds[\"!ATMO.background\"]"
   ]
  },
  {
   "cell_type": "code",
   "execution_count": 4,
   "id": "earned-indicator",
   "metadata": {},
   "outputs": [
    {
     "data": {
      "text/plain": [
       "'J'"
      ]
     },
     "execution_count": 4,
     "metadata": {},
     "output_type": "execute_result"
    }
   ],
   "source": [
    "opt.cmds[\"!ATMO.background.filter_name\"]"
   ]
  },
  {
   "cell_type": "markdown",
   "id": "selected-backup",
   "metadata": {},
   "source": [
    "## #-strings are for accessing Effect object parameters\n",
    "\n",
    "Similar to !-strings, #-strings allow us to get at the preset values inside the Effect-objects of the optical system. #-strings allow us to pring the contents of an effect's meta dictionary.\n",
    "\n",
    "**Note: !-strings only work on `OpticalTrain` objects**\n",
    "\n",
    "Here, we're again using the example optical train defined above. First let's list the effects:"
   ]
  },
  {
   "cell_type": "code",
   "execution_count": 5,
   "id": "hydraulic-astrology",
   "metadata": {},
   "outputs": [
    {
     "data": {
      "text/html": [
       "<div><i>Table length=18</i>\n",
       "<table id=\"table2372570941136\" class=\"table-striped table-bordered table-condensed\">\n",
       "<thead><tr><th>element</th><th>name</th><th>class</th><th>included</th></tr></thead>\n",
       "<thead><tr><th>str16</th><th>str22</th><th>str29</th><th>bool</th></tr></thead>\n",
       "<tr><td>basic_atmosphere</td><td>atmospheric_radiometry</td><td>AtmosphericTERCurve</td><td>True</td></tr>\n",
       "<tr><td>basic_telescope</td><td>psf</td><td>SeeingPSF</td><td>True</td></tr>\n",
       "<tr><td>basic_telescope</td><td>telescope_reflection</td><td>TERCurve</td><td>True</td></tr>\n",
       "<tr><td>basic_instrument</td><td>static_surfaces</td><td>SurfaceList</td><td>True</td></tr>\n",
       "<tr><td>basic_instrument</td><td>filter_wheel : [J]</td><td>FilterWheel</td><td>True</td></tr>\n",
       "<tr><td>basic_instrument</td><td>slit_wheel : [narrow]</td><td>SlitWheel</td><td>False</td></tr>\n",
       "<tr><td>basic_instrument</td><td>image_slicer</td><td>ApertureList</td><td>False</td></tr>\n",
       "<tr><td>basic_detector</td><td>detector_window</td><td>DetectorWindow</td><td>True</td></tr>\n",
       "<tr><td>basic_detector</td><td>qe_curve</td><td>QuantumEfficiencyCurve</td><td>True</td></tr>\n",
       "<tr><td>basic_detector</td><td>exposure_action</td><td>SummedExposure</td><td>True</td></tr>\n",
       "<tr><td>basic_detector</td><td>dark_current</td><td>DarkCurrent</td><td>True</td></tr>\n",
       "<tr><td>basic_detector</td><td>shot_noise</td><td>ShotNoise</td><td>True</td></tr>\n",
       "<tr><td>basic_detector</td><td>detector_linearity</td><td>LinearityCurve</td><td>True</td></tr>\n",
       "<tr><td>basic_detector</td><td>readout_noise</td><td>PoorMansHxRGReadoutNoise</td><td>True</td></tr>\n",
       "<tr><td>basic_detector</td><td>source_fits_keywords</td><td>SourceDescriptionFitsKeywords</td><td>True</td></tr>\n",
       "<tr><td>basic_detector</td><td>effects_fits_keywords</td><td>EffectsMetaKeywords</td><td>True</td></tr>\n",
       "<tr><td>basic_detector</td><td>config_fits_keywords</td><td>SimulationConfigFitsKeywords</td><td>True</td></tr>\n",
       "<tr><td>basic_detector</td><td>extra_fits_keywords</td><td>ExtraFitsKeywords</td><td>True</td></tr>\n",
       "</table></div>"
      ],
      "text/plain": [
       "<Table length=18>\n",
       "    element               name                      class             included\n",
       "     str16               str22                      str29               bool  \n",
       "---------------- ---------------------- ----------------------------- --------\n",
       "basic_atmosphere atmospheric_radiometry           AtmosphericTERCurve     True\n",
       " basic_telescope                    psf                     SeeingPSF     True\n",
       " basic_telescope   telescope_reflection                      TERCurve     True\n",
       "basic_instrument        static_surfaces                   SurfaceList     True\n",
       "basic_instrument     filter_wheel : [J]                   FilterWheel     True\n",
       "basic_instrument  slit_wheel : [narrow]                     SlitWheel    False\n",
       "basic_instrument           image_slicer                  ApertureList    False\n",
       "  basic_detector        detector_window                DetectorWindow     True\n",
       "  basic_detector               qe_curve        QuantumEfficiencyCurve     True\n",
       "  basic_detector        exposure_action                SummedExposure     True\n",
       "  basic_detector           dark_current                   DarkCurrent     True\n",
       "  basic_detector             shot_noise                     ShotNoise     True\n",
       "  basic_detector     detector_linearity                LinearityCurve     True\n",
       "  basic_detector          readout_noise      PoorMansHxRGReadoutNoise     True\n",
       "  basic_detector   source_fits_keywords SourceDescriptionFitsKeywords     True\n",
       "  basic_detector  effects_fits_keywords           EffectsMetaKeywords     True\n",
       "  basic_detector   config_fits_keywords  SimulationConfigFitsKeywords     True\n",
       "  basic_detector    extra_fits_keywords             ExtraFitsKeywords     True"
      ]
     },
     "execution_count": 5,
     "metadata": {},
     "output_type": "execute_result"
    }
   ],
   "source": [
    "opt.effects"
   ]
  },
  {
   "cell_type": "markdown",
   "id": "paperback-outreach",
   "metadata": {},
   "source": [
    "We list the meta dictionary contents by using the string format \n",
    "\n",
    "    \"#<effect-name>.\"\n",
    "    \n",
    "**Note: The `.` at the end is important, otherwise the optical train will look for a non-existant effect named `#<effect-name>`**"
   ]
  },
  {
   "cell_type": "code",
   "execution_count": 6,
   "id": "exterior-romania",
   "metadata": {},
   "outputs": [
    {
     "data": {
      "text/plain": [
       "{'filename': None,\n",
       " 'description': 'Summing up sky signal for all DITs and NDITs',\n",
       " 'history': [],\n",
       " 'name': 'exposure_action',\n",
       " 'image_plane_id': 0,\n",
       " 'temperature': -230,\n",
       " 'dit': '!OBS.dit',\n",
       " 'ndit': '!OBS.ndit',\n",
       " 'width': 1024,\n",
       " 'height': 1024,\n",
       " 'x': 0,\n",
       " 'y': 0,\n",
       " 'element_name': 'basic_detector',\n",
       " 'z_order': [860],\n",
       " 'include': True}"
      ]
     },
     "execution_count": 6,
     "metadata": {},
     "output_type": "execute_result"
    }
   ],
   "source": [
    "opt[\"#exposure_action.\"]"
   ]
  },
  {
   "cell_type": "markdown",
   "id": "invisible-contrary",
   "metadata": {},
   "source": [
    "We print a specific meta parameter by adding it after the `.`"
   ]
  },
  {
   "cell_type": "code",
   "execution_count": 7,
   "id": "independent-benjamin",
   "metadata": {},
   "outputs": [
    {
     "data": {
      "text/plain": [
       "'!OBS.ndit'"
      ]
     },
     "execution_count": 7,
     "metadata": {},
     "output_type": "execute_result"
    }
   ],
   "source": [
    "opt[\"#exposure_action.ndit\"]"
   ]
  },
  {
   "cell_type": "markdown",
   "id": "dying-appeal",
   "metadata": {},
   "source": [
    "Notice that the value of this dictionary entry is itself a !-string. We can resolve this by adding a `!` to the end of the string, to force it to get the actual value from `opt.cmds`:"
   ]
  },
  {
   "cell_type": "code",
   "execution_count": 8,
   "id": "internal-capital",
   "metadata": {},
   "outputs": [
    {
     "data": {
      "text/plain": [
       "1"
      ]
     },
     "execution_count": 8,
     "metadata": {},
     "output_type": "execute_result"
    }
   ],
   "source": [
    "opt[\"#exposure_action.ndit!\"]"
   ]
  }
 ],
 "metadata": {
  "kernelspec": {
   "display_name": "Python 3 (ipykernel)",
   "language": "python",
   "name": "python3"
  },
  "language_info": {
   "codemirror_mode": {
    "name": "ipython",
    "version": 3
   },
   "file_extension": ".py",
   "mimetype": "text/x-python",
   "name": "python",
   "nbconvert_exporter": "python",
   "pygments_lexer": "ipython3",
   "version": "3.9.16"
  }
 },
 "nbformat": 4,
 "nbformat_minor": 5
}
