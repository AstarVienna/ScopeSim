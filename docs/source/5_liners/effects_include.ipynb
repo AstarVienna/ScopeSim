{
 "cells": [
  {
   "cell_type": "markdown",
   "id": "supposed-princess",
   "metadata": {},
   "source": [
    "# Turning Effect objects on or off\n",
    "\n",
    "To list all the effects in an optical train, we do use the `effects` attribute.\n",
    "\n",
    "Alternatively, we can call `opt.optics_manager.all_effects()`"
   ]
  },
  {
   "cell_type": "code",
   "execution_count": 1,
   "id": "obvious-retention",
   "metadata": {},
   "outputs": [
    {
     "data": {
      "text/html": [
       "<div><i>Table length=18</i>\n",
       "<table id=\"table1818087320976\" class=\"table-striped table-bordered table-condensed\">\n",
       "<thead><tr><th>element</th><th>name</th><th>class</th><th>included</th></tr></thead>\n",
       "<thead><tr><th>str16</th><th>str22</th><th>str29</th><th>bool</th></tr></thead>\n",
       "<tr><td>basic_atmosphere</td><td>atmospheric_radiometry</td><td>AtmosphericTERCurve</td><td>True</td></tr>\n",
       "<tr><td>basic_telescope</td><td>psf</td><td>SeeingPSF</td><td>True</td></tr>\n",
       "<tr><td>basic_telescope</td><td>telescope_reflection</td><td>TERCurve</td><td>True</td></tr>\n",
       "<tr><td>basic_instrument</td><td>static_surfaces</td><td>SurfaceList</td><td>True</td></tr>\n",
       "<tr><td>basic_instrument</td><td>filter_wheel : [J]</td><td>FilterWheel</td><td>True</td></tr>\n",
       "<tr><td>basic_instrument</td><td>slit_wheel : [narrow]</td><td>SlitWheel</td><td>False</td></tr>\n",
       "<tr><td>basic_instrument</td><td>image_slicer</td><td>ApertureList</td><td>False</td></tr>\n",
       "<tr><td>basic_detector</td><td>detector_window</td><td>DetectorWindow</td><td>True</td></tr>\n",
       "<tr><td>basic_detector</td><td>qe_curve</td><td>QuantumEfficiencyCurve</td><td>True</td></tr>\n",
       "<tr><td>basic_detector</td><td>exposure_action</td><td>SummedExposure</td><td>True</td></tr>\n",
       "<tr><td>basic_detector</td><td>dark_current</td><td>DarkCurrent</td><td>True</td></tr>\n",
       "<tr><td>basic_detector</td><td>shot_noise</td><td>ShotNoise</td><td>True</td></tr>\n",
       "<tr><td>basic_detector</td><td>detector_linearity</td><td>LinearityCurve</td><td>True</td></tr>\n",
       "<tr><td>basic_detector</td><td>readout_noise</td><td>PoorMansHxRGReadoutNoise</td><td>True</td></tr>\n",
       "<tr><td>basic_detector</td><td>source_fits_keywords</td><td>SourceDescriptionFitsKeywords</td><td>True</td></tr>\n",
       "<tr><td>basic_detector</td><td>effects_fits_keywords</td><td>EffectsMetaKeywords</td><td>True</td></tr>\n",
       "<tr><td>basic_detector</td><td>config_fits_keywords</td><td>SimulationConfigFitsKeywords</td><td>True</td></tr>\n",
       "<tr><td>basic_detector</td><td>extra_fits_keywords</td><td>ExtraFitsKeywords</td><td>True</td></tr>\n",
       "</table></div>"
      ],
      "text/plain": [
       "<Table length=18>\n",
       "    element               name                      class             included\n",
       "     str16               str22                      str29               bool  \n",
       "---------------- ---------------------- ----------------------------- --------\n",
       "basic_atmosphere atmospheric_radiometry           AtmosphericTERCurve     True\n",
       " basic_telescope                    psf                     SeeingPSF     True\n",
       " basic_telescope   telescope_reflection                      TERCurve     True\n",
       "basic_instrument        static_surfaces                   SurfaceList     True\n",
       "basic_instrument     filter_wheel : [J]                   FilterWheel     True\n",
       "basic_instrument  slit_wheel : [narrow]                     SlitWheel    False\n",
       "basic_instrument           image_slicer                  ApertureList    False\n",
       "  basic_detector        detector_window                DetectorWindow     True\n",
       "  basic_detector               qe_curve        QuantumEfficiencyCurve     True\n",
       "  basic_detector        exposure_action                SummedExposure     True\n",
       "  basic_detector           dark_current                   DarkCurrent     True\n",
       "  basic_detector             shot_noise                     ShotNoise     True\n",
       "  basic_detector     detector_linearity                LinearityCurve     True\n",
       "  basic_detector          readout_noise      PoorMansHxRGReadoutNoise     True\n",
       "  basic_detector   source_fits_keywords SourceDescriptionFitsKeywords     True\n",
       "  basic_detector  effects_fits_keywords           EffectsMetaKeywords     True\n",
       "  basic_detector   config_fits_keywords  SimulationConfigFitsKeywords     True\n",
       "  basic_detector    extra_fits_keywords             ExtraFitsKeywords     True"
      ]
     },
     "execution_count": 1,
     "metadata": {},
     "output_type": "execute_result"
    }
   ],
   "source": [
    "import scopesim as sim\n",
    "\n",
    "opt = sim.load_example_optical_train()\n",
    "opt.effects"
   ]
  },
  {
   "cell_type": "markdown",
   "id": "enabling-tennis",
   "metadata": {},
   "source": [
    "Turning an effect on or off is as simple as using setting the `.include` attribute to `true` or `False`:"
   ]
  },
  {
   "cell_type": "code",
   "execution_count": 2,
   "id": "local-stations",
   "metadata": {},
   "outputs": [],
   "source": [
    "opt[\"slit_wheel\"].include = True\n",
    "opt[\"slit_wheel\"].include = False"
   ]
  },
  {
   "cell_type": "code",
   "execution_count": null,
   "id": "2302c803",
   "metadata": {},
   "outputs": [],
   "source": []
  }
 ],
 "metadata": {
  "kernelspec": {
   "display_name": "Python 3 (ipykernel)",
   "language": "python",
   "name": "python3"
  },
  "language_info": {
   "codemirror_mode": {
    "name": "ipython",
    "version": 3
   },
   "file_extension": ".py",
   "mimetype": "text/x-python",
   "name": "python",
   "nbconvert_exporter": "python",
   "pygments_lexer": "ipython3",
   "version": "3.9.16"
  }
 },
 "nbformat": 4,
 "nbformat_minor": 5
}
