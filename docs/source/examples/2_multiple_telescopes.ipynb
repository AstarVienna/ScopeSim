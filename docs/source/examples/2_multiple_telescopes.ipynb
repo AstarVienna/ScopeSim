{
 "cells": [
  {
   "cell_type": "markdown",
   "id": "bright-preparation",
   "metadata": {},
   "source": [
    "# 2: Observing the same object with multiple telescopes\n",
    "\n",
    "A brief introduction into using ScopeSim to observe a cluster in the LMC using the 39m ELT and the 1.5m LFOA\n",
    "\n",
    "First set up all relevant imports:"
   ]
  },
  {
   "cell_type": "code",
   "execution_count": null,
   "id": "hairy-information",
   "metadata": {},
   "outputs": [],
   "source": [
    "import matplotlib.pyplot as plt\n",
    "\n",
    "from scopesim import Simulation\n",
    "from scopesim_templates.stellar.clusters import cluster"
   ]
  },
  {
   "cell_type": "markdown",
   "id": "pursuant-crystal",
   "metadata": {},
   "source": [
    "## Create a star cluster ``Source`` object\n",
    "\n",
    "Now, create a star cluster using the scopesim_templates package. You can ignore the output that is sometimes printed. The seed argument is used to control the random number generation that creates the stars in the cluster. If this number is kept the same, the output will be consistent with each run, otherwise the position and brightness of the stars is randomised every time."
   ]
  },
  {
   "cell_type": "code",
   "execution_count": null,
   "id": "lasting-gender",
   "metadata": {},
   "outputs": [],
   "source": [
    "source = cluster(\n",
    "    mass=10000,       # Msun\n",
    "    distance=50000,   # parsec\n",
    "    core_radius=2.1,  # parsec\n",
    "    seed=9001,        # random number seed\n",
    ")"
   ]
  },
  {
   "cell_type": "markdown",
   "id": "rubber-norwegian",
   "metadata": {},
   "source": [
    "## Observe the source\n",
    "\n",
    "### Observe with the [1.5m telescope at the LFOA](https://foa.univie.ac.at/instrumentation/)\n",
    "\n",
    "<img src=https://foa.univie.ac.at/fileadmin/_processed_/csm_FOA-2_1e249577a3.jpg width=400, align=left>\n"
   ]
  },
  {
   "cell_type": "code",
   "execution_count": null,
   "id": "casual-strength",
   "metadata": {},
   "outputs": [],
   "source": [
    "lfoa = Simulation(\"LFOA\")\n",
    "data_lfoa = lfoa(source, dit=10, ndit=360)[1].data"
   ]
  },
  {
   "cell_type": "markdown",
   "id": "labeled-buying",
   "metadata": {},
   "source": [
    "### Observe the same ``Source`` with MICADO at the ELT\n",
    "\n",
    "<img src=https://astro.univie.ac.at/fileadmin/user_upload/i_astro/Aktuelles-News/2021/The_E-ELT.jpeg width=400 align=left>"
   ]
  },
  {
   "cell_type": "code",
   "execution_count": null,
   "id": "chinese-spirit",
   "metadata": {},
   "outputs": [],
   "source": [
    "micado = Simulation(\"MICADO\")\n",
    "# Use the central detector of the full MICADO array\n",
    "micado.optical_train[\"detector_window\"].include = False\n",
    "micado.optical_train[\"full_detector_array\"].include = True\n",
    "micado.optical_train[\"full_detector_array\"].meta[\"active_detectors\"] = [5]\n",
    "\n",
    "data_micado = micado(source, dit=10, ndit=360)[1].data"
   ]
  },
  {
   "cell_type": "markdown",
   "id": "infrared-angola",
   "metadata": {},
   "source": [
    "## Plot up the results\n",
    "\n",
    "LFOA has a larger field of view and a lower resolution than MICADO, so while LFOA shows the whole cluster, MICADO only shows the center."
   ]
  },
  {
   "cell_type": "code",
   "execution_count": null,
   "id": "directed-mother",
   "metadata": {},
   "outputs": [],
   "source": [
    "fig, (ax1, ax2) = plt.subplots(1, 2, figsize=(12, 5))\n",
    "\n",
    "img_lfoa = ax1.imshow(data_lfoa, norm=\"log\", origin=\"lower\")\n",
    "fig.colorbar(img_lfoa, ax=ax1)\n",
    "ax1.set_title(\"1.5m LFOA\")\n",
    "\n",
    "img_micado = ax2.imshow(data_micado, norm=\"log\", vmin=1e5, vmax=1e6, origin=\"lower\")\n",
    "fig.colorbar(img_micado, ax=ax2)\n",
    "ax2.set_title(\"39m ELT\")"
   ]
  },
  {
   "cell_type": "markdown",
   "id": "8ecd9a63-95b1-4b3b-8264-633b5b8bd09e",
   "metadata": {},
   "source": [
    "### Zoom in the LFOA observation\n",
    "\n",
    "We can use the pixel scale of LFOA and MICADO to cut out the exact piece of the LFOA observation that corresponds to the MICADO one."
   ]
  },
  {
   "cell_type": "code",
   "execution_count": null,
   "id": "43e63b25-f661-49c8-9f71-2a70ed34114b",
   "metadata": {},
   "outputs": [],
   "source": [
    "pixel_scale_lfoa = lfoa.settings[\"!INST.pixel_scale\"]\n",
    "pixel_scale_micado = micado.settings[\"!INST.pixel_scale\"]\n",
    "scale_factor = pixel_scale_lfoa / pixel_scale_micado\n",
    "\n",
    "size_lfoa_x = data_micado.shape[0] / scale_factor /2\n",
    "size_lfoa_y = data_micado.shape[1] / scale_factor /2\n",
    "\n",
    "xcen_lfoa = data_lfoa.shape[0] / 2\n",
    "ycen_lfoa = data_lfoa.shape[1] / 2\n",
    "\n",
    "x_low = round(xcen_lfoa - size_lfoa_x / 2)\n",
    "x_high = round(xcen_lfoa + size_lfoa_x / 2)\n",
    "y_low = round(ycen_lfoa - size_lfoa_y / 2)\n",
    "y_high = round(ycen_lfoa + size_lfoa_y / 2)"
   ]
  },
  {
   "cell_type": "code",
   "execution_count": null,
   "id": "b5abba5a-6740-42d4-8a59-c457d2ed2dde",
   "metadata": {},
   "outputs": [],
   "source": [
    "fig, (ax1, ax2) = plt.subplots(1, 2, figsize=(12, 5))\n",
    "\n",
    "img_lfoa = ax1.imshow(data_lfoa[x_low:x_high, y_low:y_high], norm=\"log\", origin=\"lower\")\n",
    "fig.colorbar(img_lfoa, ax=ax1)\n",
    "ax1.set_title(\"1.5m LFOA\")\n",
    "\n",
    "img_micado = ax2.imshow(data_micado, norm=\"log\", vmin=1e5, vmax=1e6, origin=\"lower\")\n",
    "fig.colorbar(img_micado, ax=ax2)\n",
    "ax2.set_title(\"39m ELT\")\n",
    "\n",
    "# fig.savefig(\"withfullarray.png\")"
   ]
  },
  {
   "cell_type": "code",
   "execution_count": null,
   "id": "e4c30619-8205-49f9-94d6-97a3e1e3f40c",
   "metadata": {},
   "outputs": [],
   "source": []
  }
 ],
 "metadata": {
  "kernelspec": {
   "display_name": "Python 3 (ipykernel)",
   "language": "python",
   "name": "python3"
  },
  "language_info": {
   "codemirror_mode": {
    "name": "ipython",
    "version": 3
   },
   "file_extension": ".py",
   "mimetype": "text/x-python",
   "name": "python",
   "nbconvert_exporter": "python",
   "pygments_lexer": "ipython3",
   "version": "3.12.7"
  },
  "nbsphinx": {
   "execute": "auto"
  }
 },
 "nbformat": 4,
 "nbformat_minor": 5
}
