{
 "cells": [
  {
   "cell_type": "markdown",
   "id": "bright-preparation",
   "metadata": {},
   "source": [
    "# 2: Observing the same object with multiple telescopes\n",
    "\n",
    "A brief introduction into using ScopeSim to observe a cluster in the LMC using the 39m ELT and the 1.5m LFOA\n",
    "\n",
    "*This is a step-by-step guide. The complete script can be found at the bottom of this page/notebook.*\n",
    "\n",
    "First set up all relevant imports:"
   ]
  },
  {
   "cell_type": "code",
   "execution_count": null,
   "id": "hairy-information",
   "metadata": {},
   "outputs": [],
   "source": [
    "import matplotlib.pyplot as plt\n",
    "from matplotlib.colors import LogNorm\n",
    "%matplotlib inline\n",
    "\n",
    "import scopesim as sim\n",
    "import scopesim_templates as sim_tp"
   ]
  },
  {
   "cell_type": "markdown",
   "id": "c29291e8",
   "metadata": {},
   "source": [
    "Scopesim works by using so-called instrument packages, which have to be downloaded separately. For normal use, you would set the package directory (a local folder path, `local_package_folder` in this example), download the required packages *once*, and then **remove the download command**."
   ]
  },
  {
   "cell_type": "code",
   "execution_count": null,
   "id": "0150da5d",
   "metadata": {},
   "outputs": [],
   "source": [
    "local_package_folder = \"./inst_pkgs\""
   ]
  },
  {
   "cell_type": "markdown",
   "id": "future-engineering",
   "metadata": {},
   "source": [
    "However, to be able to run this example on the *Readthedocs* page, we need to include a temporary directory.\n",
    "\n",
    "**Do not** copy and run this code locally, it is **only** needed to set things up for *Readthedocs*!"
   ]
  },
  {
   "cell_type": "code",
   "execution_count": null,
   "id": "98186ac1",
   "metadata": {},
   "outputs": [],
   "source": [
    "from tempfile import TemporaryDirectory\n",
    "local_package_folder = TemporaryDirectory().name"
   ]
  },
  {
   "cell_type": "markdown",
   "id": "fcb2790a",
   "metadata": {},
   "source": [
    "Download the packages for MICADO at the ELT and the viennese [1.5m telescope at the LFOA](https://foa.univie.ac.at/instrumentation/)\n",
    "\n",
    "Again, you would only need to do this **once**, not every time you run the rest of the script, assuming you set a (permanent) instrument package folder."
   ]
  },
  {
   "cell_type": "code",
   "execution_count": null,
   "id": "unexpected-appeal",
   "metadata": {},
   "outputs": [],
   "source": [
    "sim.rc.__config__[\"!SIM.file.local_packages_path\"] = local_package_folder\n",
    "sim.download_packages([\"Armazones\", \"ELT\", \"MICADO\", \"MORFEO\", \"LFOA\"])"
   ]
  },
  {
   "cell_type": "markdown",
   "id": "pursuant-crystal",
   "metadata": {},
   "source": [
    "## Create a star cluster ``Source`` object\n",
    "\n",
    "Now, create a star cluster using the scopesim_templates package. You can ignore the output that is sometimes printed. The seed argument is used to control the random number generation that creates the stars in the cluster. If this number is kept the same, the output will be consistent with each run, otherwise the position and brightness of the stars is randomised every time."
   ]
  },
  {
   "cell_type": "code",
   "execution_count": null,
   "id": "lasting-gender",
   "metadata": {},
   "outputs": [],
   "source": [
    "cluster = sim_tp.stellar.clusters.cluster(mass=10000,        # Msun\n",
    "                                          distance=50000,    # parsec\n",
    "                                          core_radius=2.1,   # parsec\n",
    "                                          seed=9001)         # random seed"
   ]
  },
  {
   "cell_type": "markdown",
   "id": "rubber-norwegian",
   "metadata": {},
   "source": [
    "## Observe with the [1.5m telescope at the LFOA](https://foa.univie.ac.at/instrumentation/)\n",
    "\n",
    "<img src=https://foa.univie.ac.at/fileadmin/_processed_/csm_FOA-2_1e249577a3.jpg width=400, align=left>\n"
   ]
  },
  {
   "cell_type": "code",
   "execution_count": null,
   "id": "casual-strength",
   "metadata": {},
   "outputs": [],
   "source": [
    "lfoa = sim.OpticalTrain(\"LFOA\")\n",
    "lfoa.observe(cluster,\n",
    "             properties={\"!OBS.ndit\": 10, \"!OBS.ndit\": 360},\n",
    "             update=True)\n",
    "hdus_lfoa = lfoa.readout()\n",
    "data_lfoa = hdus_lfoa[0][1].data"
   ]
  },
  {
   "cell_type": "markdown",
   "id": "labeled-buying",
   "metadata": {},
   "source": [
    "## Observe the same ``Source`` with MICADO at the ELT\n",
    "\n",
    "<img src=https://astro.univie.ac.at/fileadmin/user_upload/i_astro/Aktuelles-News/2021/The_E-ELT.jpeg width=400 align=left>"
   ]
  },
  {
   "cell_type": "code",
   "execution_count": null,
   "id": "chinese-spirit",
   "metadata": {},
   "outputs": [],
   "source": [
    "micado = sim.OpticalTrain(\"MICADO\")\n",
    "# Use the central detector of the full MICADO array\n",
    "micado[\"detector_window\"].include = False\n",
    "micado[\"full_detector_array\"].include = True\n",
    "micado[\"full_detector_array\"].meta[\"active_detectors\"] = [5]\n",
    "micado.cmds[\"!OBS.dit\"] = 10\n",
    "micado.cmds[\"!OBS.ndit\"] = 360\n",
    "micado.update()\n",
    "\n",
    "micado.observe(cluster)\n",
    "hdus_micado = micado.readout()\n",
    "data_micado = hdus_micado[0][1].data"
   ]
  },
  {
   "cell_type": "code",
   "execution_count": null,
   "id": "d959ea6d-60e4-485e-a7ed-e542e03f4399",
   "metadata": {},
   "outputs": [],
   "source": [
    "data_micado = hdus_micado[0][1].data\n",
    "data_lfoa = hdus_lfoa[0][1].data"
   ]
  },
  {
   "cell_type": "code",
   "execution_count": null,
   "id": "bbdd9702-6803-4ac6-a8ea-8e078ca17ddf",
   "metadata": {},
   "outputs": [],
   "source": [
    "data_lfoa.shape"
   ]
  },
  {
   "cell_type": "markdown",
   "id": "infrared-angola",
   "metadata": {},
   "source": [
    "# Plot up the results\n",
    "\n",
    "LFOA has a larger field of view and a lower resolution than MICADO, so while LFOA shows the whole cluster, MICADO only shows the center."
   ]
  },
  {
   "cell_type": "code",
   "execution_count": null,
   "id": "directed-mother",
   "metadata": {},
   "outputs": [],
   "source": [
    "plt.figure(figsize=(12,5))\n",
    "\n",
    "plt.subplot(121)\n",
    "plt.imshow(data_lfoa, norm=LogNorm(), origin=\"lower\")\n",
    "plt.colorbar()\n",
    "plt.title(\"1.5m LFOA\")\n",
    "\n",
    "plt.subplot(122)\n",
    "plt.imshow(data_micado, norm=LogNorm(vmax=1E6, vmin=1e5), origin=\"lower\")\n",
    "plt.colorbar()\n",
    "plt.title(\"39m ELT\")"
   ]
  },
  {
   "cell_type": "markdown",
   "id": "8ecd9a63-95b1-4b3b-8264-633b5b8bd09e",
   "metadata": {},
   "source": [
    "# Zoom in the LFOA observation\n",
    "\n",
    "We can use the pixel scale of LFOA and MICADO to cut out the exact piece of the LFOA observation that corresponds to the MICADO one."
   ]
  },
  {
   "cell_type": "code",
   "execution_count": null,
   "id": "43e63b25-f661-49c8-9f71-2a70ed34114b",
   "metadata": {},
   "outputs": [],
   "source": [
    "pixel_scale_lfoa = lfoa.cmds[\"!INST.pixel_scale\"]\n",
    "pixel_scale_micado = micado.cmds[\"!INST.pixel_scale\"]\n",
    "scale_factor = pixel_scale_lfoa / pixel_scale_micado\n",
    "\n",
    "size_lfoa_x = data_micado.shape[0] / scale_factor /2\n",
    "size_lfoa_y = data_micado.shape[1] / scale_factor /2\n",
    "\n",
    "xcen_lfoa = data_lfoa.shape[0] / 2\n",
    "ycen_lfoa = data_lfoa.shape[1] / 2\n",
    "\n",
    "x_low = round(xcen_lfoa - size_lfoa_x / 2)\n",
    "x_high = round(xcen_lfoa + size_lfoa_x / 2)\n",
    "y_low = round(ycen_lfoa - size_lfoa_y / 2)\n",
    "y_high = round(ycen_lfoa + size_lfoa_y / 2)"
   ]
  },
  {
   "cell_type": "code",
   "execution_count": null,
   "id": "b5abba5a-6740-42d4-8a59-c457d2ed2dde",
   "metadata": {},
   "outputs": [],
   "source": [
    "plt.figure(figsize=(12,5))\n",
    "\n",
    "plt.subplot(121)\n",
    "plt.imshow(hdus_lfoa[0][1].data[x_low:x_high, y_low:y_high], norm=LogNorm(), origin=\"lower\")\n",
    "plt.colorbar()\n",
    "plt.title(\"1.5m LFOA\")\n",
    "\n",
    "plt.subplot(122)\n",
    "plt.imshow(hdus_micado[0][1].data, norm=LogNorm(vmax=1E6, vmin=1e5), origin=\"lower\")\n",
    "plt.colorbar()\n",
    "plt.title(\"39m ELT\")\n",
    "plt.savefig(\"withfullarray.png\")"
   ]
  }
 ],
 "metadata": {
  "kernelspec": {
   "display_name": "Python 3 (ipykernel)",
   "language": "python",
   "name": "python3"
  },
  "language_info": {
   "codemirror_mode": {
    "name": "ipython",
    "version": 3
   },
   "file_extension": ".py",
   "mimetype": "text/x-python",
   "name": "python",
   "nbconvert_exporter": "python",
   "pygments_lexer": "ipython3",
   "version": "3.12.2"
  },
  "nbsphinx": {
   "execute": "auto"
  }
 },
 "nbformat": 4,
 "nbformat_minor": 5
}
