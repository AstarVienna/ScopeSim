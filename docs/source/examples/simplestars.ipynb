{
 "cells": [
  {
   "cell_type": "markdown",
   "id": "educational-angel",
   "metadata": {},
   "source": [
    "# Astrometric observation simulations with MICADO and SCAO\n",
    "\n",
    "In this eample we demonstate the sub-pixel precision of ScopeSim simulation by creating a grid of moving stars and simulating observations of two epochs.\n",
    "The second part then applies the same workflow to the motions of stars in a star cluster.\n",
    "For the sake of computational speed we use the ``MICADO`` package.\n",
    "We use the wide-field mode (4 mas / pixel) so that the sub-pixel motions of the stars are visible in the flux distribution of the PSF cores."
   ]
  },
  {
   "cell_type": "code",
   "execution_count": 1,
   "id": "dangerous-civilization",
   "metadata": {},
   "outputs": [],
   "source": [
    "%matplotlib inline\n",
    "import datetime\n",
    "import numpy as np\n",
    "import matplotlib.pyplot as plt\n",
    "from matplotlib.colors import LogNorm\n",
    "from astropy import units as u\n",
    "import yaml\n",
    "from pprint import pprint\n",
    "import copy\n",
    "from astropy.io import fits\n",
    "\n",
    "import scopesim as sim\n",
    "import scopesim_templates as sim_tp"
   ]
  },
  {
   "cell_type": "markdown",
   "id": "friendly-quest",
   "metadata": {},
   "source": [
    "## Set up a source with 1 star\n",
    "\n",
    "For the first part of this exercise we create a grid of stars seperated by 32 mas.\n",
    "The ``ScopeSim_templates`` pacakge has a helper function for making griods of stars in the ``basic.stars`` submodule:"
   ]
  },
  {
   "cell_type": "code",
   "execution_count": 2,
   "id": "appreciated-english",
   "metadata": {},
   "outputs": [
    {
     "name": "stdout",
     "output_type": "stream",
     "text": [
      "['A0V']\n"
     ]
    },
    {
     "data": {
      "text/plain": [
       "<matplotlib.collections.PathCollection at 0x7fd55575d010>"
      ]
     },
     "execution_count": 2,
     "metadata": {},
     "output_type": "execute_result"
    },
    {
     "data": {
      "image/png": "[encoded data removed]",
      "text/plain": [
       "<Figure size 640x480 with 1 Axes>"
      ]
     },
     "metadata": {},
     "output_type": "display_data"
    }
   ],
   "source": [
    "stars = sim_tp.star_grid(n=1, mmin=15, mmax=15, filter_name=\"Ks\", separation=0.032)\n",
    "\n",
    "plt.scatter(stars.fields[0][\"x\"], stars.fields[0][\"y\"])"
   ]
  },
  {
   "cell_type": "code",
   "execution_count": 3,
   "id": "5bfde5b0-43f7-44d0-93d2-c69e30929434",
   "metadata": {},
   "outputs": [],
   "source": [
    "yaml_detector_odd = {\n",
    "    'alias': 'DET',\n",
    "    'description': 'The detector and electronic properties and effects',\n",
    "    'name': 'basic_detector',\n",
    "    'object': 'detector',\n",
    "    'properties': {\n",
    "        'dit': '!OBS.dit',\n",
    "        'image_plane_id': 0,\n",
    "        'ndit': '!OBS.ndit',\n",
    "        'temperature': -230,\n",
    "        'width': 11,\n",
    "        'height': 11,\n",
    "        'x': 0,\n",
    "        'y': 0,\n",
    "    },\n",
    "    'effects': [{\n",
    "        'name': 'detector_window',\n",
    "        'class': 'DetectorWindow',\n",
    "        'description': 'Cut-out of the focal plane image with custom dimensions and coordinates',\n",
    "        'kwargs': {\n",
    "            'height': '!DET.height',\n",
    "            'image_plane_id': 0,\n",
    "            'pixel_size': 0.01,\n",
    "            'units': 'pixel',\n",
    "            'width': '!DET.width',\n",
    "            'x': '!DET.x',\n",
    "            'y': '!DET.y',\n",
    "        },\n",
    "    }],\n",
    "}\n",
    "\n",
    "yaml_detector_even = copy.deepcopy(yaml_detector_odd)\n",
    "yaml_detector_even[\"properties\"][\"width\"] = 12\n",
    "yaml_detector_even[\"properties\"][\"height\"] = 12\n",
    "\n"
   ]
  },
  {
   "cell_type": "code",
   "execution_count": 4,
   "id": "0d3ea253-2bbc-451d-b085-e1415203dbce",
   "metadata": {},
   "outputs": [],
   "source": [
    "yaml_instrument = {\n",
    "    \"object\": \"instrument\",\n",
    "    \"alias\": \"INST\",\n",
    "    \"name\": \"basic_instrument\",\n",
    "    \"description\": \"Effects from the common optics\",\n",
    "    \n",
    "    \"properties\": {\n",
    "        \"temperature\": -190.,\n",
    "        \"pixel_scale\": 0.2,       # arcsec / pixel\n",
    "        \"plate_scale\": 20.,        # arcsec / mm\n",
    "        # \"pixel_size\": 0.01,    # mm / pixel\n",
    "    },\n",
    "    \n",
    "    \"effects\": [{\n",
    "        \"name\": \"static_surfaces\",\n",
    "        \"description\": \"surfaces list for common optics\",\n",
    "        \"class\": \"SurfaceList\",\n",
    "        \"kwargs\": {\n",
    "            # \"filename\": \"INS_common_optics.dat\",\n",
    "            \"array_dict\": {\n",
    "                \"name\": [\"entr_window\"],\n",
    "                \"outer\": [0.5],\n",
    "                \"inner\": [0.0],\n",
    "                \"angle\": [0.0],\n",
    "                \"temperature\": [7.0],\n",
    "                \"action\": [\"transmission\"],\n",
    "                \"filename\": [\"INS_unity_trans.dat\"],\n",
    "            },\n",
    "        },\n",
    "    }],\n",
    "}"
   ]
  },
  {
   "cell_type": "code",
   "execution_count": 5,
   "id": "9557ce59-ca43-486c-8845-75907f424d66",
   "metadata": {},
   "outputs": [],
   "source": [
    "yaml_telescope = {\n",
    "    \"object\": \"telescope\",\n",
    "    \"alias\": \"TEL\",\n",
    "    \"name\": \"basic_telescope\",\n",
    "    \"description\": \"The telescope\",\n",
    "    \n",
    "    \"properties\": {\n",
    "        \"temperature\": 0.,\n",
    "    },\n",
    "    \n",
    "    \"effects\": [{\n",
    "        \"name\": \"psf\",\n",
    "        \"description\": \"Seeing limited PSF\",\n",
    "        \"class\": \"SeeingPSF\",\n",
    "        \"kwargs\": {\n",
    "            \"fwhm\": \"!OBS.psf_fwhm\", # [arcsec]\n",
    "        },\n",
    "    }],\n",
    "}"
   ]
  },
  {
   "cell_type": "code",
   "execution_count": 6,
   "id": "d2a1c459-2644-48e4-8c9c-184f52f9ca91",
   "metadata": {},
   "outputs": [],
   "source": [
    "yaml_telescope_fieldconstantpsf = {\n",
    "    \"object\": \"telescope\",\n",
    "    \"alias\": \"TEL\",\n",
    "    \"name\": \"basic_telescope\",\n",
    "    \"description\": \"The telescope\",\n",
    "    \n",
    "    \"properties\": {\n",
    "        \"temperature\": 0.,\n",
    "    },\n",
    "    \n",
    "    \"effects\": [{\n",
    "        \"name\": \"psf\",\n",
    "        \"description\": \"Copy of Seeing limited PSF\",\n",
    "        \"class\": \"FieldConstantPSF\",\n",
    "        \"kwargs\": {\n",
    "            \"filename\": \"seeingpsfinput.fits\", # Created below\n",
    "        },\n",
    "    }],\n",
    "}"
   ]
  },
  {
   "cell_type": "markdown",
   "id": "lesser-attraction",
   "metadata": {},
   "source": [
    "## Set up the MICADO system for SCAO 4mas Pa-beta observations\n",
    "\n",
    "The next step is to set up the ``MICADO`` optical system using the ``SCAO`` and wide-field optics (``IMG_4mas``) modes.\n",
    "As we know in advance that we want to use the Pa-Beta filter, we can set this parameter by passing a dictionary to the ``properties=`` keyword.\n",
    "\n",
    "Additionally, we are only interested in a small section of the detector around where the 4 stars will be located.\n",
    "We can therefore set our Detector to only read out the desired window area.\n",
    "The required \"!-bang\" string keywords for this are ``!DET.width`` and ``!DET.height`` (given in units of pixels).\n",
    "\n",
    "As we are interested in the sub-pixel movements of the stars, it is also important to set the ``!SIM.sub_pixel.flag`` to True\n",
    "\n",
    "Given that we are observing at a non-standard broadband filter, we need to instruct the ``OpticalTrain`` to adjust the PSF strehl ratio.\n",
    "This is done with the ``!INST.psf`` dictionary."
   ]
  },
  {
   "cell_type": "code",
   "execution_count": 7,
   "id": "807d48f3-8b6d-43e5-9dd6-3986c4e9b91d",
   "metadata": {},
   "outputs": [],
   "source": [
    "observation_dict_without_sub_pixel = {\n",
    "    \"!OBS.filter_name_pupil\": \"Pa-beta\",\n",
    "    \"!OBS.filter_name_fw1\": \"open\",\n",
    "    \"!OBS.filter_name_fw2\": \"open\", \n",
    "    \"!INST.filter_name\": \"Pa-beta\",\n",
    "    \"!OBS.ndit\": 20, \n",
    "    \"!OBS.dit\": 3,\n",
    "    \"!OBS.exptime\": 60,\n",
    "\n",
    "    \"!OBS.instrument\": \"MICADO\",\n",
    "    \"!OBS.catg\": \"SCIENCE\",\n",
    "    \"!OBS.tech\": \"IMAGE\",\n",
    "    \"!OBS.type\": \"OBJECT\",\n",
    "    \"!OBS.mjdobs\": datetime.datetime(2022, 1, 1, 2, 30, 0),\n",
    "\n",
    "\n",
    "    \"!OBS.psf_fwhm\": 1.5,             # [arcsec]\n",
    "    \"!OBS.slit_name\": \"narrow\",\n",
    "\n",
    "    \"!OBS.include_slit\": False,\n",
    "    \"!OBS.include_slicer\": False,\n",
    "    \"!OBS.filter_name\": \"J\",\n",
    "\n",
    "    \"!TEL.temperature\": 7.0,\n",
    "\n",
    "    \"!INST.temperature\": -190,\n",
    "    \"!INST.pixel_scale\": 0.2,       # arcsec / pixel\n",
    "    \"!INST.plate_scale\": 20,        # arcsec / mm\n",
    "\n",
    "    \"!OBS.modes\": [\"imaging\"],\n",
    "    \"!TEL.telescope\": \"EvLT\",\n",
    "    \"!ATMO.location\": \"Here\",\n",
    "\n",
    "    # sub_pixel.flag also moves by half a pixel\n",
    "    \"!SIM.sub_pixel.flag\": False,\n",
    "    # \"!SIM.sub_pixel.flag\": True,\n",
    "}\n",
    "\n",
    "observation_dict_with_sub_pixel = copy.copy(observation_dict_without_sub_pixel)\n",
    "observation_dict_with_sub_pixel[\"!SIM.sub_pixel.flag\"] = True"
   ]
  },
  {
   "cell_type": "code",
   "execution_count": null,
   "id": "c6f6a348-8044-4465-a6b0-b29195149f32",
   "metadata": {},
   "outputs": [],
   "source": []
  },
  {
   "cell_type": "code",
   "execution_count": null,
   "id": "cfc907cd-6991-4cd8-9151-ed6b9cccf3a4",
   "metadata": {},
   "outputs": [],
   "source": []
  },
  {
   "cell_type": "code",
   "execution_count": null,
   "id": "41c8b534-40e5-4069-bdfa-aab414110f5e",
   "metadata": {},
   "outputs": [],
   "source": []
  },
  {
   "cell_type": "code",
   "execution_count": null,
   "id": "4c25a8a3-ca4a-4316-a946-e2b04f4c2be6",
   "metadata": {},
   "outputs": [],
   "source": []
  },
  {
   "cell_type": "markdown",
   "id": "ecf0529e-f930-4a63-97fe-7b474308be97",
   "metadata": {},
   "source": [
    "# Odd number of pixels, no sub pixels"
   ]
  },
  {
   "cell_type": "code",
   "execution_count": 8,
   "id": "df51a77b-3060-4639-adc4-d3f73ce17e00",
   "metadata": {},
   "outputs": [],
   "source": [
    "yaml_detector = yaml_detector_odd"
   ]
  },
  {
   "cell_type": "code",
   "execution_count": 9,
   "id": "b591c21c-9d4f-4b59-bfd1-f6ee11985e25",
   "metadata": {},
   "outputs": [],
   "source": [
    "observation_dict = observation_dict_without_sub_pixel"
   ]
  },
  {
   "cell_type": "markdown",
   "id": "6ed1ff73-0fe5-4606-a2a2-96c79b6f9b0c",
   "metadata": {},
   "source": [
    "## Point source, no PSF"
   ]
  },
  {
   "cell_type": "code",
   "execution_count": 10,
   "id": "fb715953-fabd-44bb-ba48-9f85cd7445da",
   "metadata": {},
   "outputs": [],
   "source": [
    "cmd = sim.UserCommands(\n",
    "    yamls = [\n",
    "        # yaml_telescope,\n",
    "\n",
    "        yaml_instrument,\n",
    "\n",
    "        yaml_detector,\n",
    "    ],\n",
    "    \n",
    "    properties=copy.deepcopy(observation_dict),\n",
    ")\n",
    "micado = sim.OpticalTrain(cmd)\n",
    "micado.observe(stars)\n",
    "hdus_pointsource = micado.readout()\n"
   ]
  },
  {
   "cell_type": "code",
   "execution_count": 11,
   "id": "fe8e7ead-86b7-414e-bd46-99b9ab752202",
   "metadata": {},
   "outputs": [
    {
     "data": {
      "text/plain": [
       "<matplotlib.image.AxesImage at 0x7fd55546c4d0>"
      ]
     },
     "execution_count": 11,
     "metadata": {},
     "output_type": "execute_result"
    },
    {
     "data": {
      "image/png": "[encoded data removed]",
      "text/plain": [
       "<Figure size 1000x1000 with 1 Axes>"
      ]
     },
     "metadata": {},
     "output_type": "display_data"
    }
   ],
   "source": [
    "plt.figure(figsize=(10,10))\n",
    "plt.imshow(hdus_pointsource[0][1].data)"
   ]
  },
  {
   "cell_type": "markdown",
   "id": "114c37a9-cba9-4db2-974f-40f7c477a143",
   "metadata": {},
   "source": [
    "## SeeingPSF"
   ]
  },
  {
   "cell_type": "code",
   "execution_count": 12,
   "id": "a4337de7-5801-4fe6-9c78-9ad5245803d4",
   "metadata": {},
   "outputs": [],
   "source": [
    "cmd = sim.UserCommands(\n",
    "    yamls = [\n",
    "        yaml_telescope,\n",
    "\n",
    "        yaml_instrument,\n",
    "\n",
    "        yaml_detector,\n",
    "    ],\n",
    "    \n",
    "    properties=copy.deepcopy(observation_dict),\n",
    ")\n",
    "micado = sim.OpticalTrain(cmd)\n",
    "micado.observe(stars)\n",
    "hdus_seeingpsf = micado.readout(filename=\"seeingpsf.fits\")\n"
   ]
  },
  {
   "cell_type": "code",
   "execution_count": null,
   "id": "6988c171-0938-40df-9656-e1b6bedc0283",
   "metadata": {},
   "outputs": [],
   "source": []
  },
  {
   "cell_type": "code",
   "execution_count": 13,
   "id": "6073aac2-d6be-4016-a8ee-d4bc90a2e0ad",
   "metadata": {},
   "outputs": [
    {
     "data": {
      "text/plain": [
       "<matplotlib.image.AxesImage at 0x7fd5554b8990>"
      ]
     },
     "execution_count": 13,
     "metadata": {},
     "output_type": "execute_result"
    },
    {
     "data": {
      "image/png": "[encoded data removed]",
      "text/plain": [
       "<Figure size 1000x1000 with 1 Axes>"
      ]
     },
     "metadata": {},
     "output_type": "display_data"
    }
   ],
   "source": [
    "plt.figure(figsize=(10,10))\n",
    "plt.imshow(hdus_seeingpsf[0][1].data, norm=LogNorm())"
   ]
  },
  {
   "cell_type": "code",
   "execution_count": 14,
   "id": "86c63829-fce5-4894-affc-5ca3dfd4c996",
   "metadata": {},
   "outputs": [],
   "source": [
    "hdus = fits.open(\"seeingpsf.fits\")\n",
    "hdus[1].header[\"WAVE0\"] = 1.6\n",
    "hdus[1].header\n",
    "hdus.writeto(\"seeingpsfinput.fits\", overwrite=True)\n"
   ]
  },
  {
   "cell_type": "markdown",
   "id": "cf1635f3-3fae-414b-81e8-3bf7ffc58f3a",
   "metadata": {},
   "source": [
    "## FieldConstantPSF"
   ]
  },
  {
   "cell_type": "code",
   "execution_count": 15,
   "id": "96e03e1b-9537-46a5-a808-c8b287975e6f",
   "metadata": {},
   "outputs": [],
   "source": [
    "cmd = sim.UserCommands(\n",
    "    yamls = [\n",
    "        yaml_telescope_fieldconstantpsf,\n",
    "\n",
    "        yaml_instrument,\n",
    "\n",
    "        yaml_detector,\n",
    "    ],\n",
    "    \n",
    "    properties=copy.deepcopy(observation_dict),\n",
    ")\n",
    "cmd[\"!SIM.sub_pixel.flag\"]= False\n",
    "micado = sim.OpticalTrain(cmd)\n",
    "micado.observe(stars)\n",
    "hdus_fieldconstantpsf = micado.readout(filename=\"fieldconstantpsf.fits\")\n"
   ]
  },
  {
   "cell_type": "code",
   "execution_count": 16,
   "id": "a01ead6d-9561-49d6-a607-266f952e4022",
   "metadata": {},
   "outputs": [
    {
     "data": {
      "text/plain": [
       "<matplotlib.image.AxesImage at 0x7fd55549ff10>"
      ]
     },
     "execution_count": 16,
     "metadata": {},
     "output_type": "execute_result"
    },
    {
     "data": {
      "image/png": "[encoded data removed]",
      "text/plain": [
       "<Figure size 1000x1000 with 1 Axes>"
      ]
     },
     "metadata": {},
     "output_type": "display_data"
    }
   ],
   "source": [
    "plt.figure(figsize=(10,10))\n",
    "plt.imshow(hdus_fieldconstantpsf[0][1].data, norm=LogNorm())"
   ]
  },
  {
   "cell_type": "code",
   "execution_count": 17,
   "id": "776b52e1-b87a-4514-8020-a6de11f665f2",
   "metadata": {},
   "outputs": [
    {
     "data": {
      "text/plain": [
       "{1.1906045086230996,\n",
       " 1.1906045086230999,\n",
       " 1.1906045086231,\n",
       " 1.1906045086231003,\n",
       " 1.1906045086231005,\n",
       " 1.1906045086231007,\n",
       " 1.190604508623101,\n",
       " 1.1906045086231012}"
      ]
     },
     "execution_count": 17,
     "metadata": {},
     "output_type": "execute_result"
    }
   ],
   "source": [
    "set(hdus_fieldconstantpsf[0][1].data.flatten() / hdus_seeingpsf[0][1].data.flatten())"
   ]
  },
  {
   "cell_type": "code",
   "execution_count": 18,
   "id": "83216dd2-7f5a-4881-8b0e-1a694fb752ac",
   "metadata": {},
   "outputs": [],
   "source": [
    "# So shape is identical, but there is a 19% offset.\n"
   ]
  },
  {
   "cell_type": "markdown",
   "id": "59841162-b087-4726-81de-eabed85aa6dc",
   "metadata": {},
   "source": [
    "## Simulate Source without PSF"
   ]
  },
  {
   "cell_type": "code",
   "execution_count": 19,
   "id": "517d1c7a-8896-4ad1-b3a7-4cce213cb72f",
   "metadata": {},
   "outputs": [],
   "source": [
    "hdus = fits.open(\"seeingpsf.fits\")"
   ]
  },
  {
   "cell_type": "code",
   "execution_count": 20,
   "id": "04a4b93f-bc53-4eab-b9e4-82a17961a0da",
   "metadata": {},
   "outputs": [],
   "source": [
    "src = sim.Source(image_hdu=hdus[1], flux=u.Unit(\"Jy\"))"
   ]
  },
  {
   "cell_type": "code",
   "execution_count": 21,
   "id": "1e1f62bf-7131-45f3-8c3a-90805a8c454f",
   "metadata": {},
   "outputs": [],
   "source": [
    "cmd = sim.UserCommands(\n",
    "    yamls = [\n",
    "        # yaml_telescope,\n",
    "\n",
    "        yaml_instrument,\n",
    "\n",
    "        yaml_detector,\n",
    "    ],\n",
    "    \n",
    "    properties=copy.deepcopy(observation_dict),\n",
    ")\n",
    "micado = sim.OpticalTrain(cmd)\n",
    "micado.observe(src)\n",
    "hdus_extended = micado.readout()\n"
   ]
  },
  {
   "cell_type": "code",
   "execution_count": 22,
   "id": "3c983538-0834-4ffa-9e7f-ab015f2362ac",
   "metadata": {
    "scrolled": true
   },
   "outputs": [
    {
     "data": {
      "text/plain": [
       "<matplotlib.image.AxesImage at 0x7fd5554f7ad0>"
      ]
     },
     "execution_count": 22,
     "metadata": {},
     "output_type": "execute_result"
    },
    {
     "data": {
      "image/png": "[encoded data removed]",
      "text/plain": [
       "<Figure size 1000x1000 with 1 Axes>"
      ]
     },
     "metadata": {},
     "output_type": "display_data"
    }
   ],
   "source": [
    "plt.figure(figsize=(10,10))\n",
    "plt.imshow(hdus_extended[0][1].data, norm=LogNorm())"
   ]
  },
  {
   "cell_type": "code",
   "execution_count": 23,
   "id": "a54f8d73-35ee-4abf-a57d-f1230df05b78",
   "metadata": {},
   "outputs": [
    {
     "data": {
      "text/plain": [
       "{5143397.052082606,\n",
       " 5673984.15612069,\n",
       " 5673984.156120693,\n",
       " 6259306.03410697,\n",
       " 6259306.034106971,\n",
       " 6259306.034106972,\n",
       " 6905009.064282368,\n",
       " 6905009.064282371,\n",
       " 6905009.064282372,\n",
       " 6905009.064282375,\n",
       " 7617322.098970382,\n",
       " 7617322.098970383,\n",
       " 7617322.098970384,\n",
       " 8403116.551953847,\n",
       " 8403116.551953848,\n",
       " 8403116.551953852,\n",
       " 8403116.551953854,\n",
       " 9269972.684398528,\n",
       " 9269972.684398532,\n",
       " 9269972.684398534,\n",
       " 9269972.684398538,\n",
       " 10226252.72875864,\n",
       " 10226252.728758642,\n",
       " 10226252.728758644,\n",
       " 11281181.55606289,\n",
       " 11281181.556062892,\n",
       " 11281181.556062894,\n",
       " 11281181.556062896,\n",
       " 11281181.556062898,\n",
       " 12444935.664747864,\n",
       " 12444935.664747866,\n",
       " 12444935.664747868,\n",
       " 12444935.66474787,\n",
       " 12444935.664747875,\n",
       " 13728741.349480143,\n",
       " 13728741.349480145,\n",
       " 13728741.349480147,\n",
       " 13728741.349480148,\n",
       " 13728741.34948015,\n",
       " 13728741.349480152,\n",
       " 15144982.99696469,\n",
       " 15144982.996964693,\n",
       " 15144982.996964695,\n",
       " 15144982.996964699,\n",
       " 16707322.553428033,\n",
       " 16707322.553428035,\n",
       " 16707322.55342804,\n",
       " 18430831.316233777,\n",
       " 18430831.316233784,\n",
       " 18430831.31623379,\n",
       " 18430831.316233795,\n",
       " 20332135.32097425,\n",
       " 20332135.320974253,\n",
       " 20332135.320974257,\n",
       " 22429575.726532303,\n",
       " 22429575.726532307,\n",
       " 22429575.726532314,\n",
       " 24743385.745287333,\n",
       " 24743385.745287336,\n",
       " 24743385.745287344,\n",
       " 27295885.825243928,\n",
       " 27295885.82524394,\n",
       " 30111698.966931324}"
      ]
     },
     "execution_count": 23,
     "metadata": {},
     "output_type": "execute_result"
    }
   ],
   "source": [
    "set(hdus_extended[0][1].data[1:,1:].flatten() / hdus_seeingpsf[0][1].data[:-1,:-1].flatten())"
   ]
  },
  {
   "cell_type": "code",
   "execution_count": 24,
   "id": "446dec5c-d132-4651-a08e-4c062044f5c6",
   "metadata": {},
   "outputs": [],
   "source": [
    "# So shape is wrong, but ratio is constant"
   ]
  },
  {
   "cell_type": "code",
   "execution_count": 25,
   "id": "17da11ce-39a6-4a7d-b903-fc8189cbad2e",
   "metadata": {
    "scrolled": true
   },
   "outputs": [
    {
     "data": {
      "text/plain": [
       "{12444935.664747866, 12444935.664747868, 12444935.66474787}"
      ]
     },
     "execution_count": 25,
     "metadata": {},
     "output_type": "execute_result"
    }
   ],
   "source": [
    "set(hdus_extended[0][1].data.flatten() / hdus_seeingpsf[0][1].data.flatten())"
   ]
  },
  {
   "cell_type": "code",
   "execution_count": null,
   "id": "19aa05cc-ca12-4246-af1e-06a08fb4fd37",
   "metadata": {},
   "outputs": [],
   "source": []
  },
  {
   "cell_type": "code",
   "execution_count": null,
   "id": "d5d38264-dae5-42ac-962e-35f324d6aaea",
   "metadata": {},
   "outputs": [],
   "source": []
  },
  {
   "cell_type": "code",
   "execution_count": null,
   "id": "eaac64ae-1a05-4df9-ac91-ead840a6c1fe",
   "metadata": {},
   "outputs": [],
   "source": []
  },
  {
   "cell_type": "code",
   "execution_count": null,
   "id": "5ba8f57c-9cf7-44d2-a279-20df990a401e",
   "metadata": {},
   "outputs": [],
   "source": []
  },
  {
   "cell_type": "code",
   "execution_count": null,
   "id": "d78cca9c-dcf7-4398-b850-3d1223c60ce6",
   "metadata": {},
   "outputs": [],
   "source": []
  },
  {
   "cell_type": "code",
   "execution_count": null,
   "id": "34398233-409e-4a4f-a509-e040e997c16f",
   "metadata": {},
   "outputs": [],
   "source": []
  },
  {
   "cell_type": "markdown",
   "id": "35ecce95-3df0-4df1-8d84-614184db2866",
   "metadata": {},
   "source": [
    "# Odd number of pixels, with sub pixels"
   ]
  },
  {
   "cell_type": "code",
   "execution_count": null,
   "id": "af7a9c75-3ebc-4cd3-a2d9-ddc4fe008940",
   "metadata": {},
   "outputs": [],
   "source": []
  },
  {
   "cell_type": "code",
   "execution_count": 26,
   "id": "e0d7b614-add3-4c81-9ede-987ea45f50a9",
   "metadata": {},
   "outputs": [],
   "source": [
    "observation_dict = observation_dict_with_sub_pixel"
   ]
  },
  {
   "cell_type": "markdown",
   "id": "43232889-a731-422d-8347-3fdb64c4002e",
   "metadata": {},
   "source": [
    "## Point source, no PSF"
   ]
  },
  {
   "cell_type": "code",
   "execution_count": 27,
   "id": "3309ecf5-5d56-49f9-a5c0-01b5b23c8aa9",
   "metadata": {},
   "outputs": [],
   "source": [
    "cmd = sim.UserCommands(\n",
    "    yamls = [\n",
    "        # yaml_telescope,\n",
    "\n",
    "        yaml_instrument,\n",
    "\n",
    "        yaml_detector,\n",
    "    ],\n",
    "    \n",
    "    properties=copy.deepcopy(observation_dict),\n",
    ")\n",
    "micado = sim.OpticalTrain(cmd)\n",
    "micado.observe(stars)\n",
    "hdus_pointsource = micado.readout()\n"
   ]
  },
  {
   "cell_type": "code",
   "execution_count": 28,
   "id": "31938670-292e-4d40-ad8e-085e75288894",
   "metadata": {},
   "outputs": [
    {
     "data": {
      "text/plain": [
       "<matplotlib.image.AxesImage at 0x7fd5553ffed0>"
      ]
     },
     "execution_count": 28,
     "metadata": {},
     "output_type": "execute_result"
    },
    {
     "data": {
      "image/png": "[encoded data removed]",
      "text/plain": [
       "<Figure size 1000x1000 with 1 Axes>"
      ]
     },
     "metadata": {},
     "output_type": "display_data"
    }
   ],
   "source": [
    "plt.figure(figsize=(10,10))\n",
    "plt.imshow(hdus_pointsource[0][1].data)"
   ]
  },
  {
   "cell_type": "markdown",
   "id": "3b5828ca-b875-49ad-9b31-bea280d3eb05",
   "metadata": {},
   "source": [
    "## SeeingPSF"
   ]
  },
  {
   "cell_type": "code",
   "execution_count": 29,
   "id": "399cf86b-b65f-4440-b2fb-cbde0a87e441",
   "metadata": {},
   "outputs": [],
   "source": [
    "cmd = sim.UserCommands(\n",
    "    yamls = [\n",
    "        yaml_telescope,\n",
    "\n",
    "        yaml_instrument,\n",
    "\n",
    "        yaml_detector,\n",
    "    ],\n",
    "    \n",
    "    properties=copy.deepcopy(observation_dict),\n",
    ")\n",
    "micado = sim.OpticalTrain(cmd)\n",
    "micado.observe(stars)\n",
    "hdus_seeingpsf = micado.readout(filename=\"seeingpsf.fits\")\n"
   ]
  },
  {
   "cell_type": "code",
   "execution_count": null,
   "id": "a7ccb586-7d9c-411e-adcc-c07fee1c31db",
   "metadata": {},
   "outputs": [],
   "source": []
  },
  {
   "cell_type": "code",
   "execution_count": 30,
   "id": "ff850aaa-ee39-4c12-9525-c0197ca503f4",
   "metadata": {},
   "outputs": [
    {
     "data": {
      "text/plain": [
       "<matplotlib.image.AxesImage at 0x7fd5552c0990>"
      ]
     },
     "execution_count": 30,
     "metadata": {},
     "output_type": "execute_result"
    },
    {
     "data": {
      "image/png": "[encoded data removed]",
      "text/plain": [
       "<Figure size 1000x1000 with 1 Axes>"
      ]
     },
     "metadata": {},
     "output_type": "display_data"
    }
   ],
   "source": [
    "plt.figure(figsize=(10,10))\n",
    "plt.imshow(hdus_seeingpsf[0][1].data, norm=LogNorm())"
   ]
  },
  {
   "cell_type": "code",
   "execution_count": 31,
   "id": "3efd13fb-fbbe-4118-9160-552442fee6fc",
   "metadata": {},
   "outputs": [],
   "source": [
    "hdus = fits.open(\"seeingpsf.fits\")\n",
    "hdus[1].header[\"WAVE0\"] = 1.6\n",
    "hdus[1].header\n",
    "hdus.writeto(\"seeingpsfinput.fits\", overwrite=True)\n"
   ]
  },
  {
   "cell_type": "markdown",
   "id": "7cff5d37-3146-4cf7-aa2c-55784331790a",
   "metadata": {},
   "source": [
    "## FieldConstantPSF"
   ]
  },
  {
   "cell_type": "code",
   "execution_count": 32,
   "id": "5073cfe2-d72c-46a1-8376-d56b1ec5e95f",
   "metadata": {},
   "outputs": [],
   "source": [
    "cmd = sim.UserCommands(\n",
    "    yamls = [\n",
    "        yaml_telescope_fieldconstantpsf,\n",
    "\n",
    "        yaml_instrument,\n",
    "\n",
    "        yaml_detector,\n",
    "    ],\n",
    "    \n",
    "    properties=copy.deepcopy(observation_dict),\n",
    ")\n",
    "cmd[\"!SIM.sub_pixel.flag\"]= False\n",
    "micado = sim.OpticalTrain(cmd)\n",
    "micado.observe(stars)\n",
    "hdus_fieldconstantpsf = micado.readout(filename=\"fieldconstantpsf.fits\")\n"
   ]
  },
  {
   "cell_type": "code",
   "execution_count": 33,
   "id": "040c3f90-e74d-42c5-b0d3-0f5f36a3a363",
   "metadata": {},
   "outputs": [
    {
     "data": {
      "text/plain": [
       "<matplotlib.image.AxesImage at 0x7fd55533c890>"
      ]
     },
     "execution_count": 33,
     "metadata": {},
     "output_type": "execute_result"
    },
    {
     "data": {
      "image/png": "[encoded data removed]",
      "text/plain": [
       "<Figure size 1000x1000 with 1 Axes>"
      ]
     },
     "metadata": {},
     "output_type": "display_data"
    }
   ],
   "source": [
    "plt.figure(figsize=(10,10))\n",
    "plt.imshow(hdus_fieldconstantpsf[0][1].data, norm=LogNorm())"
   ]
  },
  {
   "cell_type": "code",
   "execution_count": 34,
   "id": "19aae75c-8549-448d-84b1-8d65ea3f919f",
   "metadata": {},
   "outputs": [
    {
     "data": {
      "text/plain": [
       "{1.1906045086230999,\n",
       " 1.1906045086231,\n",
       " 1.1906045086231003,\n",
       " 1.1906045086231005,\n",
       " 1.1906045086231007,\n",
       " 1.190604508623101,\n",
       " 1.1906045086231012,\n",
       " 1.1906045086231014}"
      ]
     },
     "execution_count": 34,
     "metadata": {},
     "output_type": "execute_result"
    }
   ],
   "source": [
    "set(hdus_fieldconstantpsf[0][1].data.flatten() / hdus_seeingpsf[0][1].data.flatten())"
   ]
  },
  {
   "cell_type": "code",
   "execution_count": 35,
   "id": "878d3858-2367-4776-996f-972d713eec32",
   "metadata": {},
   "outputs": [],
   "source": [
    "# So shape is identical, but there is a 19% offset.\n"
   ]
  },
  {
   "cell_type": "markdown",
   "id": "c6338a50-b42c-4236-bc77-7a01509e83ba",
   "metadata": {},
   "source": [
    "## Simulate Source without PSF"
   ]
  },
  {
   "cell_type": "code",
   "execution_count": 36,
   "id": "0e9c4075-2144-41f8-8ac9-9d8c0ae6c7a7",
   "metadata": {},
   "outputs": [],
   "source": [
    "hdus = fits.open(\"seeingpsf.fits\")"
   ]
  },
  {
   "cell_type": "code",
   "execution_count": 37,
   "id": "f30d7aa2-a938-410d-8082-919310c7bb2d",
   "metadata": {},
   "outputs": [],
   "source": [
    "src = sim.Source(image_hdu=hdus[1], flux=u.Unit(\"Jy\"))"
   ]
  },
  {
   "cell_type": "code",
   "execution_count": 38,
   "id": "e615e485-9de3-4cb3-ac54-63081b1bad50",
   "metadata": {},
   "outputs": [],
   "source": [
    "cmd = sim.UserCommands(\n",
    "    yamls = [\n",
    "        # yaml_telescope,\n",
    "\n",
    "        yaml_instrument,\n",
    "\n",
    "        yaml_detector,\n",
    "    ],\n",
    "    \n",
    "    properties=copy.deepcopy(observation_dict),\n",
    ")\n",
    "micado = sim.OpticalTrain(cmd)\n",
    "micado.observe(src)\n",
    "hdus_extended = micado.readout()\n"
   ]
  },
  {
   "cell_type": "code",
   "execution_count": 39,
   "id": "de967f13-8cba-4190-a1af-053f59f904bc",
   "metadata": {
    "scrolled": true
   },
   "outputs": [
    {
     "data": {
      "text/plain": [
       "<matplotlib.image.AxesImage at 0x7fd5551f2d50>"
      ]
     },
     "execution_count": 39,
     "metadata": {},
     "output_type": "execute_result"
    },
    {
     "data": {
      "image/png": "[encoded data removed]",
      "text/plain": [
       "<Figure size 1000x1000 with 1 Axes>"
      ]
     },
     "metadata": {},
     "output_type": "display_data"
    }
   ],
   "source": [
    "plt.figure(figsize=(10,10))\n",
    "plt.imshow(hdus_extended[0][1].data, norm=LogNorm())"
   ]
  },
  {
   "cell_type": "code",
   "execution_count": 40,
   "id": "90648741-c30b-413b-aaeb-833c91fb315d",
   "metadata": {},
   "outputs": [
    {
     "data": {
      "text/plain": [
       "{5143397.052082606,\n",
       " 5673984.156120692,\n",
       " 6259306.034106972,\n",
       " 6259306.034106974,\n",
       " 6905009.064282372,\n",
       " 6905009.064282373,\n",
       " 6905009.064282375,\n",
       " 7617322.098970384,\n",
       " 7617322.098970386,\n",
       " 7617322.098970387,\n",
       " 8403116.551953848,\n",
       " 8403116.55195385,\n",
       " 8403116.551953852,\n",
       " 8403116.551953856,\n",
       " 9269972.684398534,\n",
       " 9269972.684398536,\n",
       " 9269972.68439854,\n",
       " 10226252.72875864,\n",
       " 10226252.728758644,\n",
       " 10226252.728758646,\n",
       " 10226252.728758648,\n",
       " 11281181.55606289,\n",
       " 11281181.556062894,\n",
       " 11281181.556062896,\n",
       " 11281181.556062898,\n",
       " 11281181.5560629,\n",
       " 11281181.556062901,\n",
       " 12444935.664747864,\n",
       " 12444935.664747868,\n",
       " 12444935.66474787,\n",
       " 12444935.664747871,\n",
       " 12444935.664747873,\n",
       " 12444935.664747877,\n",
       " 13728741.349480145,\n",
       " 13728741.349480147,\n",
       " 13728741.349480148,\n",
       " 13728741.34948015,\n",
       " 13728741.349480152,\n",
       " 13728741.349480156,\n",
       " 15144982.996964691,\n",
       " 15144982.996964693,\n",
       " 15144982.996964695,\n",
       " 15144982.996964702,\n",
       " 16707322.553428033,\n",
       " 16707322.553428037,\n",
       " 16707322.55342804,\n",
       " 16707322.553428045,\n",
       " 18430831.31623378,\n",
       " 18430831.316233784,\n",
       " 18430831.316233788,\n",
       " 18430831.31623379,\n",
       " 18430831.316233795,\n",
       " 20332135.320974253,\n",
       " 20332135.32097426,\n",
       " 20332135.320974264,\n",
       " 20332135.320974268,\n",
       " 22429575.726532303,\n",
       " 22429575.726532307,\n",
       " 22429575.72653231,\n",
       " 22429575.726532318,\n",
       " 24743385.74528733,\n",
       " 24743385.745287336,\n",
       " 24743385.745287348,\n",
       " 27295885.82524392,\n",
       " 27295885.825243942,\n",
       " 30111698.966931332}"
      ]
     },
     "execution_count": 40,
     "metadata": {},
     "output_type": "execute_result"
    }
   ],
   "source": [
    "set(hdus_extended[0][1].data[1:,1:].flatten() / hdus_seeingpsf[0][1].data[:-1,:-1].flatten())"
   ]
  },
  {
   "cell_type": "code",
   "execution_count": 41,
   "id": "780769a3-3d24-4896-9f4c-36ae646876e0",
   "metadata": {},
   "outputs": [],
   "source": [
    "# So shape is wrong, but ratio is constant"
   ]
  },
  {
   "cell_type": "code",
   "execution_count": 42,
   "id": "8c90aa4c-41b6-42b7-b9f9-785eeebe638d",
   "metadata": {
    "scrolled": true
   },
   "outputs": [
    {
     "data": {
      "text/plain": [
       "{12444935.664747866, 12444935.664747868, 12444935.66474787}"
      ]
     },
     "execution_count": 42,
     "metadata": {},
     "output_type": "execute_result"
    }
   ],
   "source": [
    "set(hdus_extended[0][1].data.flatten() / hdus_seeingpsf[0][1].data.flatten())"
   ]
  },
  {
   "cell_type": "code",
   "execution_count": null,
   "id": "7744e8c1-6cfa-4625-b3aa-d2fbe261d0d3",
   "metadata": {},
   "outputs": [],
   "source": []
  },
  {
   "cell_type": "code",
   "execution_count": null,
   "id": "abb6b570-7beb-4e66-9292-f7bf8ea50db3",
   "metadata": {},
   "outputs": [],
   "source": []
  },
  {
   "cell_type": "code",
   "execution_count": null,
   "id": "f2ff19b5-7111-4a83-ac79-6a2f1179b71f",
   "metadata": {},
   "outputs": [],
   "source": []
  },
  {
   "cell_type": "code",
   "execution_count": null,
   "id": "d2b247f7-cbc4-436a-8940-b0a72f97d323",
   "metadata": {},
   "outputs": [],
   "source": []
  },
  {
   "cell_type": "code",
   "execution_count": null,
   "id": "85d954f2-e369-4c60-963c-24d7d52905c7",
   "metadata": {},
   "outputs": [],
   "source": []
  },
  {
   "cell_type": "code",
   "execution_count": null,
   "id": "bf489d85-a6e4-45e1-ae26-650eb7ed028e",
   "metadata": {},
   "outputs": [],
   "source": []
  },
  {
   "cell_type": "code",
   "execution_count": null,
   "id": "f3c5be5e-a4d7-4921-a148-8283547a90dc",
   "metadata": {},
   "outputs": [],
   "source": []
  },
  {
   "cell_type": "markdown",
   "id": "051853cb-b2e9-488a-9d74-0e9ec9546fa7",
   "metadata": {},
   "source": [
    "# Even number of pixels, no sub pixels"
   ]
  },
  {
   "cell_type": "code",
   "execution_count": 43,
   "id": "dfd338df-12a6-42f7-ac91-6ab2ad3e365f",
   "metadata": {},
   "outputs": [],
   "source": [
    "yaml_detector = yaml_detector_even"
   ]
  },
  {
   "cell_type": "code",
   "execution_count": 44,
   "id": "9e272add-b9b8-4a69-b2d5-d559838f53be",
   "metadata": {},
   "outputs": [],
   "source": [
    "observation_dict = observation_dict_without_sub_pixel"
   ]
  },
  {
   "cell_type": "markdown",
   "id": "b86ad583-79d4-43ba-b4d2-338b7106d141",
   "metadata": {},
   "source": [
    "## Point source, no PSF"
   ]
  },
  {
   "cell_type": "code",
   "execution_count": 45,
   "id": "a77e00cd-e9f2-4653-93e4-d64156069e40",
   "metadata": {},
   "outputs": [],
   "source": [
    "cmd = sim.UserCommands(\n",
    "    yamls = [\n",
    "        # yaml_telescope,\n",
    "\n",
    "        yaml_instrument,\n",
    "\n",
    "        yaml_detector,\n",
    "    ],\n",
    "    \n",
    "    properties=copy.deepcopy(observation_dict),\n",
    ")\n",
    "micado = sim.OpticalTrain(cmd)\n",
    "micado.observe(stars)\n",
    "hdus_pointsource = micado.readout()\n"
   ]
  },
  {
   "cell_type": "code",
   "execution_count": 46,
   "id": "291a9129-9f8a-4627-8322-6d0439b9e2c0",
   "metadata": {},
   "outputs": [
    {
     "data": {
      "text/plain": [
       "<matplotlib.image.AxesImage at 0x7fd555252510>"
      ]
     },
     "execution_count": 46,
     "metadata": {},
     "output_type": "execute_result"
    },
    {
     "data": {
      "image/png": "[encoded data removed]",
      "text/plain": [
       "<Figure size 1000x1000 with 1 Axes>"
      ]
     },
     "metadata": {},
     "output_type": "display_data"
    }
   ],
   "source": [
    "plt.figure(figsize=(10,10))\n",
    "plt.imshow(hdus_pointsource[0][1].data)"
   ]
  },
  {
   "cell_type": "markdown",
   "id": "d1efbbcb-6893-402a-bab8-4c3438dd3ccd",
   "metadata": {},
   "source": [
    "## SeeingPSF"
   ]
  },
  {
   "cell_type": "code",
   "execution_count": 47,
   "id": "1d1823cf-62c0-4f90-9fee-e05af6fa1d57",
   "metadata": {},
   "outputs": [],
   "source": [
    "cmd = sim.UserCommands(\n",
    "    yamls = [\n",
    "        yaml_telescope,\n",
    "\n",
    "        yaml_instrument,\n",
    "\n",
    "        yaml_detector,\n",
    "    ],\n",
    "    \n",
    "    properties=copy.deepcopy(observation_dict),\n",
    ")\n",
    "micado = sim.OpticalTrain(cmd)\n",
    "micado.observe(stars)\n",
    "hdus_seeingpsf = micado.readout(filename=\"seeingpsf.fits\")\n"
   ]
  },
  {
   "cell_type": "code",
   "execution_count": null,
   "id": "fec76ab0-7265-44ed-8b5e-cf8a33a681fe",
   "metadata": {},
   "outputs": [],
   "source": []
  },
  {
   "cell_type": "code",
   "execution_count": 48,
   "id": "cc7c7e3e-4f9a-40ac-aa92-f74c5f6f33ae",
   "metadata": {},
   "outputs": [
    {
     "data": {
      "text/plain": [
       "<matplotlib.image.AxesImage at 0x7fd5550c23d0>"
      ]
     },
     "execution_count": 48,
     "metadata": {},
     "output_type": "execute_result"
    },
    {
     "data": {
      "image/png": "[encoded data removed]",
      "text/plain": [
       "<Figure size 1000x1000 with 1 Axes>"
      ]
     },
     "metadata": {},
     "output_type": "display_data"
    }
   ],
   "source": [
    "plt.figure(figsize=(10,10))\n",
    "plt.imshow(hdus_seeingpsf[0][1].data, norm=LogNorm())"
   ]
  },
  {
   "cell_type": "code",
   "execution_count": 49,
   "id": "d06c9fe8-1a06-48d2-a376-18fec7c31a3c",
   "metadata": {},
   "outputs": [],
   "source": [
    "hdus = fits.open(\"seeingpsf.fits\")\n",
    "hdus[1].header[\"WAVE0\"] = 1.6\n",
    "hdus[1].header\n",
    "hdus.writeto(\"seeingpsfinput.fits\", overwrite=True)\n"
   ]
  },
  {
   "cell_type": "markdown",
   "id": "55251f61-f371-469b-94e1-3684a089f8bd",
   "metadata": {},
   "source": [
    "## FieldConstantPSF"
   ]
  },
  {
   "cell_type": "code",
   "execution_count": 50,
   "id": "1a2c9ac4-5ec7-4e05-b1a3-1bc5968e1d00",
   "metadata": {},
   "outputs": [],
   "source": [
    "cmd = sim.UserCommands(\n",
    "    yamls = [\n",
    "        yaml_telescope_fieldconstantpsf,\n",
    "\n",
    "        yaml_instrument,\n",
    "\n",
    "        yaml_detector,\n",
    "    ],\n",
    "    \n",
    "    properties=copy.deepcopy(observation_dict),\n",
    ")\n",
    "cmd[\"!SIM.sub_pixel.flag\"]= False\n",
    "micado = sim.OpticalTrain(cmd)\n",
    "micado.observe(stars)\n",
    "hdus_fieldconstantpsf = micado.readout(filename=\"fieldconstantpsf.fits\")\n"
   ]
  },
  {
   "cell_type": "code",
   "execution_count": 51,
   "id": "3bacea7b-0fd5-46ea-8b5a-43947868de0e",
   "metadata": {},
   "outputs": [
    {
     "data": {
      "text/plain": [
       "<matplotlib.image.AxesImage at 0x7fd555130f10>"
      ]
     },
     "execution_count": 51,
     "metadata": {},
     "output_type": "execute_result"
    },
    {
     "data": {
      "image/png": "[encoded data removed]",
      "text/plain": [
       "<Figure size 1000x1000 with 1 Axes>"
      ]
     },
     "metadata": {},
     "output_type": "display_data"
    }
   ],
   "source": [
    "plt.figure(figsize=(10,10))\n",
    "plt.imshow(hdus_fieldconstantpsf[0][1].data, norm=LogNorm())"
   ]
  },
  {
   "cell_type": "code",
   "execution_count": 52,
   "id": "a9eb4cf3-1bbf-4b5c-9293-23a7cecd447b",
   "metadata": {},
   "outputs": [
    {
     "data": {
      "text/plain": [
       "{1.1370066375548495,\n",
       " 1.1370066375548507,\n",
       " 1.1370066375548515,\n",
       " 1.137006637554852,\n",
       " 1.1370066375548524,\n",
       " 1.1370066375548527,\n",
       " 1.1370066375548529,\n",
       " 1.137006637554853,\n",
       " 1.1370066375548533,\n",
       " 1.1370066375548535,\n",
       " 1.1370066375548538,\n",
       " 1.137006637554854,\n",
       " 1.1370066375548542,\n",
       " 1.1370066375548544,\n",
       " 1.1370066375548546,\n",
       " 1.137006637554855}"
      ]
     },
     "execution_count": 52,
     "metadata": {},
     "output_type": "execute_result"
    }
   ],
   "source": [
    "set(hdus_fieldconstantpsf[0][1].data.flatten() / hdus_seeingpsf[0][1].data.flatten())"
   ]
  },
  {
   "cell_type": "code",
   "execution_count": 53,
   "id": "fdc37b2f-ee75-4373-8f04-b56ceb560484",
   "metadata": {},
   "outputs": [],
   "source": [
    "# So shape is identical, but there is a 19% offset.\n"
   ]
  },
  {
   "cell_type": "markdown",
   "id": "c78234e8-c1ba-483d-a71e-278a714a3dc6",
   "metadata": {},
   "source": [
    "## Simulate Source without PSF"
   ]
  },
  {
   "cell_type": "code",
   "execution_count": 54,
   "id": "a883cf19-d478-4266-ba6e-f8b5af1dd8a7",
   "metadata": {},
   "outputs": [],
   "source": [
    "hdus = fits.open(\"seeingpsf.fits\")"
   ]
  },
  {
   "cell_type": "code",
   "execution_count": 55,
   "id": "a53760cc-330e-4be9-9bf8-044e8c4dcbe2",
   "metadata": {},
   "outputs": [],
   "source": [
    "src = sim.Source(image_hdu=hdus[1], flux=u.Unit(\"Jy\"))"
   ]
  },
  {
   "cell_type": "code",
   "execution_count": 56,
   "id": "d50a6017-7ae2-42fc-99d6-aa1437b7ef3b",
   "metadata": {},
   "outputs": [],
   "source": [
    "cmd = sim.UserCommands(\n",
    "    yamls = [\n",
    "        # yaml_telescope,\n",
    "\n",
    "        yaml_instrument,\n",
    "\n",
    "        yaml_detector,\n",
    "    ],\n",
    "    \n",
    "    properties=copy.deepcopy(observation_dict),\n",
    ")\n",
    "micado = sim.OpticalTrain(cmd)\n",
    "micado.observe(src)\n",
    "hdus_extended = micado.readout()\n"
   ]
  },
  {
   "cell_type": "code",
   "execution_count": 57,
   "id": "a6eb9be2-5562-4dd4-ba97-8d966ee40d16",
   "metadata": {
    "scrolled": true
   },
   "outputs": [
    {
     "data": {
      "text/plain": [
       "<matplotlib.image.AxesImage at 0x7fd5551f53d0>"
      ]
     },
     "execution_count": 57,
     "metadata": {},
     "output_type": "execute_result"
    },
    {
     "data": {
      "image/png": "[encoded data removed]",
      "text/plain": [
       "<Figure size 1000x1000 with 1 Axes>"
      ]
     },
     "metadata": {},
     "output_type": "display_data"
    }
   ],
   "source": [
    "plt.figure(figsize=(10,10))\n",
    "plt.imshow(hdus_extended[0][1].data, norm=LogNorm())"
   ]
  },
  {
   "cell_type": "code",
   "execution_count": 58,
   "id": "52b83c5d-1eae-4f00-a6e3-1adc3e20aab3",
   "metadata": {},
   "outputs": [
    {
     "data": {
      "text/plain": [
       "{4226432.305949136,\n",
       " 4662426.349364187,\n",
       " 4662426.349364191,\n",
       " 5143397.052082604,\n",
       " 5143397.052082606,\n",
       " 5143397.052082607,\n",
       " 5673984.15612069,\n",
       " 5673984.156120693,\n",
       " 5673984.156120695,\n",
       " 5673984.156120701,\n",
       " 6259306.03410697,\n",
       " 6259306.034106971,\n",
       " 6259306.034106972,\n",
       " 6259306.034106973,\n",
       " 6259306.034106976,\n",
       " 6905009.064282368,\n",
       " 6905009.064282371,\n",
       " 6905009.064282372,\n",
       " 6905009.064282373,\n",
       " 6905009.064282375,\n",
       " 7617322.09897038,\n",
       " 7617322.098970382,\n",
       " 7617322.098970383,\n",
       " 7617322.098970384,\n",
       " 8403116.551953847,\n",
       " 8403116.551953848,\n",
       " 8403116.551953852,\n",
       " 8403116.551953854,\n",
       " 9269972.684398528,\n",
       " 9269972.684398532,\n",
       " 9269972.684398534,\n",
       " 9269972.684398538,\n",
       " 9269972.68439854,\n",
       " 9269972.684398541,\n",
       " 10226252.72875864,\n",
       " 10226252.728758642,\n",
       " 10226252.728758644,\n",
       " 10226252.728758646,\n",
       " 11281181.55606289,\n",
       " 11281181.556062892,\n",
       " 11281181.556062894,\n",
       " 11281181.556062896,\n",
       " 11281181.556062898,\n",
       " 11281181.556062903,\n",
       " 11281181.556062914,\n",
       " 12444935.664747864,\n",
       " 12444935.664747866,\n",
       " 12444935.664747868,\n",
       " 12444935.66474787,\n",
       " 12444935.664747875,\n",
       " 13728741.349480143,\n",
       " 13728741.349480145,\n",
       " 13728741.349480147,\n",
       " 13728741.349480148,\n",
       " 13728741.34948015,\n",
       " 13728741.349480152,\n",
       " 15144982.99696469,\n",
       " 15144982.996964693,\n",
       " 15144982.996964695,\n",
       " 15144982.996964699,\n",
       " 16707322.553428033,\n",
       " 16707322.553428035,\n",
       " 16707322.55342804,\n",
       " 18430831.316233777,\n",
       " 18430831.316233784,\n",
       " 18430831.31623379,\n",
       " 18430831.316233795,\n",
       " 20332135.32097425,\n",
       " 20332135.320974253,\n",
       " 20332135.320974257,\n",
       " 22429575.726532303,\n",
       " 22429575.726532307,\n",
       " 22429575.726532314,\n",
       " 24743385.745287333,\n",
       " 24743385.745287336,\n",
       " 24743385.745287344,\n",
       " 27295885.825243928,\n",
       " 27295885.82524394,\n",
       " 30111698.966931324}"
      ]
     },
     "execution_count": 58,
     "metadata": {},
     "output_type": "execute_result"
    }
   ],
   "source": [
    "set(hdus_extended[0][1].data[1:,1:].flatten() / hdus_seeingpsf[0][1].data[:-1,:-1].flatten())"
   ]
  },
  {
   "cell_type": "code",
   "execution_count": 59,
   "id": "625d1bc8-815e-4fa0-9e10-4ed328ab0e19",
   "metadata": {},
   "outputs": [],
   "source": [
    "# So shape is wrong, but ratio is constant"
   ]
  },
  {
   "cell_type": "code",
   "execution_count": 60,
   "id": "9388003f-c2f0-481f-83a7-835ec2453609",
   "metadata": {
    "scrolled": true
   },
   "outputs": [
    {
     "data": {
      "text/plain": [
       "{12444935.664747866, 12444935.664747868, 12444935.66474787}"
      ]
     },
     "execution_count": 60,
     "metadata": {},
     "output_type": "execute_result"
    }
   ],
   "source": [
    "set(hdus_extended[0][1].data.flatten() / hdus_seeingpsf[0][1].data.flatten())"
   ]
  },
  {
   "cell_type": "code",
   "execution_count": null,
   "id": "030a65d4-8512-4256-81f3-ffde9eb5e5a7",
   "metadata": {},
   "outputs": [],
   "source": []
  },
  {
   "cell_type": "code",
   "execution_count": null,
   "id": "97b9f9e4-1188-4d72-973a-650a3eab77cc",
   "metadata": {},
   "outputs": [],
   "source": []
  },
  {
   "cell_type": "code",
   "execution_count": null,
   "id": "e565cdd7-72c8-4bdd-ad2b-2fb85be3042d",
   "metadata": {},
   "outputs": [],
   "source": []
  },
  {
   "cell_type": "markdown",
   "id": "ee73ba7c-728d-48a4-8b09-1dd15f9d5f44",
   "metadata": {},
   "source": [
    "# Even number of pixels, with sub pixels"
   ]
  },
  {
   "cell_type": "code",
   "execution_count": 61,
   "id": "b1780b9a-3c88-42a6-bc3a-a5292499838f",
   "metadata": {},
   "outputs": [],
   "source": [
    "yaml_detector = yaml_detector_even"
   ]
  },
  {
   "cell_type": "code",
   "execution_count": 62,
   "id": "74b38a6e-16f8-44a1-95ac-8f2016c74dfe",
   "metadata": {},
   "outputs": [],
   "source": [
    "observation_dict = observation_dict_with_sub_pixel"
   ]
  },
  {
   "cell_type": "markdown",
   "id": "51257b71-02ac-4a0e-8918-6383a71f458e",
   "metadata": {},
   "source": [
    "## Point source, no PSF"
   ]
  },
  {
   "cell_type": "code",
   "execution_count": 63,
   "id": "91b0c9e1-d817-41e3-8931-dac2d3705eb9",
   "metadata": {},
   "outputs": [],
   "source": [
    "cmd = sim.UserCommands(\n",
    "    yamls = [\n",
    "        # yaml_telescope,\n",
    "\n",
    "        yaml_instrument,\n",
    "\n",
    "        yaml_detector,\n",
    "    ],\n",
    "    \n",
    "    properties=copy.deepcopy(observation_dict),\n",
    ")\n",
    "micado = sim.OpticalTrain(cmd)\n",
    "micado.observe(stars)\n",
    "hdus_pointsource = micado.readout()\n"
   ]
  },
  {
   "cell_type": "code",
   "execution_count": 64,
   "id": "2c4bac9b-7b81-46a9-beac-e67033dd787d",
   "metadata": {},
   "outputs": [
    {
     "data": {
      "text/plain": [
       "<matplotlib.image.AxesImage at 0x7fd554ff3110>"
      ]
     },
     "execution_count": 64,
     "metadata": {},
     "output_type": "execute_result"
    },
    {
     "data": {
      "image/png": "[encoded data removed]",
      "text/plain": [
       "<Figure size 1000x1000 with 1 Axes>"
      ]
     },
     "metadata": {},
     "output_type": "display_data"
    }
   ],
   "source": [
    "plt.figure(figsize=(10,10))\n",
    "plt.imshow(hdus_pointsource[0][1].data)"
   ]
  },
  {
   "cell_type": "markdown",
   "id": "b61e4416-0a26-4217-b943-f598cf21d36b",
   "metadata": {},
   "source": [
    "## SeeingPSF"
   ]
  },
  {
   "cell_type": "code",
   "execution_count": 65,
   "id": "694547fc-dd01-49c9-b3bc-a6efa00f814c",
   "metadata": {},
   "outputs": [],
   "source": [
    "cmd = sim.UserCommands(\n",
    "    yamls = [\n",
    "        yaml_telescope,\n",
    "\n",
    "        yaml_instrument,\n",
    "\n",
    "        yaml_detector,\n",
    "    ],\n",
    "    \n",
    "    properties=copy.deepcopy(observation_dict),\n",
    ")\n",
    "micado = sim.OpticalTrain(cmd)\n",
    "micado.observe(stars)\n",
    "hdus_seeingpsf = micado.readout(filename=\"seeingpsf.fits\")\n"
   ]
  },
  {
   "cell_type": "code",
   "execution_count": null,
   "id": "aa5d6cc9-0069-4280-93a4-93d11ef524ae",
   "metadata": {},
   "outputs": [],
   "source": []
  },
  {
   "cell_type": "code",
   "execution_count": 66,
   "id": "7174bf23-477e-4a9f-b442-f787012bb9e9",
   "metadata": {},
   "outputs": [
    {
     "data": {
      "text/plain": [
       "<matplotlib.image.AxesImage at 0x7fd555033150>"
      ]
     },
     "execution_count": 66,
     "metadata": {},
     "output_type": "execute_result"
    },
    {
     "data": {
      "image/png": "[encoded data removed]",
      "text/plain": [
       "<Figure size 1000x1000 with 1 Axes>"
      ]
     },
     "metadata": {},
     "output_type": "display_data"
    }
   ],
   "source": [
    "plt.figure(figsize=(10,10))\n",
    "plt.imshow(hdus_seeingpsf[0][1].data, norm=LogNorm())"
   ]
  },
  {
   "cell_type": "code",
   "execution_count": 67,
   "id": "1fdb40d0-ccea-4714-84c0-f88e3b2ac049",
   "metadata": {},
   "outputs": [],
   "source": [
    "hdus = fits.open(\"seeingpsf.fits\")\n",
    "hdus[1].header[\"WAVE0\"] = 1.6\n",
    "hdus[1].header\n",
    "hdus.writeto(\"seeingpsfinput.fits\", overwrite=True)\n"
   ]
  },
  {
   "cell_type": "markdown",
   "id": "2c29bb85-c060-4213-a9e6-fcf22ac74344",
   "metadata": {},
   "source": [
    "## FieldConstantPSF"
   ]
  },
  {
   "cell_type": "code",
   "execution_count": 68,
   "id": "6a01e64f-3744-4ddf-8994-094ec61b2e88",
   "metadata": {},
   "outputs": [],
   "source": [
    "cmd = sim.UserCommands(\n",
    "    yamls = [\n",
    "        yaml_telescope_fieldconstantpsf,\n",
    "\n",
    "        yaml_instrument,\n",
    "\n",
    "        yaml_detector,\n",
    "    ],\n",
    "    \n",
    "    properties=copy.deepcopy(observation_dict),\n",
    ")\n",
    "cmd[\"!SIM.sub_pixel.flag\"]= False\n",
    "micado = sim.OpticalTrain(cmd)\n",
    "micado.observe(stars)\n",
    "hdus_fieldconstantpsf = micado.readout(filename=\"fieldconstantpsf.fits\")\n"
   ]
  },
  {
   "cell_type": "code",
   "execution_count": 69,
   "id": "84931518-4e3b-4289-89d7-91a3f6631d9e",
   "metadata": {},
   "outputs": [
    {
     "data": {
      "text/plain": [
       "<matplotlib.image.AxesImage at 0x7fd554ece210>"
      ]
     },
     "execution_count": 69,
     "metadata": {},
     "output_type": "execute_result"
    },
    {
     "data": {
      "image/png": "[encoded data removed]",
      "text/plain": [
       "<Figure size 1000x1000 with 1 Axes>"
      ]
     },
     "metadata": {},
     "output_type": "display_data"
    }
   ],
   "source": [
    "plt.figure(figsize=(10,10))\n",
    "plt.imshow(hdus_fieldconstantpsf[0][1].data, norm=LogNorm())"
   ]
  },
  {
   "cell_type": "code",
   "execution_count": 70,
   "id": "2fecfe6c-9f8d-42a2-af2f-cee46ae5b384",
   "metadata": {},
   "outputs": [
    {
     "data": {
      "text/plain": [
       "{1.1370066375548529,\n",
       " 1.137006637554853,\n",
       " 1.1370066375548533,\n",
       " 1.1370066375548535,\n",
       " 1.1370066375548538,\n",
       " 1.137006637554854,\n",
       " 1.1370066375548542,\n",
       " 1.1370066375548544,\n",
       " 1.1370066375548546,\n",
       " 1.1370066375548549}"
      ]
     },
     "execution_count": 70,
     "metadata": {},
     "output_type": "execute_result"
    }
   ],
   "source": [
    "set(hdus_fieldconstantpsf[0][1].data.flatten() / hdus_seeingpsf[0][1].data.flatten())"
   ]
  },
  {
   "cell_type": "code",
   "execution_count": 71,
   "id": "5bbe985e-41d2-45b2-b541-7b8b3127903a",
   "metadata": {},
   "outputs": [],
   "source": [
    "# So shape is identical, but there is a 19% offset.\n"
   ]
  },
  {
   "cell_type": "markdown",
   "id": "66c19fef-e79c-41ec-b845-f31ab6bd7853",
   "metadata": {},
   "source": [
    "## Simulate Source without PSF"
   ]
  },
  {
   "cell_type": "code",
   "execution_count": 72,
   "id": "7d0f749e-7831-47fe-924f-896b91b6af56",
   "metadata": {},
   "outputs": [],
   "source": [
    "hdus = fits.open(\"seeingpsf.fits\")"
   ]
  },
  {
   "cell_type": "code",
   "execution_count": 73,
   "id": "980b1bac-83e0-4f8e-aacc-80d820bcbe9c",
   "metadata": {},
   "outputs": [],
   "source": [
    "src = sim.Source(image_hdu=hdus[1], flux=u.Unit(\"Jy\"))"
   ]
  },
  {
   "cell_type": "code",
   "execution_count": 74,
   "id": "02e100cb-8ea8-4c9e-af41-a25264a7f86b",
   "metadata": {},
   "outputs": [],
   "source": [
    "cmd = sim.UserCommands(\n",
    "    yamls = [\n",
    "        # yaml_telescope,\n",
    "\n",
    "        yaml_instrument,\n",
    "\n",
    "        yaml_detector,\n",
    "    ],\n",
    "    \n",
    "    properties=copy.deepcopy(observation_dict),\n",
    ")\n",
    "micado = sim.OpticalTrain(cmd)\n",
    "micado.observe(src)\n",
    "hdus_extended = micado.readout()\n"
   ]
  },
  {
   "cell_type": "code",
   "execution_count": 75,
   "id": "47f08c1f-066a-4b13-b3a3-f2b9d5cd75e6",
   "metadata": {
    "scrolled": true
   },
   "outputs": [
    {
     "data": {
      "text/plain": [
       "<matplotlib.image.AxesImage at 0x7fd554f35bd0>"
      ]
     },
     "execution_count": 75,
     "metadata": {},
     "output_type": "execute_result"
    },
    {
     "data": {
      "image/png": "[encoded data removed]",
      "text/plain": [
       "<Figure size 1000x1000 with 1 Axes>"
      ]
     },
     "metadata": {},
     "output_type": "display_data"
    }
   ],
   "source": [
    "plt.figure(figsize=(10,10))\n",
    "plt.imshow(hdus_extended[0][1].data, norm=LogNorm())"
   ]
  },
  {
   "cell_type": "code",
   "execution_count": 76,
   "id": "88103f29-a718-40db-9c80-47d3a3281e3f",
   "metadata": {},
   "outputs": [
    {
     "data": {
      "text/plain": [
       "{4773864.753401769,\n",
       " 5254258.6117359465,\n",
       " 5254258.611735947,\n",
       " 5782739.800080586,\n",
       " 5782739.800080587,\n",
       " 5782994.488758599,\n",
       " 6364161.479285753,\n",
       " 6364161.479285757,\n",
       " 6364656.722281574,\n",
       " 6364656.722281576,\n",
       " 7003881.58317179,\n",
       " 7003881.5831717905,\n",
       " 7004586.846576954,\n",
       " 7004586.846576958,\n",
       " 7004823.413065336,\n",
       " 7707816.793897769,\n",
       " 7708681.964175045,\n",
       " 7708681.9641750455,\n",
       " 7709118.666208727,\n",
       " 7709118.666208732,\n",
       " 8482502.027309792,\n",
       " 8482502.0273098,\n",
       " 8483454.152772456,\n",
       " 8483454.152772458,\n",
       " 8484032.723633034,\n",
       " 8484226.81131955,\n",
       " 9335155.923001496,\n",
       " 9335155.923001505,\n",
       " 9336095.936589088,\n",
       " 9336732.657547697,\n",
       " 9336732.6575477,\n",
       " 9337054.08083426,\n",
       " 9337054.080834264,\n",
       " 10273752.88915204,\n",
       " 10273752.889152043,\n",
       " 10274552.366691332,\n",
       " 10274552.366691334,\n",
       " 10275134.427014302,\n",
       " 10275488.155411435,\n",
       " 10275488.155411439,\n",
       " 10275606.822781837,\n",
       " 11307102.31803073,\n",
       " 11307102.318030737,\n",
       " 11307600.315699842,\n",
       " 11307600.315699846,\n",
       " 11307982.208216457,\n",
       " 11307982.20821646,\n",
       " 11308240.89888603,\n",
       " 11308240.898886032,\n",
       " 11308371.493091486,\n",
       " 12444935.664747862,\n",
       " 12444935.664747864,\n",
       " 12444935.664747868,\n",
       " 12444935.66474787,\n",
       " 12444935.664747871,\n",
       " 12444935.664747873,\n",
       " 13695731.856203219,\n",
       " 13695890.022556046,\n",
       " 13695890.022556048,\n",
       " 13696203.340962032,\n",
       " 13696203.340962034,\n",
       " 13696665.903965313,\n",
       " 13697269.144964015,\n",
       " 13697269.144964023,\n",
       " 15072241.12120951,\n",
       " 15072415.18429954,\n",
       " 15072415.184299543,\n",
       " 15072934.06230566,\n",
       " 15072934.062305665,\n",
       " 15073787.954188757,\n",
       " 15073787.954188764,\n",
       " 15074960.95835106,\n",
       " 15074960.958351066,\n",
       " 16587289.99092134,\n",
       " 16587289.990921345,\n",
       " 16587861.019509144,\n",
       " 16587861.019509146,\n",
       " 16588992.310237227,\n",
       " 16588992.31023723,\n",
       " 16590662.756698398,\n",
       " 16590662.756698402,\n",
       " 18254630.285588216,\n",
       " 18255047.89347303,\n",
       " 18255047.893473033,\n",
       " 18256292.886205863,\n",
       " 18256292.886205878,\n",
       " 18258342.07891514,\n",
       " 18258342.078915153,\n",
       " 20090029.795309942,\n",
       " 20090029.79530995,\n",
       " 20091167.909050938,\n",
       " 20091167.909050945,\n",
       " 20093423.058826227,\n",
       " 20093423.05882624,\n",
       " 22109968.31281132,\n",
       " 22110715.034591846,\n",
       " 22110715.034591854,\n",
       " 22112941.496874347,\n",
       " 22112941.496874362,\n",
       " 24333821.988783397,\n",
       " 24335715.585440338,\n",
       " 24335715.58544034,\n",
       " 26781354.19301773,\n",
       " 26782533.72174122,\n",
       " 26782533.721741233,\n",
       " 29476361.013860337,\n",
       " 29476361.013860364,\n",
       " 32442566.285387803}"
      ]
     },
     "execution_count": 76,
     "metadata": {},
     "output_type": "execute_result"
    }
   ],
   "source": [
    "set(hdus_extended[0][1].data[1:,1:].flatten() / hdus_seeingpsf[0][1].data[:-1,:-1].flatten())"
   ]
  },
  {
   "cell_type": "code",
   "execution_count": 77,
   "id": "6eb045ee-43ae-4063-9f39-3dc715dd10a1",
   "metadata": {},
   "outputs": [],
   "source": [
    "# So shape is wrong, but ratio is constant"
   ]
  },
  {
   "cell_type": "code",
   "execution_count": 78,
   "id": "eca58040-7da2-43ff-bd11-15b5dce18e0a",
   "metadata": {
    "scrolled": true
   },
   "outputs": [
    {
     "data": {
      "text/plain": [
       "{12444935.664747866, 12444935.664747868, 12444935.66474787}"
      ]
     },
     "execution_count": 78,
     "metadata": {},
     "output_type": "execute_result"
    }
   ],
   "source": [
    "set(hdus_extended[0][1].data.flatten() / hdus_seeingpsf[0][1].data.flatten())"
   ]
  }
 ],
 "metadata": {
  "kernelspec": {
   "display_name": "Python 3 (ipykernel)",
   "language": "python",
   "name": "python3"
  },
  "language_info": {
   "codemirror_mode": {
    "name": "ipython",
    "version": 3
   },
   "file_extension": ".py",
   "mimetype": "text/x-python",
   "name": "python",
   "nbconvert_exporter": "python",
   "pygments_lexer": "ipython3",
   "version": "3.11.5"
  }
 },
 "nbformat": 4,
 "nbformat_minor": 5
}
