{
 "cells": [
  {
   "cell_type": "markdown",
   "id": "floppy-relationship",
   "metadata": {},
   "source": [
    "1: A quick introduction to ScopeSim\n",
    "===================================\n",
    "\n",
    "A brief introduction into using ScopeSim to observe a cluster in the LMC"
   ]
  },
  {
   "cell_type": "code",
   "execution_count": null,
   "id": "fatty-excellence",
   "metadata": {},
   "outputs": [],
   "source": [
    "import matplotlib.pyplot as plt\n",
    "from matplotlib.colors import LogNorm\n",
    "%matplotlib inline\n",
    "\n",
    "import scopesim as sim\n",
    "import scopesim_templates as sim_tp\n",
    "\n",
    "# [Required for Readthedocs] Comment out this line if running locally\n",
    "sim.rc.__config__[\"!SIM.file.local_packages_path\"] = \"../temp/\""
   ]
  },
  {
   "cell_type": "markdown",
   "id": "remarkable-outdoors",
   "metadata": {},
   "source": [
    "Download the required instrument packages for an observation with MICADO at the ELT"
   ]
  },
  {
   "cell_type": "code",
   "execution_count": null,
   "id": "premier-mount",
   "metadata": {},
   "outputs": [],
   "source": [
    "sim.download_packages([\"Armazones\", \"ELT\", \"MAORY\", \"MICADO\"])"
   ]
  },
  {
   "cell_type": "markdown",
   "id": "heard-motel",
   "metadata": {},
   "source": [
    "Create a star cluster using the ``scopesim_templates`` package"
   ]
  },
  {
   "cell_type": "code",
   "execution_count": null,
   "id": "golden-division",
   "metadata": {},
   "outputs": [],
   "source": [
    "cluster = sim_tp.stellar.clusters.cluster(mass=1000,         # Msun\n",
    "                                          distance=50000,    # parsec\n",
    "                                          core_radius=0.3,     # parsec\n",
    "                                          seed=9002)\n"
   ]
  },
  {
   "cell_type": "markdown",
   "id": "finite-linux",
   "metadata": {},
   "source": [
    "Make the MICADO optical system model with ``OpticalTrain``. Observe the cluster ``Source`` object with the ``.observe()`` method and read out the MICADO detectors with ``.readout()``. \n",
    "\n",
    "The resulting FITS file can either be returned as an ``astropy.fits.HDUList`` object, or saved to disk using the optional ``filename`` parameter"
   ]
  },
  {
   "cell_type": "code",
   "execution_count": null,
   "id": "bronze-generator",
   "metadata": {},
   "outputs": [],
   "source": [
    "micado = sim.OpticalTrain(\"MICADO\")\n",
    "micado.observe(cluster)\n",
    "hdus = micado.readout()\n",
    "# micado.readout(filename=\"TEST.fits\")"
   ]
  },
  {
   "cell_type": "markdown",
   "id": "latest-ranking",
   "metadata": {},
   "source": [
    "Display the contents the first HDU"
   ]
  },
  {
   "cell_type": "code",
   "execution_count": null,
   "id": "undefined-flush",
   "metadata": {},
   "outputs": [],
   "source": [
    "plt.figure(figsize=(10,10))\n",
    "plt.imshow(hdus[0][1].data, norm=LogNorm(), vmax=3E4, vmin=3E3, cmap=\"hot\")\n",
    "plt.colorbar()"
   ]
  }
 ],
 "metadata": {
  "kernelspec": {
   "display_name": "Python 3",
   "language": "python",
   "name": "python3"
  },
  "language_info": {
   "codemirror_mode": {
    "name": "ipython",
    "version": 3
   },
   "file_extension": ".py",
   "mimetype": "text/x-python",
   "name": "python",
   "nbconvert_exporter": "python",
   "pygments_lexer": "ipython3",
   "version": "3.6.8"
  },
  "nbsphinx": {
   "execute": "always"
  }
 },
 "nbformat": 4,
 "nbformat_minor": 5
}
