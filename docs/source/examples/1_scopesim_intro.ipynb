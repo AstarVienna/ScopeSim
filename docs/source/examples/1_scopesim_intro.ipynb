{
 "cells": [
  {
   "cell_type": "markdown",
   "id": "floppy-relationship",
   "metadata": {},
   "source": [
    "# 1: A quick use case for MICADO at the ELT\n",
    "\n",
    "\n",
    "## A brief introduction into using ScopeSim to observe a cluster in the LMC"
   ]
  },
  {
   "cell_type": "markdown",
   "id": "110aaf63",
   "metadata": {},
   "source": [
    "First set up all relevant imports:"
   ]
  },
  {
   "cell_type": "code",
   "execution_count": null,
   "id": "fatty-excellence",
   "metadata": {},
   "outputs": [],
   "source": [
    "import matplotlib.pyplot as plt\n",
    "\n",
    "from scopesim import Simulation\n",
    "from scopesim_templates.stellar.clusters import cluster"
   ]
  },
  {
   "cell_type": "markdown",
   "id": "heard-motel",
   "metadata": {},
   "source": [
    "Now, create a star cluster as the source using the `scopesim_templates` package. You can ignore the output that is sometimes printed. The `seed` argument is used to control the random number generation that creates the stars in the cluster. If this number is kept the same, the output will be consistent with each run, otherwise the position and brightness of the stars is randomised every time."
   ]
  },
  {
   "cell_type": "code",
   "execution_count": null,
   "id": "golden-division",
   "metadata": {},
   "outputs": [],
   "source": [
    "source = cluster(\n",
    "    mass=1000,        # Msun\n",
    "    distance=50000,   # parsec\n",
    "    core_radius=0.3,  # parsec\n",
    "    seed=9002,        # random number seed\n",
    ")"
   ]
  },
  {
   "cell_type": "markdown",
   "id": "finite-linux",
   "metadata": {},
   "source": [
    "Next, create the MICADO optical system model with the new simplified `Simulation` interface. Observe the cluster `Source` object simply by calling the simulation instance, which returns the resulting FITS HDUL. This may take a few moments on slower machines.\n",
    "\n",
    "The resulting FITS file can either be returned as an `astropy.fits.HDUList` object, which can be saved to disk using the `writeto` method."
   ]
  },
  {
   "cell_type": "code",
   "execution_count": null,
   "id": "bronze-generator",
   "metadata": {},
   "outputs": [],
   "source": [
    "simulation = Simulation(\"MICADO\", [\"SCAO\", \"IMG_4mas\"])\n",
    "hdul = simulation(source)\n",
    "# hdul.writeto(\"TEST.fits\")"
   ]
  },
  {
   "cell_type": "markdown",
   "id": "latest-ranking",
   "metadata": {},
   "source": [
    "Plot the results of the simulation. The `fig_kwargs` are passed to matplotlib's figure creation."
   ]
  },
  {
   "cell_type": "code",
   "execution_count": null,
   "id": "a4a2e783-8459-4be9-87dd-77b8625446e1",
   "metadata": {},
   "outputs": [],
   "source": [
    "simulation.plot(norm=\"log\", vmin=3e3, vmax=3e4, cmap=\"hot\",\n",
    "                fig_kwargs={\"figsize\": (8, 8), \"layout\": \"tight\"})"
   ]
  },
  {
   "cell_type": "code",
   "execution_count": null,
   "id": "02cd19cd-f99f-4800-9212-5655c1fbdaca",
   "metadata": {},
   "outputs": [],
   "source": []
  }
 ],
 "metadata": {
  "kernelspec": {
   "display_name": "Python 3 (ipykernel)",
   "language": "python",
   "name": "python3"
  },
  "language_info": {
   "codemirror_mode": {
    "name": "ipython",
    "version": 3
   },
   "file_extension": ".py",
   "mimetype": "text/x-python",
   "name": "python",
   "nbconvert_exporter": "python",
   "pygments_lexer": "ipython3",
   "version": "3.12.7"
  },
  "nbsphinx": {
   "execute": "auto"
  }
 },
 "nbformat": 4,
 "nbformat_minor": 5
}
