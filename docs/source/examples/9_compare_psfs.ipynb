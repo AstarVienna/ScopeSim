{
 "cells": [
  {
   "cell_type": "markdown",
   "id": "educational-angel",
   "metadata": {},
   "source": [
    "# Simulating the same star with multiple PSFs\n",
    "\n",
    "ScopeSim has several Effect classes to simulate a PSF (Point Spread Function). This notebook verifies that they are all consistent by verifying they preserve flux to the 1% accuracy.\n",
    "\n",
    "TODO: Also check centroid."
   ]
  },
  {
   "cell_type": "code",
   "execution_count": 1,
   "id": "dangerous-civilization",
   "metadata": {},
   "outputs": [],
   "source": [
    "%matplotlib inline\n",
    "import datetime\n",
    "import numpy as np\n",
    "import matplotlib.pyplot as plt\n",
    "from matplotlib.colors import LogNorm\n",
    "from astropy import units as u\n",
    "import yaml\n",
    "from pprint import pprint\n",
    "import copy\n",
    "from astropy.io import fits\n",
    "\n",
    "import scopesim as sim\n",
    "import scopesim_templates as sim_tp"
   ]
  },
  {
   "cell_type": "markdown",
   "id": "friendly-quest",
   "metadata": {},
   "source": [
    "## Set up a source with a single star\n",
    "\n",
    "We use a single star as source. The magnitude is specifically selected such that the sum of the counts should be just over 10000."
   ]
  },
  {
   "cell_type": "code",
   "execution_count": 2,
   "id": "appreciated-english",
   "metadata": {},
   "outputs": [
    {
     "data": {
      "text/plain": [
       "<matplotlib.collections.PathCollection at 0x7f8f276f5690>"
      ]
     },
     "execution_count": 2,
     "metadata": {},
     "output_type": "execute_result"
    },
    {
     "data": {
      "image/png": "[encoded data removed]",
      "text/plain": [
       "<Figure size 640x480 with 1 Axes>"
      ]
     },
     "metadata": {},
     "output_type": "display_data"
    }
   ],
   "source": [
    "stars = sim_tp.star(\"Ks\", 15.9451)\n",
    "\n",
    "plt.scatter(stars.fields[0][\"x\"], stars.fields[0][\"y\"])"
   ]
  },
  {
   "cell_type": "markdown",
   "id": "79c0e335-3c42-47fa-a92a-d5d00d113706",
   "metadata": {},
   "source": [
    "# Setup Hardware\n",
    "\n",
    "We will simulate the star in an matrix of multiple hardware setups:\n",
    "\n",
    "- two detectors, one with an odd number of pixels, and one with an even number of pixels,\n",
    "- two telesopes, one with an anlytical SeeingPSF and one with a numerical FieldConstantPSF,\n",
    "- two different observations, one without subpixel rendering, one with\n",
    "\n",
    "The FITS file with the PSF for the FieldConstantPSF is generated from the SeeingPSF simulation."
   ]
  },
  {
   "cell_type": "code",
   "execution_count": 3,
   "id": "5bfde5b0-43f7-44d0-93d2-c69e30929434",
   "metadata": {},
   "outputs": [],
   "source": [
    "yaml_detector_odd = {\n",
    "    'alias': 'DET',\n",
    "    'description': 'The detector and electronic properties and effects',\n",
    "    'name': 'detectorodd',\n",
    "    'object': 'detector',\n",
    "    'properties': {\n",
    "        'dit': '!OBS.dit',\n",
    "        'image_plane_id': 0,\n",
    "        'ndit': '!OBS.ndit',\n",
    "        'temperature': -230,\n",
    "        'width': 21,\n",
    "        'height': 21,\n",
    "        'x': 0,\n",
    "        'y': 0,\n",
    "    },\n",
    "    'effects': [{\n",
    "        'name': 'detector_window',\n",
    "        'class': 'DetectorWindow',\n",
    "        'description': 'Cut-out of the focal plane image with custom dimensions and coordinates',\n",
    "        'kwargs': {\n",
    "            'height': '!DET.height',\n",
    "            'image_plane_id': 0,\n",
    "            'pixel_size': 0.01,\n",
    "            'units': 'pixel',\n",
    "            'width': '!DET.width',\n",
    "            'x': '!DET.x',\n",
    "            'y': '!DET.y',\n",
    "        },\n",
    "    }],\n",
    "}\n",
    "\n",
    "yaml_detector_even = copy.deepcopy(yaml_detector_odd)\n",
    "yaml_detector_even[\"name\"] = \"detectoreven\"\n",
    "yaml_detector_even[\"properties\"][\"width\"] = 22\n",
    "yaml_detector_even[\"properties\"][\"height\"] = 22\n",
    "\n",
    "yamls_detector = [yaml_detector_even, yaml_detector_odd]"
   ]
  },
  {
   "cell_type": "code",
   "execution_count": null,
   "id": "fb6b6ccf-b583-45b9-8850-a687be698174",
   "metadata": {},
   "outputs": [],
   "source": [
    "s_unity_trans = \"\"\"# wavelength_unit : um\n",
    "#\n",
    "wavelength  transmission\n",
    "0.3         1\n",
    "3.0         1\n",
    "\"\"\"\n",
    "with open(\"INS_unity_trans.dat\", \"w\") as f:\n",
    "    f.write(s_unity_trans)"
   ]
  },
  {
   "cell_type": "code",
   "execution_count": 4,
   "id": "0d3ea253-2bbc-451d-b085-e1415203dbce",
   "metadata": {},
   "outputs": [],
   "source": [
    "yaml_instrument = {\n",
    "    \"object\": \"instrument\",\n",
    "    \"alias\": \"INST\",\n",
    "    \"name\": \"basic_instrument\",\n",
    "    \"description\": \"Effects from the common optics\",\n",
    "    \n",
    "    \"properties\": {\n",
    "        \"temperature\": -190.,\n",
    "        \"pixel_scale\": 0.2,       # arcsec / pixel\n",
    "        \"plate_scale\": 20.,        # arcsec / mm\n",
    "        # \"pixel_size\": 0.01,    # mm / pixel\n",
    "    },\n",
    "    \n",
    "    \"effects\": [{\n",
    "        \"name\": \"static_surfaces\",\n",
    "        \"description\": \"surfaces list for common optics\",\n",
    "        \"class\": \"SurfaceList\",\n",
    "        \"kwargs\": {\n",
    "            # \"filename\": \"INS_common_optics.dat\",\n",
    "            \"array_dict\": {\n",
    "                \"name\": [\"entr_window\"],\n",
    "                \"outer\": [0.5],\n",
    "                \"inner\": [0.0],\n",
    "                \"angle\": [0.0],\n",
    "                \"temperature\": [7.0],\n",
    "                \"action\": [\"transmission\"],\n",
    "                \"filename\": [\"INS_unity_trans.dat\"],\n",
    "                \"wavelength_unit\": \"um\",\n",
    "                \"array_dict\": {\n",
    "                    \"wavelength\": [0.3, 3.0],\n",
    "                    \"transmission\": [1.0, 1.0],\n",
    "                }\n",
    "            },\n",
    "        },\n",
    "    }],\n",
    "}"
   ]
  },
  {
   "cell_type": "code",
   "execution_count": 5,
   "id": "6c0d483e-d356-4a34-b1cd-baa2ebe927d8",
   "metadata": {},
   "outputs": [],
   "source": [
    "yaml_telescope_nopsf = {\n",
    "    \"object\": \"telescope\",\n",
    "    \"alias\": \"TEL\",\n",
    "    \"name\": \"telescopenopsf\",\n",
    "    \"description\": \"The telescope\",\n",
    "    \n",
    "    \"properties\": {\n",
    "        \"temperature\": 0.,\n",
    "    },\n",
    "    \n",
    "    \"effects\": [],\n",
    "}"
   ]
  },
  {
   "cell_type": "code",
   "execution_count": 6,
   "id": "9557ce59-ca43-486c-8845-75907f424d66",
   "metadata": {},
   "outputs": [],
   "source": [
    "yaml_telescope_seeingpsf = {\n",
    "    \"object\": \"telescope\",\n",
    "    \"alias\": \"TEL\",\n",
    "    \"name\": \"telescopeseeingpsf\",\n",
    "    \"description\": \"The telescope\",\n",
    "    \n",
    "    \"properties\": {\n",
    "        \"temperature\": 0.,\n",
    "    },\n",
    "    \n",
    "    \"effects\": [{\n",
    "        \"name\": \"psf\",\n",
    "        \"description\": \"Seeing limited PSF\",\n",
    "        \"class\": \"SeeingPSF\",\n",
    "        \"kwargs\": {\n",
    "            \"fwhm\": \"!OBS.psf_fwhm\", # [arcsec]\n",
    "        },\n",
    "    }],\n",
    "}"
   ]
  },
  {
   "cell_type": "code",
   "execution_count": 7,
   "id": "d2a1c459-2644-48e4-8c9c-184f52f9ca91",
   "metadata": {},
   "outputs": [],
   "source": [
    "yaml_telescope_fieldconstantpsf = {\n",
    "    \"object\": \"telescope\",\n",
    "    \"alias\": \"TEL\",\n",
    "    \"name\": \"telescopefieldconstantpsf\",\n",
    "    \"description\": \"The telescope\",\n",
    "    \n",
    "    \"properties\": {\n",
    "        \"temperature\": 0.,\n",
    "    },\n",
    "    \n",
    "    \"effects\": [{\n",
    "        \"name\": \"psf\",\n",
    "        \"description\": \"Copy of Seeing limited PSF\",\n",
    "        \"class\": \"FieldConstantPSF\",\n",
    "        \"kwargs\": {\n",
    "            \"filename\": \"seeingpsfinput.fits\", # Created below\n",
    "        },\n",
    "    }],\n",
    "}"
   ]
  },
  {
   "cell_type": "code",
   "execution_count": 8,
   "id": "00b0c93e-027c-4a30-84c7-d01569ebc44a",
   "metadata": {},
   "outputs": [],
   "source": [
    "yamls_telescope = [\n",
    "    yaml_telescope_nopsf,\n",
    "    yaml_telescope_seeingpsf,\n",
    "    yaml_telescope_fieldconstantpsf,\n",
    "]"
   ]
  },
  {
   "cell_type": "code",
   "execution_count": 9,
   "id": "807d48f3-8b6d-43e5-9dd6-3986c4e9b91d",
   "metadata": {},
   "outputs": [],
   "source": [
    "observation_dict_without_sub_pixel = {\n",
    "    \"name\": \"observationnosubpixel\",\n",
    "    \n",
    "    \"!OBS.filter_name_pupil\": \"Pa-beta\",\n",
    "    \"!OBS.filter_name_fw1\": \"open\",\n",
    "    \"!OBS.filter_name_fw2\": \"open\", \n",
    "    \"!INST.filter_name\": \"Pa-beta\",\n",
    "    \"!OBS.ndit\": 20, \n",
    "    \"!OBS.dit\": 3,\n",
    "    \"!OBS.exptime\": 60,\n",
    "\n",
    "    \"!OBS.instrument\": \"MyInstrument\",\n",
    "    \"!OBS.catg\": \"SCIENCE\",\n",
    "    \"!OBS.tech\": \"IMAGE\",\n",
    "    \"!OBS.type\": \"OBJECT\",\n",
    "    \"!OBS.mjdobs\": datetime.datetime(2022, 1, 1, 2, 30, 0),\n",
    "\n",
    "\n",
    "    \"!OBS.psf_fwhm\": 1.5,             # [arcsec]\n",
    "    \"!OBS.slit_name\": \"narrow\",\n",
    "\n",
    "    \"!OBS.include_slit\": False,\n",
    "    \"!OBS.include_slicer\": False,\n",
    "    \"!OBS.filter_name\": \"J\",\n",
    "\n",
    "    \"!TEL.temperature\": 7.0,\n",
    "\n",
    "    \"!INST.temperature\": -190,\n",
    "    \"!INST.pixel_scale\": 0.2,       # arcsec / pixel\n",
    "    \"!INST.plate_scale\": 20,        # arcsec / mm\n",
    "\n",
    "    \"!OBS.modes\": [\"imaging\"],\n",
    "    \"!TEL.telescope\": \"EvLT\",\n",
    "    \"!ATMO.location\": \"Here\",\n",
    "\n",
    "    # sub_pixel.flag also moves by half a pixel\n",
    "    \"!SIM.sub_pixel.flag\": False,\n",
    "    # \"!SIM.sub_pixel.flag\": True,\n",
    "}\n",
    "\n",
    "observation_dict_with_sub_pixel = copy.copy(observation_dict_without_sub_pixel)\n",
    "observation_dict_with_sub_pixel[\"name\"] = \"observationsubpixel\"\n",
    "observation_dict_with_sub_pixel[\"!SIM.sub_pixel.flag\"] = True\n",
    "\n",
    "observation_dicts = [observation_dict_without_sub_pixel, observation_dict_with_sub_pixel]"
   ]
  },
  {
   "cell_type": "code",
   "execution_count": null,
   "id": "c6f6a348-8044-4465-a6b0-b29195149f32",
   "metadata": {},
   "outputs": [],
   "source": []
  },
  {
   "cell_type": "code",
   "execution_count": null,
   "id": "cfc907cd-6991-4cd8-9151-ed6b9cccf3a4",
   "metadata": {},
   "outputs": [],
   "source": []
  },
  {
   "cell_type": "code",
   "execution_count": 10,
   "id": "41c8b534-40e5-4069-bdfa-aab414110f5e",
   "metadata": {},
   "outputs": [],
   "source": [
    "def simulate_star(\n",
    "    yaml_telescope=None,\n",
    "    yaml_detector=None,\n",
    "    observation_dict=None,\n",
    "):\n",
    "    cmd = sim.UserCommands(\n",
    "        yamls = [\n",
    "            yaml_telescope,\n",
    "            yaml_instrument,\n",
    "            yaml_detector,\n",
    "        ],\n",
    "        \n",
    "        properties=copy.deepcopy(observation_dict),\n",
    "    )\n",
    "    opticaltrain = sim.OpticalTrain(cmd)\n",
    "    opticaltrain.observe(stars)\n",
    "    hdus = opticaltrain.readout()\n",
    "\n",
    "    hdu = hdus[0]\n",
    "    data = hdu[1].data\n",
    "    k = (yaml_telescope[\"name\"], yaml_detector[\"name\"], observation_dict[\"name\"])\n",
    "    stats = (data.sum(), data.min(), data.max())\n",
    "\n",
    "    \n",
    "    fig, ax1 = plt.subplots(figsize=(10,10))\n",
    "    ax1.imshow(hdu[1].data)\n",
    "    ax1.set_title(\" \".join(k) + \"\\n\" + str(stats))\n",
    "\n",
    "    print(k)\n",
    "    print(data.sum(), data.min(), data.max())\n",
    "    return hdu\n"
   ]
  },
  {
   "cell_type": "code",
   "execution_count": null,
   "id": "4c25a8a3-ca4a-4316-a946-e2b04f4c2be6",
   "metadata": {},
   "outputs": [],
   "source": []
  },
  {
   "cell_type": "code",
   "execution_count": 11,
   "id": "3bd4f2b7-a28b-43e5-9676-e30c496026a0",
   "metadata": {},
   "outputs": [
    {
     "name": "stdout",
     "output_type": "stream",
     "text": [
      "\u001b[31m\u001b[1mastar.bug_report - ERROR: Unhandled exception occured, see log file for details.\u001b[0m\n",
      "Traceback (most recent call last):\n",
      "  File \"/home/hugo/miniconda3/envs/metiswise2/lib/python3.11/site-packages/scopesim/utils.py\", line 684, in wrapper\n",
      "    output = func(*args, **kwargs)\n",
      "             ^^^^^^^^^^^^^^^^^^^^^\n",
      "  File \"/home/hugo/miniconda3/envs/metiswise2/lib/python3.11/site-packages/scopesim/optics/optical_train.py\", line 123, in __init__\n",
      "    self.load(cmds)\n",
      "  File \"/home/hugo/miniconda3/envs/metiswise2/lib/python3.11/site-packages/scopesim/optics/optical_train.py\", line 161, in load\n",
      "    self.optics_manager = OpticsManager(self.yaml_dicts, self.cmds)\n",
      "                          ^^^^^^^^^^^^^^^^^^^^^^^^^^^^^^^^^^^^^^^^^\n",
      "  File \"/home/hugo/miniconda3/envs/metiswise2/lib/python3.11/site-packages/scopesim/optics/optics_manager.py\", line 52, in __init__\n",
      "    self.load_effects(yaml_dicts, **self.meta)\n",
      "  File \"/home/hugo/miniconda3/envs/metiswise2/lib/python3.11/site-packages/scopesim/optics/optics_manager.py\", line 97, in load_effects\n",
      "    self.optical_elements.extend(OpticalElement(dic, cmds=self.cmds, **kwargs)\n",
      "  File \"/home/hugo/miniconda3/envs/metiswise2/lib/python3.11/site-packages/scopesim/optics/optics_manager.py\", line 97, in <genexpr>\n",
      "    self.optical_elements.extend(OpticalElement(dic, cmds=self.cmds, **kwargs)\n",
      "                                 ^^^^^^^^^^^^^^^^^^^^^^^^^^^^^^^^^^^^^^^^^^^^^\n",
      "  File \"/home/hugo/miniconda3/envs/metiswise2/lib/python3.11/site-packages/scopesim/optics/optical_element.py\", line 81, in __init__\n",
      "    self.effects.append(make_effect(eff_dic,\n",
      "                        ^^^^^^^^^^^^^^^^^^^^\n",
      "  File \"/home/hugo/miniconda3/envs/metiswise2/lib/python3.11/site-packages/scopesim/effects/effects_utils.py\", line 66, in make_effect\n",
      "    effect = effect_cls(cmds=cmds, **effect_kwargs)\n",
      "             ^^^^^^^^^^^^^^^^^^^^^^^^^^^^^^^^^^^^^^\n",
      "  File \"/home/hugo/miniconda3/envs/metiswise2/lib/python3.11/site-packages/scopesim/effects/surface_list.py\", line 17, in __init__\n",
      "    super().__init__(**kwargs)\n",
      "  File \"/home/hugo/miniconda3/envs/metiswise2/lib/python3.11/site-packages/scopesim/effects/ter_curves.py\", line 79, in __init__\n",
      "    super().__init__(filename=filename, **kwargs)\n",
      "  File \"/home/hugo/miniconda3/envs/metiswise2/lib/python3.11/site-packages/scopesim/effects/effects.py\", line 50, in __init__\n",
      "    self.data_container = DataContainer(filename=filename, **kwargs)\n",
      "                          ^^^^^^^^^^^^^^^^^^^^^^^^^^^^^^^^^^^^^^^^^^\n",
      "  File \"/home/hugo/miniconda3/envs/metiswise2/lib/python3.11/site-packages/scopesim/effects/data_container.py\", line 132, in __init__\n",
      "    self._from_arrays(array_dict)\n",
      "  File \"/home/hugo/miniconda3/envs/metiswise2/lib/python3.11/site-packages/scopesim/effects/data_container.py\", line 182, in _from_arrays\n",
      "    self.table = Table(names=colnames, data=data)\n",
      "                 ^^^^^^^^^^^^^^^^^^^^^^^^^^^^^^^^\n",
      "  File \"/home/hugo/miniconda3/envs/metiswise2/lib/python3.11/site-packages/astropy/table/table.py\", line 891, in __init__\n",
      "    init_func(data, names, dtype, n_cols, copy)\n",
      "  File \"/home/hugo/miniconda3/envs/metiswise2/lib/python3.11/site-packages/astropy/table/table.py\", line 1259, in _init_from_list\n",
      "    self._init_from_cols(cols)\n",
      "  File \"/home/hugo/miniconda3/envs/metiswise2/lib/python3.11/site-packages/astropy/table/table.py\", line 1479, in _init_from_cols\n",
      "    lengths = {len(col) for col in cols}\n",
      "              ^^^^^^^^^^^^^^^^^^^^^^^^^^\n",
      "  File \"/home/hugo/miniconda3/envs/metiswise2/lib/python3.11/site-packages/astropy/table/table.py\", line 1479, in <setcomp>\n",
      "    lengths = {len(col) for col in cols}\n",
      "               ^^^^^^^^\n",
      "TypeError: len() of unsized object\n",
      "\u001b[31m\u001b[1mastar.bug_report - ERROR: Python:\n",
      "3.11.5 | packaged by conda-forge | (main, Aug 27 2023, 03:34:09) [GCC 12.3.0]\n",
      "\n",
      "Installed Python packages:\n",
      "           anisocado: 0.3.0\n",
      "         astar-utils: 0.3.1\n",
      "             astropy: 6.1.6\n",
      "      beautifulsoup4: 4.12.3\n",
      "            docutils: 0.19\n",
      "               httpx: 0.27.2\n",
      "                lxml: 5.3.0\n",
      "          matplotlib: 3.9.2\n",
      "      more-itertools: 10.5.0\n",
      "               numpy: 1.26.4\n",
      "               pooch: 1.8.2\n",
      "              pyyaml: 6.0.2\n",
      "               scipy: 1.14.1\n",
      "            scopesim: 0.9.0\n",
      "       scopesim_data: could not be loaded.\n",
      "  scopesim_templates: 0.6.0\n",
      "         skycalc-ipy: 0.5.1\n",
      "             synphot: 1.4.0\n",
      "                tqdm: 4.67.0\n",
      "\n",
      "Installed IRDB packages:\n",
      "\n",
      "Operating System info:\n",
      "   System: Linux\n",
      "  Release: 5.4.0-200-generic\n",
      "  Version: #220-Ubuntu SMP Fri Sep 27 13:19:16 UTC 2024\n",
      "  Machine: x86_64\n",
      "\u001b[0m\n"
     ]
    },
    {
     "ename": "TypeError",
     "evalue": "len() of unsized object",
     "output_type": "error",
     "traceback": [
      "\u001b[0;31m---------------------------------------------------------------------------\u001b[0m",
      "\u001b[0;31mTypeError\u001b[0m                                 Traceback (most recent call last)",
      "Cell \u001b[0;32mIn[11], line 1\u001b[0m\n\u001b[0;32m----> 1\u001b[0m hdus_seeingpsf_odd_nosubpixel \u001b[38;5;241m=\u001b[39m \u001b[43msimulate_star\u001b[49m\u001b[43m(\u001b[49m\n\u001b[1;32m      2\u001b[0m \u001b[43m    \u001b[49m\u001b[43myaml_telescope\u001b[49m\u001b[38;5;241;43m=\u001b[39;49m\u001b[43myaml_telescope_seeingpsf\u001b[49m\u001b[43m,\u001b[49m\n\u001b[1;32m      3\u001b[0m \u001b[43m    \u001b[49m\u001b[43myaml_detector\u001b[49m\u001b[38;5;241;43m=\u001b[39;49m\u001b[43myaml_detector_odd\u001b[49m\u001b[43m,\u001b[49m\n\u001b[1;32m      4\u001b[0m \u001b[43m    \u001b[49m\u001b[43mobservation_dict\u001b[49m\u001b[38;5;241;43m=\u001b[39;49m\u001b[43mobservation_dict_without_sub_pixel\u001b[49m\u001b[43m,\u001b[49m\n\u001b[1;32m      5\u001b[0m \u001b[43m)\u001b[49m\n\u001b[1;32m      6\u001b[0m hdus_seeingpsf_odd_nosubpixel[\u001b[38;5;241m1\u001b[39m]\u001b[38;5;241m.\u001b[39mheader[\u001b[38;5;124m\"\u001b[39m\u001b[38;5;124mWAVE0\u001b[39m\u001b[38;5;124m\"\u001b[39m] \u001b[38;5;241m=\u001b[39m \u001b[38;5;241m1.6\u001b[39m\n\u001b[1;32m      7\u001b[0m hdus_seeingpsf_odd_nosubpixel[\u001b[38;5;241m1\u001b[39m]\u001b[38;5;241m.\u001b[39mheader\n",
      "Cell \u001b[0;32mIn[10], line 15\u001b[0m, in \u001b[0;36msimulate_star\u001b[0;34m(yaml_telescope, yaml_detector, observation_dict)\u001b[0m\n\u001b[1;32m      1\u001b[0m \u001b[38;5;28;01mdef\u001b[39;00m \u001b[38;5;21msimulate_star\u001b[39m(\n\u001b[1;32m      2\u001b[0m     yaml_telescope\u001b[38;5;241m=\u001b[39m\u001b[38;5;28;01mNone\u001b[39;00m,\n\u001b[1;32m      3\u001b[0m     yaml_detector\u001b[38;5;241m=\u001b[39m\u001b[38;5;28;01mNone\u001b[39;00m,\n\u001b[1;32m      4\u001b[0m     observation_dict\u001b[38;5;241m=\u001b[39m\u001b[38;5;28;01mNone\u001b[39;00m,\n\u001b[1;32m      5\u001b[0m ):\n\u001b[1;32m      6\u001b[0m     cmd \u001b[38;5;241m=\u001b[39m sim\u001b[38;5;241m.\u001b[39mUserCommands(\n\u001b[1;32m      7\u001b[0m         yamls \u001b[38;5;241m=\u001b[39m [\n\u001b[1;32m      8\u001b[0m             yaml_telescope,\n\u001b[0;32m   (...)\u001b[0m\n\u001b[1;32m     13\u001b[0m         properties\u001b[38;5;241m=\u001b[39mcopy\u001b[38;5;241m.\u001b[39mdeepcopy(observation_dict),\n\u001b[1;32m     14\u001b[0m     )\n\u001b[0;32m---> 15\u001b[0m     opticaltrain \u001b[38;5;241m=\u001b[39m \u001b[43msim\u001b[49m\u001b[38;5;241;43m.\u001b[39;49m\u001b[43mOpticalTrain\u001b[49m\u001b[43m(\u001b[49m\u001b[43mcmd\u001b[49m\u001b[43m)\u001b[49m\n\u001b[1;32m     16\u001b[0m     opticaltrain\u001b[38;5;241m.\u001b[39mobserve(stars)\n\u001b[1;32m     17\u001b[0m     hdus \u001b[38;5;241m=\u001b[39m opticaltrain\u001b[38;5;241m.\u001b[39mreadout()\n",
      "File \u001b[0;32m~/miniconda3/envs/metiswise2/lib/python3.11/site-packages/scopesim/utils.py:684\u001b[0m, in \u001b[0;36mtop_level_catch.<locals>.wrapper\u001b[0;34m(*args, **kwargs)\u001b[0m\n\u001b[1;32m    681\u001b[0m \u001b[38;5;129m@functools\u001b[39m\u001b[38;5;241m.\u001b[39mwraps(func)\n\u001b[1;32m    682\u001b[0m \u001b[38;5;28;01mdef\u001b[39;00m \u001b[38;5;21mwrapper\u001b[39m(\u001b[38;5;241m*\u001b[39margs, \u001b[38;5;241m*\u001b[39m\u001b[38;5;241m*\u001b[39mkwargs):\n\u001b[1;32m    683\u001b[0m     \u001b[38;5;28;01mtry\u001b[39;00m:\n\u001b[0;32m--> 684\u001b[0m         output \u001b[38;5;241m=\u001b[39m \u001b[43mfunc\u001b[49m\u001b[43m(\u001b[49m\u001b[38;5;241;43m*\u001b[39;49m\u001b[43margs\u001b[49m\u001b[43m,\u001b[49m\u001b[43m \u001b[49m\u001b[38;5;241;43m*\u001b[39;49m\u001b[38;5;241;43m*\u001b[39;49m\u001b[43mkwargs\u001b[49m\u001b[43m)\u001b[49m\n\u001b[1;32m    685\u001b[0m     \u001b[38;5;28;01mexcept\u001b[39;00m \u001b[38;5;167;01mException\u001b[39;00m \u001b[38;5;28;01mas\u001b[39;00m err:\n\u001b[1;32m    686\u001b[0m         \u001b[38;5;66;03m# FIXME: This try-except should not be necessary, but\u001b[39;00m\n\u001b[1;32m    687\u001b[0m         \u001b[38;5;66;03m# logger.exception has an issue in some versions.\u001b[39;00m\n\u001b[1;32m    688\u001b[0m         \u001b[38;5;28;01mtry\u001b[39;00m:\n",
      "File \u001b[0;32m~/miniconda3/envs/metiswise2/lib/python3.11/site-packages/scopesim/optics/optical_train.py:123\u001b[0m, in \u001b[0;36mOpticalTrain.__init__\u001b[0;34m(self, cmds)\u001b[0m\n\u001b[1;32m    120\u001b[0m \u001b[38;5;28mself\u001b[39m\u001b[38;5;241m.\u001b[39m_last_source \u001b[38;5;241m=\u001b[39m \u001b[38;5;28;01mNone\u001b[39;00m\n\u001b[1;32m    122\u001b[0m \u001b[38;5;28;01mif\u001b[39;00m cmds \u001b[38;5;129;01mis\u001b[39;00m \u001b[38;5;129;01mnot\u001b[39;00m \u001b[38;5;28;01mNone\u001b[39;00m:\n\u001b[0;32m--> 123\u001b[0m     \u001b[38;5;28;43mself\u001b[39;49m\u001b[38;5;241;43m.\u001b[39;49m\u001b[43mload\u001b[49m\u001b[43m(\u001b[49m\u001b[43mcmds\u001b[49m\u001b[43m)\u001b[49m\n",
      "File \u001b[0;32m~/miniconda3/envs/metiswise2/lib/python3.11/site-packages/scopesim/optics/optical_train.py:161\u001b[0m, in \u001b[0;36mOpticalTrain.load\u001b[0;34m(self, user_commands)\u001b[0m\n\u001b[1;32m    148\u001b[0m \u001b[38;5;66;03m# FIXME: Setting rc.__currsys__ to user_commands causes many problems:\u001b[39;00m\n\u001b[1;32m    149\u001b[0m \u001b[38;5;66;03m#        UserCommands used NestedMapping internally, but is itself not\u001b[39;00m\n\u001b[1;32m    150\u001b[0m \u001b[38;5;66;03m#        an instance or subclas thereof. So rc.__currsys__ actually\u001b[39;00m\n\u001b[0;32m   (...)\u001b[0m\n\u001b[1;32m    158\u001b[0m \u001b[38;5;66;03m#       yet. So it is commented out.\u001b[39;00m\n\u001b[1;32m    159\u001b[0m \u001b[38;5;66;03m# rc.__currsys__ = user_commands\u001b[39;00m\n\u001b[1;32m    160\u001b[0m \u001b[38;5;28mself\u001b[39m\u001b[38;5;241m.\u001b[39myaml_dicts \u001b[38;5;241m=\u001b[39m \u001b[38;5;28mself\u001b[39m\u001b[38;5;241m.\u001b[39mcmds\u001b[38;5;241m.\u001b[39myaml_dicts\n\u001b[0;32m--> 161\u001b[0m \u001b[38;5;28mself\u001b[39m\u001b[38;5;241m.\u001b[39moptics_manager \u001b[38;5;241m=\u001b[39m \u001b[43mOpticsManager\u001b[49m\u001b[43m(\u001b[49m\u001b[38;5;28;43mself\u001b[39;49m\u001b[38;5;241;43m.\u001b[39;49m\u001b[43myaml_dicts\u001b[49m\u001b[43m,\u001b[49m\u001b[43m \u001b[49m\u001b[38;5;28;43mself\u001b[39;49m\u001b[38;5;241;43m.\u001b[39;49m\u001b[43mcmds\u001b[49m\u001b[43m)\u001b[49m\n\u001b[1;32m    162\u001b[0m \u001b[38;5;28mself\u001b[39m\u001b[38;5;241m.\u001b[39mupdate()\n",
      "File \u001b[0;32m~/miniconda3/envs/metiswise2/lib/python3.11/site-packages/scopesim/optics/optics_manager.py:52\u001b[0m, in \u001b[0;36mOpticsManager.__init__\u001b[0;34m(self, yaml_dicts, cmds, **kwargs)\u001b[0m\n\u001b[1;32m     49\u001b[0m     \u001b[38;5;28mself\u001b[39m\u001b[38;5;241m.\u001b[39mcmds \u001b[38;5;241m=\u001b[39m rc\u001b[38;5;241m.\u001b[39m__currsys__\n\u001b[1;32m     51\u001b[0m \u001b[38;5;28;01mif\u001b[39;00m yaml_dicts \u001b[38;5;129;01mis\u001b[39;00m \u001b[38;5;129;01mnot\u001b[39;00m \u001b[38;5;28;01mNone\u001b[39;00m:\n\u001b[0;32m---> 52\u001b[0m     \u001b[38;5;28;43mself\u001b[39;49m\u001b[38;5;241;43m.\u001b[39;49m\u001b[43mload_effects\u001b[49m\u001b[43m(\u001b[49m\u001b[43myaml_dicts\u001b[49m\u001b[43m,\u001b[49m\u001b[43m \u001b[49m\u001b[38;5;241;43m*\u001b[39;49m\u001b[38;5;241;43m*\u001b[39;49m\u001b[38;5;28;43mself\u001b[39;49m\u001b[38;5;241;43m.\u001b[39;49m\u001b[43mmeta\u001b[49m\u001b[43m)\u001b[49m\n\u001b[1;32m     54\u001b[0m \u001b[38;5;28mself\u001b[39m\u001b[38;5;241m.\u001b[39mset_derived_parameters()\n",
      "File \u001b[0;32m~/miniconda3/envs/metiswise2/lib/python3.11/site-packages/scopesim/optics/optics_manager.py:97\u001b[0m, in \u001b[0;36mOpticsManager.load_effects\u001b[0;34m(self, yaml_dicts, **kwargs)\u001b[0m\n\u001b[1;32m     95\u001b[0m \u001b[38;5;28;01mif\u001b[39;00m \u001b[38;5;129;01mnot\u001b[39;00m \u001b[38;5;28misinstance\u001b[39m(yaml_dicts, Sequence):\n\u001b[1;32m     96\u001b[0m     yaml_dicts \u001b[38;5;241m=\u001b[39m [yaml_dicts]\n\u001b[0;32m---> 97\u001b[0m \u001b[38;5;28;43mself\u001b[39;49m\u001b[38;5;241;43m.\u001b[39;49m\u001b[43moptical_elements\u001b[49m\u001b[38;5;241;43m.\u001b[39;49m\u001b[43mextend\u001b[49m\u001b[43m(\u001b[49m\u001b[43mOpticalElement\u001b[49m\u001b[43m(\u001b[49m\u001b[43mdic\u001b[49m\u001b[43m,\u001b[49m\u001b[43m \u001b[49m\u001b[43mcmds\u001b[49m\u001b[38;5;241;43m=\u001b[39;49m\u001b[38;5;28;43mself\u001b[39;49m\u001b[38;5;241;43m.\u001b[39;49m\u001b[43mcmds\u001b[49m\u001b[43m,\u001b[49m\u001b[43m \u001b[49m\u001b[38;5;241;43m*\u001b[39;49m\u001b[38;5;241;43m*\u001b[39;49m\u001b[43mkwargs\u001b[49m\u001b[43m)\u001b[49m\n\u001b[1;32m     98\u001b[0m \u001b[43m                             \u001b[49m\u001b[38;5;28;43;01mfor\u001b[39;49;00m\u001b[43m \u001b[49m\u001b[43mdic\u001b[49m\u001b[43m \u001b[49m\u001b[38;5;129;43;01min\u001b[39;49;00m\u001b[43m \u001b[49m\u001b[43myaml_dicts\u001b[49m\u001b[43m \u001b[49m\u001b[38;5;28;43;01mif\u001b[39;49;00m\u001b[43m \u001b[49m\u001b[38;5;124;43m\"\u001b[39;49m\u001b[38;5;124;43meffects\u001b[39;49m\u001b[38;5;124;43m\"\u001b[39;49m\u001b[43m \u001b[49m\u001b[38;5;129;43;01min\u001b[39;49;00m\u001b[43m \u001b[49m\u001b[43mdic\u001b[49m\u001b[43m)\u001b[49m\n",
      "File \u001b[0;32m~/miniconda3/envs/metiswise2/lib/python3.11/site-packages/scopesim/optics/optics_manager.py:97\u001b[0m, in \u001b[0;36m<genexpr>\u001b[0;34m(.0)\u001b[0m\n\u001b[1;32m     95\u001b[0m \u001b[38;5;28;01mif\u001b[39;00m \u001b[38;5;129;01mnot\u001b[39;00m \u001b[38;5;28misinstance\u001b[39m(yaml_dicts, Sequence):\n\u001b[1;32m     96\u001b[0m     yaml_dicts \u001b[38;5;241m=\u001b[39m [yaml_dicts]\n\u001b[0;32m---> 97\u001b[0m \u001b[38;5;28mself\u001b[39m\u001b[38;5;241m.\u001b[39moptical_elements\u001b[38;5;241m.\u001b[39mextend(\u001b[43mOpticalElement\u001b[49m\u001b[43m(\u001b[49m\u001b[43mdic\u001b[49m\u001b[43m,\u001b[49m\u001b[43m \u001b[49m\u001b[43mcmds\u001b[49m\u001b[38;5;241;43m=\u001b[39;49m\u001b[38;5;28;43mself\u001b[39;49m\u001b[38;5;241;43m.\u001b[39;49m\u001b[43mcmds\u001b[49m\u001b[43m,\u001b[49m\u001b[43m \u001b[49m\u001b[38;5;241;43m*\u001b[39;49m\u001b[38;5;241;43m*\u001b[39;49m\u001b[43mkwargs\u001b[49m\u001b[43m)\u001b[49m\n\u001b[1;32m     98\u001b[0m                              \u001b[38;5;28;01mfor\u001b[39;00m dic \u001b[38;5;129;01min\u001b[39;00m yaml_dicts \u001b[38;5;28;01mif\u001b[39;00m \u001b[38;5;124m\"\u001b[39m\u001b[38;5;124meffects\u001b[39m\u001b[38;5;124m\"\u001b[39m \u001b[38;5;129;01min\u001b[39;00m dic)\n",
      "File \u001b[0;32m~/miniconda3/envs/metiswise2/lib/python3.11/site-packages/scopesim/optics/optical_element.py:81\u001b[0m, in \u001b[0;36mOpticalElement.__init__\u001b[0;34m(self, yaml_dict, cmds, **kwargs)\u001b[0m\n\u001b[1;32m     78\u001b[0m     \u001b[38;5;28;01mif\u001b[39;00m eff_dic[\u001b[38;5;124m\"\u001b[39m\u001b[38;5;124mname\u001b[39m\u001b[38;5;124m\"\u001b[39m] \u001b[38;5;129;01min\u001b[39;00m \u001b[38;5;28mself\u001b[39m\u001b[38;5;241m.\u001b[39mcmds\u001b[38;5;241m.\u001b[39mignore_effects:\n\u001b[1;32m     79\u001b[0m         eff_dic[\u001b[38;5;124m\"\u001b[39m\u001b[38;5;124minclude\u001b[39m\u001b[38;5;124m\"\u001b[39m] \u001b[38;5;241m=\u001b[39m \u001b[38;5;28;01mFalse\u001b[39;00m\n\u001b[0;32m---> 81\u001b[0m \u001b[38;5;28mself\u001b[39m\u001b[38;5;241m.\u001b[39meffects\u001b[38;5;241m.\u001b[39mappend(\u001b[43mmake_effect\u001b[49m\u001b[43m(\u001b[49m\u001b[43meff_dic\u001b[49m\u001b[43m,\u001b[49m\n\u001b[1;32m     82\u001b[0m \u001b[43m                                \u001b[49m\u001b[38;5;28;43mself\u001b[39;49m\u001b[38;5;241;43m.\u001b[39;49m\u001b[43mcmds\u001b[49m\u001b[43m,\u001b[49m\n\u001b[1;32m     83\u001b[0m \u001b[43m                                \u001b[49m\u001b[38;5;241;43m*\u001b[39;49m\u001b[38;5;241;43m*\u001b[39;49m\u001b[38;5;28;43mself\u001b[39;49m\u001b[38;5;241;43m.\u001b[39;49m\u001b[43mproperties\u001b[49m\u001b[43m)\u001b[49m)\n",
      "File \u001b[0;32m~/miniconda3/envs/metiswise2/lib/python3.11/site-packages/scopesim/effects/effects_utils.py:66\u001b[0m, in \u001b[0;36mmake_effect\u001b[0;34m(effect_dict, cmds, **properties)\u001b[0m\n\u001b[1;32m     63\u001b[0m \u001b[38;5;28;01mif\u001b[39;00m \u001b[38;5;124m\"\u001b[39m\u001b[38;5;124mkwargs\u001b[39m\u001b[38;5;124m\"\u001b[39m \u001b[38;5;129;01min\u001b[39;00m effect_dict:\n\u001b[1;32m     64\u001b[0m     effect_kwargs\u001b[38;5;241m.\u001b[39mupdate(effect_dict[\u001b[38;5;124m\"\u001b[39m\u001b[38;5;124mkwargs\u001b[39m\u001b[38;5;124m\"\u001b[39m])  \u001b[38;5;66;03m# individual effect kwargs\u001b[39;00m\n\u001b[0;32m---> 66\u001b[0m effect \u001b[38;5;241m=\u001b[39m \u001b[43meffect_cls\u001b[49m\u001b[43m(\u001b[49m\u001b[43mcmds\u001b[49m\u001b[38;5;241;43m=\u001b[39;49m\u001b[43mcmds\u001b[49m\u001b[43m,\u001b[49m\u001b[43m \u001b[49m\u001b[38;5;241;43m*\u001b[39;49m\u001b[38;5;241;43m*\u001b[39;49m\u001b[43meffect_kwargs\u001b[49m\u001b[43m)\u001b[49m\n\u001b[1;32m     68\u001b[0m \u001b[38;5;28;01mreturn\u001b[39;00m effect\n",
      "File \u001b[0;32m~/miniconda3/envs/metiswise2/lib/python3.11/site-packages/scopesim/effects/surface_list.py:17\u001b[0m, in \u001b[0;36mSurfaceList.__init__\u001b[0;34m(self, **kwargs)\u001b[0m\n\u001b[1;32m     16\u001b[0m \u001b[38;5;28;01mdef\u001b[39;00m \u001b[38;5;21m__init__\u001b[39m(\u001b[38;5;28mself\u001b[39m, \u001b[38;5;241m*\u001b[39m\u001b[38;5;241m*\u001b[39mkwargs):\n\u001b[0;32m---> 17\u001b[0m     \u001b[38;5;28;43msuper\u001b[39;49m\u001b[43m(\u001b[49m\u001b[43m)\u001b[49m\u001b[38;5;241;43m.\u001b[39;49m\u001b[38;5;21;43m__init__\u001b[39;49m\u001b[43m(\u001b[49m\u001b[38;5;241;43m*\u001b[39;49m\u001b[38;5;241;43m*\u001b[39;49m\u001b[43mkwargs\u001b[49m\u001b[43m)\u001b[49m\n\u001b[1;32m     18\u001b[0m     params \u001b[38;5;241m=\u001b[39m {\u001b[38;5;124m\"\u001b[39m\u001b[38;5;124mz_order\u001b[39m\u001b[38;5;124m\"\u001b[39m: [\u001b[38;5;241m20\u001b[39m, \u001b[38;5;241m120\u001b[39m, \u001b[38;5;241m520\u001b[39m],\n\u001b[1;32m     19\u001b[0m               \u001b[38;5;124m\"\u001b[39m\u001b[38;5;124mminimum_throughput\u001b[39m\u001b[38;5;124m\"\u001b[39m: \u001b[38;5;124m\"\u001b[39m\u001b[38;5;124m!SIM.spectral.minimum_throughput\u001b[39m\u001b[38;5;124m\"\u001b[39m,\n\u001b[1;32m     20\u001b[0m               \u001b[38;5;124m\"\u001b[39m\u001b[38;5;124metendue\u001b[39m\u001b[38;5;124m\"\u001b[39m: \u001b[38;5;124m\"\u001b[39m\u001b[38;5;124m!TEL.etendue\u001b[39m\u001b[38;5;124m\"\u001b[39m,\n\u001b[1;32m     21\u001b[0m               \u001b[38;5;124m\"\u001b[39m\u001b[38;5;124mreport_plot_include\u001b[39m\u001b[38;5;124m\"\u001b[39m: \u001b[38;5;28;01mTrue\u001b[39;00m,\n\u001b[1;32m     22\u001b[0m               \u001b[38;5;124m\"\u001b[39m\u001b[38;5;124mreport_table_include\u001b[39m\u001b[38;5;124m\"\u001b[39m: \u001b[38;5;28;01mTrue\u001b[39;00m}\n\u001b[1;32m     23\u001b[0m     \u001b[38;5;28mself\u001b[39m\u001b[38;5;241m.\u001b[39mmeta\u001b[38;5;241m.\u001b[39mupdate(params)\n",
      "File \u001b[0;32m~/miniconda3/envs/metiswise2/lib/python3.11/site-packages/scopesim/effects/ter_curves.py:79\u001b[0m, in \u001b[0;36mTERCurve.__init__\u001b[0;34m(self, filename, **kwargs)\u001b[0m\n\u001b[1;32m     78\u001b[0m \u001b[38;5;28;01mdef\u001b[39;00m \u001b[38;5;21m__init__\u001b[39m(\u001b[38;5;28mself\u001b[39m, filename\u001b[38;5;241m=\u001b[39m\u001b[38;5;28;01mNone\u001b[39;00m, \u001b[38;5;241m*\u001b[39m\u001b[38;5;241m*\u001b[39mkwargs):\n\u001b[0;32m---> 79\u001b[0m     \u001b[38;5;28;43msuper\u001b[39;49m\u001b[43m(\u001b[49m\u001b[43m)\u001b[49m\u001b[38;5;241;43m.\u001b[39;49m\u001b[38;5;21;43m__init__\u001b[39;49m\u001b[43m(\u001b[49m\u001b[43mfilename\u001b[49m\u001b[38;5;241;43m=\u001b[39;49m\u001b[43mfilename\u001b[49m\u001b[43m,\u001b[49m\u001b[43m \u001b[49m\u001b[38;5;241;43m*\u001b[39;49m\u001b[38;5;241;43m*\u001b[39;49m\u001b[43mkwargs\u001b[49m\u001b[43m)\u001b[49m\n\u001b[1;32m     80\u001b[0m     params \u001b[38;5;241m=\u001b[39m {\n\u001b[1;32m     81\u001b[0m         \u001b[38;5;124m\"\u001b[39m\u001b[38;5;124mz_order\u001b[39m\u001b[38;5;124m\"\u001b[39m: [\u001b[38;5;241m10\u001b[39m, \u001b[38;5;241m110\u001b[39m, \u001b[38;5;241m510\u001b[39m],\n\u001b[1;32m     82\u001b[0m         \u001b[38;5;124m\"\u001b[39m\u001b[38;5;124mignore_wings\u001b[39m\u001b[38;5;124m\"\u001b[39m: \u001b[38;5;28;01mFalse\u001b[39;00m,\n\u001b[0;32m   (...)\u001b[0m\n\u001b[1;32m     89\u001b[0m         \u001b[38;5;124m\"\u001b[39m\u001b[38;5;124mreport_table_include\u001b[39m\u001b[38;5;124m\"\u001b[39m: \u001b[38;5;28;01mFalse\u001b[39;00m,\n\u001b[1;32m     90\u001b[0m     }\n\u001b[1;32m     91\u001b[0m     \u001b[38;5;28mself\u001b[39m\u001b[38;5;241m.\u001b[39mmeta\u001b[38;5;241m.\u001b[39mupdate(params)\n",
      "File \u001b[0;32m~/miniconda3/envs/metiswise2/lib/python3.11/site-packages/scopesim/effects/effects.py:50\u001b[0m, in \u001b[0;36mEffect.__init__\u001b[0;34m(self, filename, **kwargs)\u001b[0m\n\u001b[1;32m     49\u001b[0m \u001b[38;5;28;01mdef\u001b[39;00m \u001b[38;5;21m__init__\u001b[39m(\u001b[38;5;28mself\u001b[39m, filename\u001b[38;5;241m=\u001b[39m\u001b[38;5;28;01mNone\u001b[39;00m, \u001b[38;5;241m*\u001b[39m\u001b[38;5;241m*\u001b[39mkwargs):\n\u001b[0;32m---> 50\u001b[0m     \u001b[38;5;28mself\u001b[39m\u001b[38;5;241m.\u001b[39mdata_container \u001b[38;5;241m=\u001b[39m \u001b[43mDataContainer\u001b[49m\u001b[43m(\u001b[49m\u001b[43mfilename\u001b[49m\u001b[38;5;241;43m=\u001b[39;49m\u001b[43mfilename\u001b[49m\u001b[43m,\u001b[49m\u001b[43m \u001b[49m\u001b[38;5;241;43m*\u001b[39;49m\u001b[38;5;241;43m*\u001b[39;49m\u001b[43mkwargs\u001b[49m\u001b[43m)\u001b[49m\n\u001b[1;32m     51\u001b[0m     \u001b[38;5;28mself\u001b[39m\u001b[38;5;241m.\u001b[39mmeta \u001b[38;5;241m=\u001b[39m kwargs\u001b[38;5;241m.\u001b[39mget(\u001b[38;5;124m\"\u001b[39m\u001b[38;5;124mmeta\u001b[39m\u001b[38;5;124m\"\u001b[39m, {})\n\u001b[1;32m     52\u001b[0m     \u001b[38;5;28mself\u001b[39m\u001b[38;5;241m.\u001b[39mcmds \u001b[38;5;241m=\u001b[39m kwargs\u001b[38;5;241m.\u001b[39mget(\u001b[38;5;124m\"\u001b[39m\u001b[38;5;124mcmds\u001b[39m\u001b[38;5;124m\"\u001b[39m)\n",
      "File \u001b[0;32m~/miniconda3/envs/metiswise2/lib/python3.11/site-packages/scopesim/effects/data_container.py:132\u001b[0m, in \u001b[0;36mDataContainer.__init__\u001b[0;34m(self, filename, table, array_dict, cmds, **kwargs)\u001b[0m\n\u001b[1;32m    129\u001b[0m     \u001b[38;5;28mself\u001b[39m\u001b[38;5;241m.\u001b[39m_from_table(table)\n\u001b[1;32m    131\u001b[0m \u001b[38;5;28;01mif\u001b[39;00m array_dict \u001b[38;5;129;01mis\u001b[39;00m \u001b[38;5;129;01mnot\u001b[39;00m \u001b[38;5;28;01mNone\u001b[39;00m:\n\u001b[0;32m--> 132\u001b[0m     \u001b[38;5;28;43mself\u001b[39;49m\u001b[38;5;241;43m.\u001b[39;49m\u001b[43m_from_arrays\u001b[49m\u001b[43m(\u001b[49m\u001b[43marray_dict\u001b[49m\u001b[43m)\u001b[49m\n\u001b[1;32m    134\u001b[0m \u001b[38;5;66;03m# Get units as they are given in the kworgs.\u001b[39;00m\n\u001b[1;32m    135\u001b[0m unit_dict_kwargs \u001b[38;5;241m=\u001b[39m {\n\u001b[1;32m    136\u001b[0m     k: v\n\u001b[1;32m    137\u001b[0m     \u001b[38;5;28;01mfor\u001b[39;00m k, v \u001b[38;5;129;01min\u001b[39;00m kwargs\u001b[38;5;241m.\u001b[39mitems()\n\u001b[1;32m    138\u001b[0m     \u001b[38;5;28;01mif\u001b[39;00m k\u001b[38;5;241m.\u001b[39mendswith(\u001b[38;5;124m\"\u001b[39m\u001b[38;5;124m_unit\u001b[39m\u001b[38;5;124m\"\u001b[39m)\n\u001b[1;32m    139\u001b[0m }\n",
      "File \u001b[0;32m~/miniconda3/envs/metiswise2/lib/python3.11/site-packages/scopesim/effects/data_container.py:182\u001b[0m, in \u001b[0;36mDataContainer._from_arrays\u001b[0;34m(self, array_dict)\u001b[0m\n\u001b[1;32m    179\u001b[0m     data\u001b[38;5;241m.\u001b[39mappend(val)\n\u001b[1;32m    180\u001b[0m     colnames\u001b[38;5;241m.\u001b[39mappend(key)\n\u001b[0;32m--> 182\u001b[0m \u001b[38;5;28mself\u001b[39m\u001b[38;5;241m.\u001b[39mtable \u001b[38;5;241m=\u001b[39m \u001b[43mTable\u001b[49m\u001b[43m(\u001b[49m\u001b[43mnames\u001b[49m\u001b[38;5;241;43m=\u001b[39;49m\u001b[43mcolnames\u001b[49m\u001b[43m,\u001b[49m\u001b[43m \u001b[49m\u001b[43mdata\u001b[49m\u001b[38;5;241;43m=\u001b[39;49m\u001b[43mdata\u001b[49m\u001b[43m)\u001b[49m\n\u001b[1;32m    183\u001b[0m \u001b[38;5;28mself\u001b[39m\u001b[38;5;241m.\u001b[39m_headers\u001b[38;5;241m.\u001b[39mappend(\u001b[38;5;28;01mNone\u001b[39;00m)\n\u001b[1;32m    184\u001b[0m \u001b[38;5;28mself\u001b[39m\u001b[38;5;241m.\u001b[39mmeta[\u001b[38;5;124m\"\u001b[39m\u001b[38;5;124mhistory\u001b[39m\u001b[38;5;124m\"\u001b[39m]\u001b[38;5;241m.\u001b[39mappend(\u001b[38;5;124m\"\u001b[39m\u001b[38;5;124mTable generated from arrays\u001b[39m\u001b[38;5;124m\"\u001b[39m)\n",
      "File \u001b[0;32m~/miniconda3/envs/metiswise2/lib/python3.11/site-packages/astropy/table/table.py:891\u001b[0m, in \u001b[0;36mTable.__init__\u001b[0;34m(self, data, masked, names, dtype, meta, copy, rows, copy_indices, units, descriptions, **kwargs)\u001b[0m\n\u001b[1;32m    888\u001b[0m \u001b[38;5;28mself\u001b[39m\u001b[38;5;241m.\u001b[39m_check_names_dtype(names, dtype, n_cols)\n\u001b[1;32m    890\u001b[0m \u001b[38;5;66;03m# Finally do the real initialization\u001b[39;00m\n\u001b[0;32m--> 891\u001b[0m \u001b[43minit_func\u001b[49m\u001b[43m(\u001b[49m\u001b[43mdata\u001b[49m\u001b[43m,\u001b[49m\u001b[43m \u001b[49m\u001b[43mnames\u001b[49m\u001b[43m,\u001b[49m\u001b[43m \u001b[49m\u001b[43mdtype\u001b[49m\u001b[43m,\u001b[49m\u001b[43m \u001b[49m\u001b[43mn_cols\u001b[49m\u001b[43m,\u001b[49m\u001b[43m \u001b[49m\u001b[43mcopy\u001b[49m\u001b[43m)\u001b[49m\n\u001b[1;32m    893\u001b[0m \u001b[38;5;66;03m# Set table meta.  If copy=True then deepcopy meta otherwise use the\u001b[39;00m\n\u001b[1;32m    894\u001b[0m \u001b[38;5;66;03m# user-supplied meta directly.\u001b[39;00m\n\u001b[1;32m    895\u001b[0m \u001b[38;5;28;01mif\u001b[39;00m meta \u001b[38;5;129;01mis\u001b[39;00m \u001b[38;5;129;01mnot\u001b[39;00m \u001b[38;5;28;01mNone\u001b[39;00m:\n",
      "File \u001b[0;32m~/miniconda3/envs/metiswise2/lib/python3.11/site-packages/astropy/table/table.py:1259\u001b[0m, in \u001b[0;36mTable._init_from_list\u001b[0;34m(self, data, names, dtype, n_cols, copy)\u001b[0m\n\u001b[1;32m   1255\u001b[0m     col \u001b[38;5;241m=\u001b[39m \u001b[38;5;28mself\u001b[39m\u001b[38;5;241m.\u001b[39m_convert_data_to_col(col, copy, default_name, dt, name)\n\u001b[1;32m   1257\u001b[0m     cols\u001b[38;5;241m.\u001b[39mappend(col)\n\u001b[0;32m-> 1259\u001b[0m \u001b[38;5;28;43mself\u001b[39;49m\u001b[38;5;241;43m.\u001b[39;49m\u001b[43m_init_from_cols\u001b[49m\u001b[43m(\u001b[49m\u001b[43mcols\u001b[49m\u001b[43m)\u001b[49m\n",
      "File \u001b[0;32m~/miniconda3/envs/metiswise2/lib/python3.11/site-packages/astropy/table/table.py:1479\u001b[0m, in \u001b[0;36mTable._init_from_cols\u001b[0;34m(self, cols)\u001b[0m\n\u001b[1;32m   1477\u001b[0m \u001b[38;5;28;01mdef\u001b[39;00m \u001b[38;5;21m_init_from_cols\u001b[39m(\u001b[38;5;28mself\u001b[39m, cols):\n\u001b[1;32m   1478\u001b[0m \u001b[38;5;250m    \u001b[39m\u001b[38;5;124;03m\"\"\"Initialize table from a list of Column or mixin objects.\"\"\"\u001b[39;00m\n\u001b[0;32m-> 1479\u001b[0m     lengths \u001b[38;5;241m=\u001b[39m \u001b[43m{\u001b[49m\u001b[38;5;28;43mlen\u001b[39;49m\u001b[43m(\u001b[49m\u001b[43mcol\u001b[49m\u001b[43m)\u001b[49m\u001b[43m \u001b[49m\u001b[38;5;28;43;01mfor\u001b[39;49;00m\u001b[43m \u001b[49m\u001b[43mcol\u001b[49m\u001b[43m \u001b[49m\u001b[38;5;129;43;01min\u001b[39;49;00m\u001b[43m \u001b[49m\u001b[43mcols\u001b[49m\u001b[43m}\u001b[49m\n\u001b[1;32m   1480\u001b[0m     \u001b[38;5;28;01mif\u001b[39;00m \u001b[38;5;28mlen\u001b[39m(lengths) \u001b[38;5;241m>\u001b[39m \u001b[38;5;241m1\u001b[39m:\n\u001b[1;32m   1481\u001b[0m         \u001b[38;5;28;01mraise\u001b[39;00m \u001b[38;5;167;01mValueError\u001b[39;00m(\u001b[38;5;124mf\u001b[39m\u001b[38;5;124m\"\u001b[39m\u001b[38;5;124mInconsistent data column lengths: \u001b[39m\u001b[38;5;132;01m{\u001b[39;00mlengths\u001b[38;5;132;01m}\u001b[39;00m\u001b[38;5;124m\"\u001b[39m)\n",
      "File \u001b[0;32m~/miniconda3/envs/metiswise2/lib/python3.11/site-packages/astropy/table/table.py:1479\u001b[0m, in \u001b[0;36m<setcomp>\u001b[0;34m(.0)\u001b[0m\n\u001b[1;32m   1477\u001b[0m \u001b[38;5;28;01mdef\u001b[39;00m \u001b[38;5;21m_init_from_cols\u001b[39m(\u001b[38;5;28mself\u001b[39m, cols):\n\u001b[1;32m   1478\u001b[0m \u001b[38;5;250m    \u001b[39m\u001b[38;5;124;03m\"\"\"Initialize table from a list of Column or mixin objects.\"\"\"\u001b[39;00m\n\u001b[0;32m-> 1479\u001b[0m     lengths \u001b[38;5;241m=\u001b[39m {\u001b[38;5;28mlen\u001b[39m(col) \u001b[38;5;28;01mfor\u001b[39;00m col \u001b[38;5;129;01min\u001b[39;00m cols}\n\u001b[1;32m   1480\u001b[0m     \u001b[38;5;28;01mif\u001b[39;00m \u001b[38;5;28mlen\u001b[39m(lengths) \u001b[38;5;241m>\u001b[39m \u001b[38;5;241m1\u001b[39m:\n\u001b[1;32m   1481\u001b[0m         \u001b[38;5;28;01mraise\u001b[39;00m \u001b[38;5;167;01mValueError\u001b[39;00m(\u001b[38;5;124mf\u001b[39m\u001b[38;5;124m\"\u001b[39m\u001b[38;5;124mInconsistent data column lengths: \u001b[39m\u001b[38;5;132;01m{\u001b[39;00mlengths\u001b[38;5;132;01m}\u001b[39;00m\u001b[38;5;124m\"\u001b[39m)\n",
      "\u001b[0;31mTypeError\u001b[0m: len() of unsized object"
     ]
    }
   ],
   "source": [
    "hdus_seeingpsf_odd_nosubpixel = simulate_star(\n",
    "    yaml_telescope=yaml_telescope_seeingpsf,\n",
    "    yaml_detector=yaml_detector_odd,\n",
    "    observation_dict=observation_dict_without_sub_pixel,\n",
    ")\n",
    "hdus_seeingpsf_odd_nosubpixel[1].header[\"WAVE0\"] = 1.6\n",
    "hdus_seeingpsf_odd_nosubpixel[1].header\n",
    "hdus_seeingpsf_odd_nosubpixel.writeto(\"seeingpsfinput.fits\", overwrite=True)\n"
   ]
  },
  {
   "cell_type": "code",
   "execution_count": null,
   "id": "a84205af-e7db-496e-a2a2-8edc8d6339f7",
   "metadata": {},
   "outputs": [],
   "source": [
    "import numpy\n",
    "numpy.log(5.998885104069225) / numpy.log(2.5)"
   ]
  },
  {
   "cell_type": "code",
   "execution_count": null,
   "id": "ef4d3045-d88b-4168-bde6-35111428b22b",
   "metadata": {},
   "outputs": [],
   "source": []
  },
  {
   "cell_type": "code",
   "execution_count": null,
   "id": "c5b95a3f-fca9-4f7a-a8ac-fce314bb6a51",
   "metadata": {},
   "outputs": [],
   "source": [
    "simulations = {\n",
    "    (\n",
    "        yaml_telescope[\"name\"], yaml_detector[\"name\"], observation_dict[\"name\"]\n",
    "    ): simulate_star(\n",
    "        yaml_telescope,\n",
    "        yaml_detector,\n",
    "        observation_dict,\n",
    "    )\n",
    "    for yaml_telescope in yamls_telescope\n",
    "    for yaml_detector in yamls_detector\n",
    "    for observation_dict in observation_dicts\n",
    "}"
   ]
  },
  {
   "cell_type": "code",
   "execution_count": null,
   "id": "f4fec428-eeac-4da5-8ca0-f3ca748928df",
   "metadata": {},
   "outputs": [],
   "source": []
  },
  {
   "cell_type": "code",
   "execution_count": null,
   "id": "34398233-409e-4a4f-a509-e040e997c16f",
   "metadata": {},
   "outputs": [],
   "source": [
    "sums = [\n",
    "    hdu[1].data.sum()\n",
    "    for hdu in simulations.values()\n",
    "]"
   ]
  },
  {
   "cell_type": "code",
   "execution_count": null,
   "id": "2c03ffc7-6d72-4ba7-bad4-b70f56b97c67",
   "metadata": {},
   "outputs": [],
   "source": [
    "sums"
   ]
  },
  {
   "cell_type": "code",
   "execution_count": null,
   "id": "fb750212-47e5-45b7-a85c-12174d62d205",
   "metadata": {},
   "outputs": [],
   "source": [
    "ratio = max(sums) / min(sums)\n",
    "print(ratio)"
   ]
  },
  {
   "cell_type": "code",
   "execution_count": null,
   "id": "11d9135a-82fd-4b01-9717-7daf997c40b3",
   "metadata": {},
   "outputs": [],
   "source": [
    "# Assert that the difference in flux is at most 1%.\n",
    "assert ratio < 1.01"
   ]
  },
  {
   "cell_type": "code",
   "execution_count": null,
   "id": "228d73a2-fe76-4245-b232-ca2cbef4c145",
   "metadata": {},
   "outputs": [],
   "source": []
  }
 ],
 "metadata": {
  "kernelspec": {
   "display_name": "Python 3 (ipykernel)",
   "language": "python",
   "name": "python3"
  },
  "language_info": {
   "codemirror_mode": {
    "name": "ipython",
    "version": 3
   },
   "file_extension": ".py",
   "mimetype": "text/x-python",
   "name": "python",
   "nbconvert_exporter": "python",
   "pygments_lexer": "ipython3",
   "version": "3.11.5"
  }
 },
 "nbformat": 4,
 "nbformat_minor": 5
}
