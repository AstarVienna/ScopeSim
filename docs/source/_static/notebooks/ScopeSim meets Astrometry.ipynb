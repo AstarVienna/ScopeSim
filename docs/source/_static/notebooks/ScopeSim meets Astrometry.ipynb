{
 "cells": [
  {
   "cell_type": "markdown",
   "metadata": {},
   "source": [
    "# ScopeSim on a sub-pixel level\n",
    "\n",
    "In this notebook, we will load the model of MICADO (including Armazones, ELT, MAORY) and then turn off all effect that modify the spatial extent of the stars. The purpose here is to see in detail what happens to the **distribution of the stars flux on a sub-pixel level** when we add plug-in astrometric Effect to the optical system.\n",
    "\n",
    "For real simulation, we will obviously leave all normal MICADO effects turned on, while still adding plug-in Effect. Hopefully this Notebok will serve as a refernce for those who want to see **how to create Plug-ins** and how to manipulate the effects in the MICADO optical train model.\n"
   ]
  },
  {
   "cell_type": "code",
   "execution_count": 1,
   "metadata": {},
   "outputs": [],
   "source": [
    "import numpy as np\n",
    "import matplotlib.pyplot as plt\n",
    "from matplotlib.colors import LogNorm\n",
    "\n",
    "import scopesim as sim\n",
    "from scopesim_templates.basic import stars"
   ]
  },
  {
   "cell_type": "code",
   "execution_count": 2,
   "metadata": {},
   "outputs": [
    {
     "name": "stdout",
     "output_type": "stream",
     "text": [
      "\n",
      "Packages saved on the server: https://www.univie.ac.at/simcado/InstPkgSvr/\n",
      "==========================================================================\n",
      "instruments/HAWKI.zip\n",
      "instruments/MAORY.zip\n",
      "instruments/MICADO.zip\n",
      "instruments/WFC3.zip\n",
      "instruments/test_package.zip\n",
      "locations/Armazones.zip\n",
      "locations/Paranal.zip\n",
      "telescopes/ELT.zip\n",
      "telescopes/HST.zip\n",
      "telescopes/LFOA.zip\n",
      "telescopes/VLT.zip\n",
      "\n",
      "Packages saved locally: ./\n",
      "==========================\n"
     ]
    },
    {
     "data": {
      "text/plain": [
       "['C:\\\\Work\\\\ScopeSim\\\\docs\\\\source\\\\_static\\\\Armazones.zip',\n",
       " 'C:\\\\Work\\\\ScopeSim\\\\docs\\\\source\\\\_static\\\\ELT.zip',\n",
       " 'C:\\\\Work\\\\ScopeSim\\\\docs\\\\source\\\\_static\\\\MICADO.zip',\n",
       " 'C:\\\\Work\\\\ScopeSim\\\\docs\\\\source\\\\_static\\\\MAORY.zip']"
      ]
     },
     "execution_count": 2,
     "metadata": {},
     "output_type": "execute_result"
    }
   ],
   "source": [
    "# Run these if you are using scopesim and the MICADO package for the first time\n",
    "sim.rc.__config__[\"!SIM.file.use_cached_downloads\"] = False\n",
    "\n",
    "sim.list_packages()\n",
    "sim.download_package([\"locations/Armazones\", \"telescopes/ELT\", \"instruments/MICADO\", \"instruments/MAORY\"])"
   ]
  },
  {
   "cell_type": "markdown",
   "metadata": {},
   "source": [
    "## Make MICADO and turn everything off"
   ]
  },
  {
   "cell_type": "code",
   "execution_count": 3,
   "metadata": {},
   "outputs": [
    {
     "name": "stdout",
     "output_type": "stream",
     "text": [
      "Preparing 13 FieldOfViews\n"
     ]
    }
   ],
   "source": [
    "cmd = sim.UserCommands(use_instrument=\"MICADO\", set_modes=[\"SCAO\", \"IMG_1.5mas\"])\n",
    "micado = sim.OpticalTrain(cmd)"
   ]
  },
  {
   "cell_type": "code",
   "execution_count": 4,
   "metadata": {},
   "outputs": [
    {
     "name": "stdout",
     "output_type": "stream",
     "text": [
      "DetectorList: \"full_detector_array\"\n",
      "AtmosphericDispersion: \"armazones_atmo_dispersion\"\n",
      "AtmosphericDispersionCorrection: \"micado_adc_3D_shift\"\n",
      "NonCommonPathAberration: \"micado_ncpas_psf\"\n",
      "FieldConstantPSF: \"relay_psf\"\n"
     ]
    },
    {
     "data": {
      "text/html": [
       "<i>Table length=21</i>\n",
       "<table id=\"table2490042180440\" class=\"table-striped table-bordered table-condensed\">\n",
       "<thead><tr><th>element</th><th>name</th><th>class</th><th>included</th><th>z_orders</th></tr></thead>\n",
       "<thead><tr><th>str21</th><th>str32</th><th>str31</th><th>bool</th><th>object</th></tr></thead>\n",
       "<tr><td>armazones</td><td>armazones_atmo_default_ter_curve</td><td>AtmosphericTERCurve</td><td>True</td><td>[111]</td></tr>\n",
       "<tr><td>armazones</td><td>armazones_atmo_dispersion</td><td>AtmosphericDispersion</td><td>False</td><td>[231]</td></tr>\n",
       "<tr><td>armazones</td><td>armazones_atmo_skycalc_ter_curve</td><td>SkycalcTERCurve</td><td>False</td><td>[112]</td></tr>\n",
       "<tr><td>ELT</td><td>scope_surface_list</td><td>SurfaceList</td><td>True</td><td>[20, 120]</td></tr>\n",
       "<tr><td>ELT</td><td>scope_vibration</td><td>Vibration</td><td>True</td><td>[244, 744]</td></tr>\n",
       "<tr><td>ELT</td><td>eso_combined_reflection</td><td>TERCurve</td><td>False</td><td>[10, 110]</td></tr>\n",
       "<tr><td>MICADO</td><td>micado_static_surfaces</td><td>SurfaceList</td><td>True</td><td>[20, 120]</td></tr>\n",
       "<tr><td>MICADO</td><td>micado_filter</td><td>FilterCurve</td><td>True</td><td>[114, 214]</td></tr>\n",
       "<tr><td>MICADO</td><td>micado_ncpas_psf</td><td>NonCommonPathAberration</td><td>False</td><td>[241, 641]</td></tr>\n",
       "<tr><td>micado_detector_array</td><td>full_detector_array</td><td>DetectorList</td><td>False</td><td>[90, 290, 390, 490]</td></tr>\n",
       "<tr><td>micado_detector_array</td><td>detector_window</td><td>DetectorList</td><td>True</td><td>[90, 290, 390, 490]</td></tr>\n",
       "<tr><td>micado_detector_array</td><td>qe_curve</td><td>QuantumEfficiencyCurve</td><td>True</td><td>[113]</td></tr>\n",
       "<tr><td>micado_detector_array</td><td>exposure_action</td><td>SummedExposure</td><td>True</td><td>[860]</td></tr>\n",
       "<tr><td>micado_detector_array</td><td>dark_current</td><td>DarkCurrent</td><td>True</td><td>[830]</td></tr>\n",
       "<tr><td>micado_detector_array</td><td>detector_linearity</td><td>LinearityCurve</td><td>True</td><td>[840]</td></tr>\n",
       "<tr><td>micado_detector_array</td><td>shot_noise</td><td>ShotNoise</td><td>True</td><td>[820]</td></tr>\n",
       "<tr><td>micado_detector_array</td><td>readout_noise</td><td>BasicReadoutNoise</td><td>True</td><td>[811]</td></tr>\n",
       "<tr><td>default_ro</td><td>relay_psf</td><td>FieldConstantPSF</td><td>False</td><td>[262, 662]</td></tr>\n",
       "<tr><td>default_ro</td><td>relay_surface_list</td><td>SurfaceList</td><td>True</td><td>[20, 120]</td></tr>\n",
       "<tr><td>MICADO_IMG_HR</td><td>zoom_mirror_list</td><td>SurfaceList</td><td>True</td><td>[20, 120]</td></tr>\n",
       "<tr><td>MICADO_IMG_HR</td><td>micado_adc_3D_shift</td><td>AtmosphericDispersionCorrection</td><td>False</td><td>[632, 232]</td></tr>\n",
       "</table>"
      ],
      "text/plain": [
       "<Table length=21>\n",
       "       element                      name               ...       z_orders     \n",
       "        str21                      str32               ...        object      \n",
       "--------------------- -------------------------------- ... -------------------\n",
       "            armazones armazones_atmo_default_ter_curve ...               [111]\n",
       "            armazones        armazones_atmo_dispersion ...               [231]\n",
       "            armazones armazones_atmo_skycalc_ter_curve ...               [112]\n",
       "                  ELT               scope_surface_list ...           [20, 120]\n",
       "                  ELT                  scope_vibration ...          [244, 744]\n",
       "                  ELT          eso_combined_reflection ...           [10, 110]\n",
       "               MICADO           micado_static_surfaces ...           [20, 120]\n",
       "               MICADO                    micado_filter ...          [114, 214]\n",
       "               MICADO                 micado_ncpas_psf ...          [241, 641]\n",
       "micado_detector_array              full_detector_array ... [90, 290, 390, 490]\n",
       "micado_detector_array                  detector_window ... [90, 290, 390, 490]\n",
       "micado_detector_array                         qe_curve ...               [113]\n",
       "micado_detector_array                  exposure_action ...               [860]\n",
       "micado_detector_array                     dark_current ...               [830]\n",
       "micado_detector_array               detector_linearity ...               [840]\n",
       "micado_detector_array                       shot_noise ...               [820]\n",
       "micado_detector_array                    readout_noise ...               [811]\n",
       "           default_ro                        relay_psf ...          [262, 662]\n",
       "           default_ro               relay_surface_list ...           [20, 120]\n",
       "        MICADO_IMG_HR                 zoom_mirror_list ...           [20, 120]\n",
       "        MICADO_IMG_HR              micado_adc_3D_shift ...          [632, 232]"
      ]
     },
     "execution_count": 4,
     "metadata": {},
     "output_type": "execute_result"
    }
   ],
   "source": [
    "micado[\"detector_window\"].include = True\n",
    "for effect_name in [\"full_detector_array\", \"armazones_atmo_dispersion\", \"micado_adc_3D_shift\", \"micado_ncpas_psf\", \"relay_psf\"]:\n",
    "    micado[effect_name].include = False\n",
    "    print(micado[effect_name])\n",
    "\n",
    "micado.effects   # print a table of all the Effect objects that exist in micado"
   ]
  },
  {
   "cell_type": "markdown",
   "metadata": {},
   "source": [
    "## Resize the detector window and set some other settings"
   ]
  },
  {
   "cell_type": "code",
   "execution_count": 5,
   "metadata": {},
   "outputs": [],
   "source": [
    "micado[\"detector_window\"].data[\"x_cen\"] = 0          # [mm] distance from optical axis on the focal plane\n",
    "micado[\"detector_window\"].data[\"y_cen\"] = 0\n",
    "micado[\"detector_window\"].data[\"xhw\"] = 0.015 * 5.5  # [mm] x \"half-width\"\n",
    "micado[\"detector_window\"].data[\"yhw\"] = 0.015 * 5.5\n",
    "\n",
    "micado.cmds[\"!OBS.dit\"] = 60                         # [s]\n",
    "micado.cmds[\"!OBS.ndit\"] = 1\n",
    "micado.cmds[\"!SIM.sub_pixel.flag\"] = True"
   ]
  },
  {
   "cell_type": "markdown",
   "metadata": {},
   "source": [
    "## Make a grid of sources"
   ]
  },
  {
   "cell_type": "code",
   "execution_count": 6,
   "metadata": {},
   "outputs": [],
   "source": [
    "src = stars.star_grid(n=9, mmin=20, mmax=20.0001, separation=0.0015 * 3)\n",
    "src.fields[0][\"x\"] -= 0.00075\n",
    "src.fields[0][\"y\"] -= 0.00075"
   ]
  },
  {
   "cell_type": "markdown",
   "metadata": {},
   "source": [
    "## Observe the grid of stars"
   ]
  },
  {
   "cell_type": "code",
   "execution_count": 7,
   "metadata": {},
   "outputs": [
    {
     "name": "stdout",
     "output_type": "stream",
     "text": [
      "Preparing 1 FieldOfViews\n"
     ]
    }
   ],
   "source": [
    "micado.observe(src, update=True)"
   ]
  },
  {
   "cell_type": "code",
   "execution_count": 8,
   "metadata": {},
   "outputs": [
    {
     "data": {
      "text/plain": [
       "<matplotlib.image.AxesImage at 0x243c2444b38>"
      ]
     },
     "execution_count": 8,
     "metadata": {},
     "output_type": "execute_result"
    },
    {
     "data": {
      "image/png": "[encoded data removed]",
      "text/plain": [
       "<Figure size 576x576 with 1 Axes>"
      ]
     },
     "metadata": {
      "needs_background": "light"
     },
     "output_type": "display_data"
    }
   ],
   "source": [
    "plt.figure(figsize=(8,8))\n",
    "plt.imshow(micado.image_planes[0].data, origin=\"lower\")"
   ]
  },
  {
   "cell_type": "markdown",
   "metadata": {},
   "source": [
    "## Write a new Effect subclass \"PointSourceJitter\""
   ]
  },
  {
   "cell_type": "code",
   "execution_count": 9,
   "metadata": {},
   "outputs": [],
   "source": [
    "import numpy as np\n",
    "from astropy.table import Table\n",
    "\n",
    "from scopesim.effects import Effect\n",
    "from scopesim.base_classes import SourceBase\n",
    "\n",
    "\n",
    "class PointSourceJitter(Effect):\n",
    "    def __init__(self, **kwargs):\n",
    "        super(PointSourceJitter, self).__init__(**kwargs)   # initialise the underlying Effect class object\n",
    "        self.meta[\"z_order\"] = [500]                        # z_order number for knowing when and how to apply the Effect\n",
    "        self.meta[\"max_jitter\"] = 0.001                     # [arcsec] - a parameter needed by the effect\n",
    "        self.meta.update(kwargs)                            # add any extra parameters passed when initialising\n",
    "    \n",
    "    def apply_to(self, obj):                                # the function that does the work \n",
    "        if isinstance(obj, SourceBase):                 \n",
    "            for field in obj.fields:\n",
    "                if isinstance(field, Table):\n",
    "                    dx, dy = 2 * (np.random.random(size=(2, len(field))) - 0.5)\n",
    "                    field[\"x\"] += dx * self.meta[\"max_jitter\"]\n",
    "                    field[\"y\"] += dy * self.meta[\"max_jitter\"]\n",
    "                    \n",
    "        return obj\n",
    "    "
   ]
  },
  {
   "cell_type": "markdown",
   "metadata": {},
   "source": [
    "## Make an instance of the new Effect and add it to MICADO"
   ]
  },
  {
   "cell_type": "code",
   "execution_count": 10,
   "metadata": {},
   "outputs": [],
   "source": [
    "jitter_effect = PointSourceJitter(max_jitter=0.001, name=\"random_jitter\")\n",
    "micado.optics_manager.add_effect(jitter_effect)"
   ]
  },
  {
   "cell_type": "code",
   "execution_count": 11,
   "metadata": {},
   "outputs": [
    {
     "data": {
      "text/html": [
       "<i>Table length=22</i>\n",
       "<table id=\"table2490043387128\" class=\"table-striped table-bordered table-condensed\">\n",
       "<thead><tr><th>element</th><th>name</th><th>class</th><th>included</th><th>z_orders</th></tr></thead>\n",
       "<thead><tr><th>str21</th><th>str32</th><th>str31</th><th>bool</th><th>object</th></tr></thead>\n",
       "<tr><td>armazones</td><td>armazones_atmo_default_ter_curve</td><td>AtmosphericTERCurve</td><td>True</td><td>[111]</td></tr>\n",
       "<tr><td>armazones</td><td>armazones_atmo_dispersion</td><td>AtmosphericDispersion</td><td>False</td><td>[231]</td></tr>\n",
       "<tr><td>armazones</td><td>armazones_atmo_skycalc_ter_curve</td><td>SkycalcTERCurve</td><td>False</td><td>[112]</td></tr>\n",
       "<tr><td>armazones</td><td>random_jitter</td><td>PointSourceJitter</td><td>True</td><td>[500]</td></tr>\n",
       "<tr><td>ELT</td><td>scope_surface_list</td><td>SurfaceList</td><td>True</td><td>[20, 120]</td></tr>\n",
       "<tr><td>ELT</td><td>scope_vibration</td><td>Vibration</td><td>True</td><td>[244, 744]</td></tr>\n",
       "<tr><td>ELT</td><td>eso_combined_reflection</td><td>TERCurve</td><td>False</td><td>[10, 110]</td></tr>\n",
       "<tr><td>MICADO</td><td>micado_static_surfaces</td><td>SurfaceList</td><td>True</td><td>[20, 120]</td></tr>\n",
       "<tr><td>MICADO</td><td>micado_filter</td><td>FilterCurve</td><td>True</td><td>[114, 214]</td></tr>\n",
       "<tr><td>MICADO</td><td>micado_ncpas_psf</td><td>NonCommonPathAberration</td><td>False</td><td>[241, 641]</td></tr>\n",
       "<tr><td>micado_detector_array</td><td>full_detector_array</td><td>DetectorList</td><td>False</td><td>[90, 290, 390, 490]</td></tr>\n",
       "<tr><td>micado_detector_array</td><td>detector_window</td><td>DetectorList</td><td>True</td><td>[90, 290, 390, 490]</td></tr>\n",
       "<tr><td>micado_detector_array</td><td>qe_curve</td><td>QuantumEfficiencyCurve</td><td>True</td><td>[113]</td></tr>\n",
       "<tr><td>micado_detector_array</td><td>exposure_action</td><td>SummedExposure</td><td>True</td><td>[860]</td></tr>\n",
       "<tr><td>micado_detector_array</td><td>dark_current</td><td>DarkCurrent</td><td>True</td><td>[830]</td></tr>\n",
       "<tr><td>micado_detector_array</td><td>detector_linearity</td><td>LinearityCurve</td><td>True</td><td>[840]</td></tr>\n",
       "<tr><td>micado_detector_array</td><td>shot_noise</td><td>ShotNoise</td><td>True</td><td>[820]</td></tr>\n",
       "<tr><td>micado_detector_array</td><td>readout_noise</td><td>BasicReadoutNoise</td><td>True</td><td>[811]</td></tr>\n",
       "<tr><td>default_ro</td><td>relay_psf</td><td>FieldConstantPSF</td><td>False</td><td>[262, 662]</td></tr>\n",
       "<tr><td>default_ro</td><td>relay_surface_list</td><td>SurfaceList</td><td>True</td><td>[20, 120]</td></tr>\n",
       "<tr><td>MICADO_IMG_HR</td><td>zoom_mirror_list</td><td>SurfaceList</td><td>True</td><td>[20, 120]</td></tr>\n",
       "<tr><td>MICADO_IMG_HR</td><td>micado_adc_3D_shift</td><td>AtmosphericDispersionCorrection</td><td>False</td><td>[632, 232]</td></tr>\n",
       "</table>"
      ],
      "text/plain": [
       "<Table length=22>\n",
       "       element                      name               ...       z_orders     \n",
       "        str21                      str32               ...        object      \n",
       "--------------------- -------------------------------- ... -------------------\n",
       "            armazones armazones_atmo_default_ter_curve ...               [111]\n",
       "            armazones        armazones_atmo_dispersion ...               [231]\n",
       "            armazones armazones_atmo_skycalc_ter_curve ...               [112]\n",
       "            armazones                    random_jitter ...               [500]\n",
       "                  ELT               scope_surface_list ...           [20, 120]\n",
       "                  ELT                  scope_vibration ...          [244, 744]\n",
       "                  ELT          eso_combined_reflection ...           [10, 110]\n",
       "               MICADO           micado_static_surfaces ...           [20, 120]\n",
       "               MICADO                    micado_filter ...          [114, 214]\n",
       "               MICADO                 micado_ncpas_psf ...          [241, 641]\n",
       "micado_detector_array              full_detector_array ... [90, 290, 390, 490]\n",
       "micado_detector_array                  detector_window ... [90, 290, 390, 490]\n",
       "micado_detector_array                         qe_curve ...               [113]\n",
       "micado_detector_array                  exposure_action ...               [860]\n",
       "micado_detector_array                     dark_current ...               [830]\n",
       "micado_detector_array               detector_linearity ...               [840]\n",
       "micado_detector_array                       shot_noise ...               [820]\n",
       "micado_detector_array                    readout_noise ...               [811]\n",
       "           default_ro                        relay_psf ...          [262, 662]\n",
       "           default_ro               relay_surface_list ...           [20, 120]\n",
       "        MICADO_IMG_HR                 zoom_mirror_list ...           [20, 120]\n",
       "        MICADO_IMG_HR              micado_adc_3D_shift ...          [632, 232]"
      ]
     },
     "execution_count": 11,
     "metadata": {},
     "output_type": "execute_result"
    }
   ],
   "source": [
    "micado.effects"
   ]
  },
  {
   "cell_type": "markdown",
   "metadata": {},
   "source": [
    "## Observe the star grid again (this time applying the extra Effect object)"
   ]
  },
  {
   "cell_type": "code",
   "execution_count": 12,
   "metadata": {},
   "outputs": [
    {
     "name": "stdout",
     "output_type": "stream",
     "text": [
      "Preparing 1 FieldOfViews\n"
     ]
    }
   ],
   "source": [
    "micado.observe(src, update=True)"
   ]
  },
  {
   "cell_type": "code",
   "execution_count": 13,
   "metadata": {},
   "outputs": [
    {
     "data": {
      "text/plain": [
       "<matplotlib.image.AxesImage at 0x243c270b080>"
      ]
     },
     "execution_count": 13,
     "metadata": {},
     "output_type": "execute_result"
    },
    {
     "data": {
      "image/png": "[encoded data removed]",
      "text/plain": [
       "<Figure size 576x576 with 1 Axes>"
      ]
     },
     "metadata": {
      "needs_background": "light"
     },
     "output_type": "display_data"
    }
   ],
   "source": [
    "plt.figure(figsize=(8,8))\n",
    "plt.imshow(micado.image_planes[0].data, origin=\"lower\")"
   ]
  },
  {
   "cell_type": "markdown",
   "metadata": {},
   "source": [
    "## We can change the amount of jitter involved"
   ]
  },
  {
   "cell_type": "code",
   "execution_count": 14,
   "metadata": {},
   "outputs": [
    {
     "name": "stdout",
     "output_type": "stream",
     "text": [
      "Preparing 1 FieldOfViews\n"
     ]
    },
    {
     "data": {
      "text/plain": [
       "<matplotlib.image.AxesImage at 0x243c2346c88>"
      ]
     },
     "execution_count": 14,
     "metadata": {},
     "output_type": "execute_result"
    },
    {
     "data": {
      "image/png": "[encoded data removed]",
      "text/plain": [
       "<Figure size 576x576 with 1 Axes>"
      ]
     },
     "metadata": {
      "needs_background": "light"
     },
     "output_type": "display_data"
    }
   ],
   "source": [
    "micado[\"random_jitter\"].meta[\"max_jitter\"] = 0.003\n",
    "\n",
    "micado.observe(src, update=True)\n",
    "\n",
    "plt.figure(figsize=(8,8))\n",
    "plt.imshow(micado.image_planes[0].data, origin=\"lower\")"
   ]
  },
  {
   "cell_type": "code",
   "execution_count": null,
   "metadata": {},
   "outputs": [],
   "source": []
  }
 ],
 "metadata": {
  "kernelspec": {
   "display_name": "Python 3",
   "language": "python",
   "name": "python3"
  },
  "language_info": {
   "codemirror_mode": {
    "name": "ipython",
    "version": 3
   },
   "file_extension": ".py",
   "mimetype": "text/x-python",
   "name": "python",
   "nbconvert_exporter": "python",
   "pygments_lexer": "ipython3",
   "version": "3.6.8"
  }
 },
 "nbformat": 4,
 "nbformat_minor": 2
}
