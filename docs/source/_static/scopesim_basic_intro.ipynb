{
 "cells": [
  {
   "cell_type": "code",
   "execution_count": 1,
   "metadata": {},
   "outputs": [],
   "source": [
    "from matplotlib import pyplot as plt\n",
    "%matplotlib inline\n",
    "\n",
    "import scopesim as sim"
   ]
  },
  {
   "cell_type": "code",
   "execution_count": null,
   "metadata": {},
   "outputs": [],
   "source": [
    "1/0"
   ]
  },
  {
   "cell_type": "markdown",
   "metadata": {},
   "source": [
    "### Have a look at the global variables "
   ]
  },
  {
   "cell_type": "code",
   "execution_count": 2,
   "metadata": {},
   "outputs": [
    {
     "name": "stdout",
     "output_type": "stream",
     "text": [
      "<SystemDict> contents:\n",
      "SIM: \n",
      "  spectral: {'wave_min': 0.3, 'wave_mid': 2.2, 'wave_max': 20, 'wave_unit': 'um', 'spectral_resolution': 0.0001, 'minimum_throughput': 1e-06, 'minimum_pixel_flux': 1}\n",
      "  sub_pixel: {'flag': False, 'fraction': 1}\n",
      "  random: {'seed': None}\n",
      "  computing: {'chunk_size': 2048, 'max_segment_size': 16777217, 'oversampling': 1, 'spline_order': 1, 'flux_accuracy': 0.001, 'preload_field_of_views': False}\n",
      "  file: {'local_packages_path': './', 'server_base_url': 'https://www.univie.ac.at/simcado/InstPkgSvr/', 'use_cached_downloads': True, 'search_path': ['./']}\n",
      "  reports: {'verbose': False, 'ip_tracking': True}\n",
      "  tests: {'run_integration_tests': True, 'run_skycalc_ter_tests': True}\n",
      "OBS: \n",
      "TEL: \n",
      "  etendue: 0\n",
      "  area: 0\n",
      "INST: \n",
      "  pixel_scale: 0\n",
      "  plate_scale: 0\n"
     ]
    }
   ],
   "source": [
    "print(sim.rc.__config__)"
   ]
  },
  {
   "cell_type": "markdown",
   "metadata": {},
   "source": [
    "### Look at which packages are available on the server and locally"
   ]
  },
  {
   "cell_type": "code",
   "execution_count": 3,
   "metadata": {},
   "outputs": [
    {
     "name": "stdout",
     "output_type": "stream",
     "text": [
      "\n",
      "Packages saved locally: ./\n",
      "==========================\n",
      "Paranal\n",
      "VLT\n",
      "HAWKI\n",
      "\n",
      "Packages saved on the server: https://www.univie.ac.at/simcado/InstPkgSvr/\n",
      "==========================================================================\n",
      "instruments/HAWKI.zip\n",
      "instruments/MAORY.zip\n",
      "instruments/MICADO.zip\n",
      "instruments/WFC3.zip\n",
      "instruments/test_package.zip\n",
      "locations/Armazones.zip\n",
      "locations/Paranal.zip\n",
      "telescopes/ELT.zip\n",
      "telescopes/HST.zip\n",
      "telescopes/LFOA.zip\n",
      "telescopes/VLT.zip\n"
     ]
    }
   ],
   "source": [
    "sim.server.database.list_packages()"
   ]
  },
  {
   "cell_type": "markdown",
   "metadata": {},
   "source": [
    "### Download the packages needed for HAWKI"
   ]
  },
  {
   "cell_type": "code",
   "execution_count": null,
   "metadata": {},
   "outputs": [],
   "source": [
    "sim.server.database.download_package([\"locations/Paranal.zip\", \"telescopes/VLT.zip\", \"instruments/HAWKI.zip\"])"
   ]
  },
  {
   "cell_type": "markdown",
   "metadata": {},
   "source": [
    "### Load in the HAWKI configuration"
   ]
  },
  {
   "cell_type": "code",
   "execution_count": 5,
   "metadata": {},
   "outputs": [],
   "source": [
    "cmds = sim.UserCommands(use_instrument=\"HAWKI\")"
   ]
  },
  {
   "cell_type": "code",
   "execution_count": 6,
   "metadata": {},
   "outputs": [
    {
     "data": {
      "text/plain": [
       "<SystemDict> contents:\n",
       "SIM: \n",
       "  spectral: {'wave_min': 0.85, 'wave_mid': 1.6, 'wave_max': 2.5, 'wave_unit': 'um', 'spectral_resolution': 0.0001, 'minimum_throughput': 1e-06, 'minimum_pixel_flux': 1}\n",
       "  sub_pixel: {'flag': False, 'fraction': 1}\n",
       "  random: {'seed': 9001}\n",
       "  computing: {'chunk_size': 2048, 'max_segment_size': 16777217, 'oversampling': 1, 'spline_order': 1, 'flux_accuracy': 0.001, 'preload_field_of_views': False}\n",
       "  file: {'local_packages_path': './', 'server_base_url': 'https://www.univie.ac.at/simcado/InstPkgSvr/', 'use_cached_downloads': True, 'search_path': ['./']}\n",
       "  reports: {'verbose': False, 'ip_tracking': True}\n",
       "  tests: {'run_integration_tests': True, 'run_skycalc_ter_tests': True}\n",
       "OBS: \n",
       "  filter_name: Ks\n",
       "  airmass: 1.2\n",
       "  declination: -30\n",
       "  hour_angle: 0\n",
       "  pupil_angle: 0\n",
       "  dit: 60\n",
       "  ndit: 1\n",
       "TEL: \n",
       "  etendue: 0\n",
       "  area: 0\n",
       "  temperture: !ATMO.temperature\n",
       "INST: \n",
       "  pixel_scale: 0.106\n",
       "  plate_scale: 10.6\n",
       "  temperature: -198\n",
       "  filter_file_format: TC_filter_{}.dat\n",
       "ATMO: \n",
       "  altitude: 2635\n",
       "  longitude: -70.4042\n",
       "  latitude: -24.6272\n",
       "  temperature: 9\n",
       "  humidity: 0.15\n",
       "  pressure: 0.75\n",
       "  pwv: 2.5\n",
       "  airmass: !OBS.airmass\n",
       "  pupil_angle: !OBS.pupil_angle\n",
       "  pixel_scale: !INST.pixel_scale\n",
       "DET: \n",
       "  image_plane_id: 0\n",
       "  temperature: -198\n",
       "  dit: !OBS.dit\n",
       "  ndit: !OBS.ndit"
      ]
     },
     "execution_count": 6,
     "metadata": {},
     "output_type": "execute_result"
    }
   ],
   "source": [
    "# cmds.yaml_dicts\n",
    "cmds"
   ]
  },
  {
   "cell_type": "markdown",
   "metadata": {},
   "source": [
    "### Make an OpticalTrain object"
   ]
  },
  {
   "cell_type": "code",
   "execution_count": 7,
   "metadata": {
    "scrolled": false
   },
   "outputs": [],
   "source": [
    "opt = sim.OpticalTrain(cmds)"
   ]
  },
  {
   "cell_type": "markdown",
   "metadata": {},
   "source": [
    "### Have a look at the things inside the optical train - here the Field of Views"
   ]
  },
  {
   "cell_type": "code",
   "execution_count": 8,
   "metadata": {},
   "outputs": [
    {
     "name": "stdout",
     "output_type": "stream",
     "text": [
      "Preparing 9 FieldOfViews\n"
     ]
    },
    {
     "data": {
      "text/plain": [
       "[FOV id: 0, with dimensions (2048, 2048)\n",
       " Sky centre: (-0.03654055555555555, -0.036558663886215106)\n",
       " Image centre: (-12.410000000000002, -12.410000000000002)\n",
       " Wavelength range: (1.9225 um, 2.3845 um)um,\n",
       " FOV id: 1, with dimensions (2048, 2048)\n",
       " Sky centre: (-0.03654055555555555, 0.023743558336007112)\n",
       " Image centre: (-12.410000000000002, 8.07)\n",
       " Wavelength range: (1.9225 um, 2.3845 um)um,\n",
       " FOV id: 2, with dimensions (2048, 432)\n",
       " Sky centre: (-0.03654055555555555, 0.060254669447118214)\n",
       " Image centre: (-12.410000000000002, 20.46)\n",
       " Wavelength range: (1.9225 um, 2.3845 um)um,\n",
       " FOV id: 3, with dimensions (2048, 2048)\n",
       " Sky centre: (0.023761666666666667, -0.036558663886215106)\n",
       " Image centre: (8.07, -12.410000000000002)\n",
       " Wavelength range: (1.9225 um, 2.3845 um)um,\n",
       " FOV id: 4, with dimensions (2048, 2048)\n",
       " Sky centre: (0.023761666666666667, 0.023743558336007112)\n",
       " Image centre: (8.07, 8.07)\n",
       " Wavelength range: (1.9225 um, 2.3845 um)um,\n",
       " FOV id: 5, with dimensions (2048, 432)\n",
       " Sky centre: (0.023761666666666667, 0.060254669447118214)\n",
       " Image centre: (8.07, 20.46)\n",
       " Wavelength range: (1.9225 um, 2.3845 um)um,\n",
       " FOV id: 6, with dimensions (432, 2048)\n",
       " Sky centre: (0.06027277777777777, -0.036558663886215106)\n",
       " Image centre: (20.46, -12.410000000000002)\n",
       " Wavelength range: (1.9225 um, 2.3845 um)um,\n",
       " FOV id: 7, with dimensions (432, 2048)\n",
       " Sky centre: (0.06027277777777777, 0.023743558336007112)\n",
       " Image centre: (20.46, 8.07)\n",
       " Wavelength range: (1.9225 um, 2.3845 um)um,\n",
       " FOV id: 8, with dimensions (432, 432)\n",
       " Sky centre: (0.06027277777777777, 0.060254669447118214)\n",
       " Image centre: (20.46, 20.46)\n",
       " Wavelength range: (1.9225 um, 2.3845 um)um]"
      ]
     },
     "execution_count": 8,
     "metadata": {},
     "output_type": "execute_result"
    }
   ],
   "source": [
    "opt.fov_manager.fovs"
   ]
  },
  {
   "cell_type": "code",
   "execution_count": 9,
   "metadata": {},
   "outputs": [
    {
     "data": {
      "text/html": [
       "<i>Table length=4</i>\n",
       "<table id=\"table140520437948768\" class=\"table-striped table-bordered table-condensed\">\n",
       "<thead><tr><th>id</th><th>x_cen</th><th>y_cen</th><th>xhw</th><th>yhw</th><th>x_len</th><th>y_len</th><th>pixsize</th><th>angle</th><th>gain</th></tr></thead>\n",
       "<thead><tr><th>int64</th><th>float64</th><th>float64</th><th>float64</th><th>float64</th><th>int64</th><th>int64</th><th>float64</th><th>float64</th><th>float64</th></tr></thead>\n",
       "<tr><td>1</td><td>-11.39</td><td>-11.4</td><td>10.24</td><td>10.24</td><td>2048</td><td>2048</td><td>0.01</td><td>0.0</td><td>1.705</td></tr>\n",
       "<tr><td>2</td><td>10.615</td><td>-11.375</td><td>10.24</td><td>10.24</td><td>2048</td><td>2048</td><td>0.01</td><td>0.13</td><td>1.87</td></tr>\n",
       "<tr><td>3</td><td>10.66</td><td>10.52</td><td>10.24</td><td>10.24</td><td>2048</td><td>2048</td><td>0.01</td><td>0.04</td><td>1.735</td></tr>\n",
       "<tr><td>4</td><td>-11.34</td><td>10.495</td><td>10.24</td><td>10.24</td><td>2048</td><td>2048</td><td>0.01</td><td>0.03</td><td>2.11</td></tr>\n",
       "</table>"
      ],
      "text/plain": [
       "<Table length=4>\n",
       "  id   x_cen   y_cen    xhw     yhw   x_len y_len pixsize  angle    gain \n",
       "int64 float64 float64 float64 float64 int64 int64 float64 float64 float64\n",
       "----- ------- ------- ------- ------- ----- ----- ------- ------- -------\n",
       "    1  -11.39   -11.4   10.24   10.24  2048  2048    0.01     0.0   1.705\n",
       "    2  10.615 -11.375   10.24   10.24  2048  2048    0.01    0.13    1.87\n",
       "    3   10.66   10.52   10.24   10.24  2048  2048    0.01    0.04   1.735\n",
       "    4  -11.34  10.495   10.24   10.24  2048  2048    0.01    0.03    2.11"
      ]
     },
     "execution_count": 9,
     "metadata": {},
     "output_type": "execute_result"
    }
   ],
   "source": [
    "opt.detector_arrays[0].detector_list.table"
   ]
  },
  {
   "cell_type": "markdown",
   "metadata": {},
   "source": [
    "### __currsys__ : current system dictionary\n",
    "When an OpticalTrain is make, the internal yaml dictionaries are attached to the global variable ``scopesim.rc.__currsys__``. OpticalTrain quite ofter refers back to global variable here, such as \"!OBS.filter_name\", or \"!OBS.dit\""
   ]
  },
  {
   "cell_type": "code",
   "execution_count": 10,
   "metadata": {},
   "outputs": [
    {
     "data": {
      "text/plain": [
       "{'filter_name': 'Ks',\n",
       " 'airmass': 1.2,\n",
       " 'declination': -30,\n",
       " 'hour_angle': 0,\n",
       " 'pupil_angle': 0,\n",
       " 'dit': 60,\n",
       " 'ndit': 1}"
      ]
     },
     "execution_count": 10,
     "metadata": {},
     "output_type": "execute_result"
    }
   ],
   "source": [
    "sim.rc.__currsys__[\"!OBS\"]"
   ]
  },
  {
   "cell_type": "markdown",
   "metadata": {},
   "source": [
    "### Make an empty sky and observe it"
   ]
  },
  {
   "cell_type": "code",
   "execution_count": 11,
   "metadata": {},
   "outputs": [],
   "source": [
    "empty_sky = sim.source.source_templates.empty_sky()"
   ]
  },
  {
   "cell_type": "code",
   "execution_count": 12,
   "metadata": {},
   "outputs": [
    {
     "name": "stdout",
     "output_type": "stream",
     "text": [
      "Preparing 9 FieldOfViews\n"
     ]
    }
   ],
   "source": [
    "opt.observe(empty_sky, kwargs={\"!OBS.dit\": 60, \"!OBS.ndit\": 10})"
   ]
  },
  {
   "cell_type": "code",
   "execution_count": 13,
   "metadata": {},
   "outputs": [
    {
     "data": {
      "text/plain": [
       "<matplotlib.colorbar.Colorbar at 0x7fcd6dfb6908>"
      ]
     },
     "execution_count": 13,
     "metadata": {},
     "output_type": "execute_result"
    },
    {
     "data": {
      "image/png": "[encoded data removed]",
      "text/plain": [
       "<Figure size 432x288 with 2 Axes>"
      ]
     },
     "metadata": {
      "needs_background": "light"
     },
     "output_type": "display_data"
    }
   ],
   "source": [
    "plt.imshow(opt.image_planes[0].image)\n",
    "plt.colorbar()"
   ]
  },
  {
   "cell_type": "markdown",
   "metadata": {},
   "source": [
    "### Read out the ImagePlane onto the Detetors"
   ]
  },
  {
   "cell_type": "code",
   "execution_count": 14,
   "metadata": {},
   "outputs": [],
   "source": [
    "hdulists = opt.readout()\n",
    "hdulist = hdulists[0]"
   ]
  },
  {
   "cell_type": "code",
   "execution_count": 15,
   "metadata": {},
   "outputs": [
    {
     "data": {
      "image/png": "[encoded data removed]",
      "text/plain": [
       "<Figure size 720x720 with 8 Axes>"
      ]
     },
     "metadata": {
      "needs_background": "light"
     },
     "output_type": "display_data"
    }
   ],
   "source": [
    "plt.figure(figsize=(10,10))\n",
    "for i, hdu in enumerate(hdulist[1:-1], 1):\n",
    "    plt.subplot(2,2,i)\n",
    "    plt.imshow(hdu.data, vmin=2000, vmax=2500)\n",
    "    plt.colorbar()"
   ]
  },
  {
   "cell_type": "code",
   "execution_count": null,
   "metadata": {},
   "outputs": [],
   "source": []
  }
 ],
 "metadata": {
  "kernelspec": {
   "display_name": "Python 3",
   "language": "python",
   "name": "python3"
  },
  "language_info": {
   "codemirror_mode": {
    "name": "ipython",
    "version": 3
   },
   "file_extension": ".py",
   "mimetype": "text/x-python",
   "name": "python",
   "nbconvert_exporter": "python",
   "pygments_lexer": "ipython3",
   "version": "3.7.3"
  }
 },
 "nbformat": 4,
 "nbformat_minor": 2
}
