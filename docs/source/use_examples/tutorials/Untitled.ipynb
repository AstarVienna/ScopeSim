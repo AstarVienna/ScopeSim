{
 "cells": [
  {
   "cell_type": "markdown",
   "id": "floppy-relationship",
   "metadata": {},
   "source": [
    "# A quick introduction to ScopeSim\n",
    "\n",
    "A brief introduction into using ScopeSim to observe a cluster in the LMC"
   ]
  },
  {
   "cell_type": "code",
   "execution_count": null,
   "id": "fatty-excellence",
   "metadata": {},
   "outputs": [],
   "source": [
    "import matplotlib.pyplot as plt\n",
    "from matplotlib.colors import LogNorm\n",
    "%matplotlib inline\n",
    "\n",
    "import scopesim as sim\n",
    "import scopesim_templates as sim_tp"
   ]
  },
  {
   "cell_type": "code",
   "execution_count": null,
   "id": "guilty-exemption",
   "metadata": {},
   "outputs": [],
   "source": []
  },
  {
   "cell_type": "code",
   "execution_count": null,
   "id": "premier-mount",
   "metadata": {},
   "outputs": [],
   "source": [
    "sim.server.database.download_package([\"locations/Armazones.zip\",\n",
    "                                      \"telescopes/ELT.zip\",\n",
    "                                      \"instruments/MAORY.zip\",\n",
    "                                      \"instruments/MICADO.zip\"])\n"
   ]
  },
  {
   "cell_type": "code",
   "execution_count": null,
   "id": "intensive-seminar",
   "metadata": {},
   "outputs": [],
   "source": []
  },
  {
   "cell_type": "code",
   "execution_count": null,
   "id": "golden-division",
   "metadata": {},
   "outputs": [],
   "source": [
    "cluster = sim_tp.basic.stars.cluster(mass=1000,         # Msun\n",
    "                                     distance=50000,    # parsec\n",
    "                                     core_radius=0.3,     # parsec\n",
    "                                     seed=9001)\n"
   ]
  },
  {
   "cell_type": "code",
   "execution_count": null,
   "id": "double-founder",
   "metadata": {},
   "outputs": [],
   "source": []
  },
  {
   "cell_type": "code",
   "execution_count": null,
   "id": "bronze-generator",
   "metadata": {},
   "outputs": [],
   "source": [
    "micado = sim.OpticalTrain(\"MICADO\")\n",
    "micado.observe(cluster)\n",
    "hdus = micado.readout(filename=\"TEST.fits\")"
   ]
  },
  {
   "cell_type": "code",
   "execution_count": null,
   "id": "aboriginal-supervision",
   "metadata": {},
   "outputs": [],
   "source": []
  },
  {
   "cell_type": "code",
   "execution_count": null,
   "id": "undefined-flush",
   "metadata": {},
   "outputs": [],
   "source": [
    "plt.figure(figsize=(10,10))\n",
    "plt.imshow(hdus[0][1].data, norm=LogNorm(), vmax=1E5)\n",
    "plt.colorbar()\n"
   ]
  }
 ],
 "metadata": {
  "kernelspec": {
   "display_name": "Python 3",
   "language": "python",
   "name": "python3"
  },
  "language_info": {
   "codemirror_mode": {
    "name": "ipython",
    "version": 3
   },
   "file_extension": ".py",
   "mimetype": "text/x-python",
   "name": "python",
   "nbconvert_exporter": "python",
   "pygments_lexer": "ipython3",
   "version": "3.6.8"
  }
 },
 "nbformat": 4,
 "nbformat_minor": 5
}
