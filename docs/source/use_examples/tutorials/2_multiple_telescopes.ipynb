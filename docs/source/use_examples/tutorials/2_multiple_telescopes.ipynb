{
 "cells": [
  {
   "cell_type": "markdown",
   "id": "bright-preparation",
   "metadata": {},
   "source": [
    "2: Observing the same object with multiple telescopes\n",
    "=====================================================\n",
    "A brief introduction into using ScopeSim to observe a cluster in the LMC"
   ]
  },
  {
   "cell_type": "code",
   "execution_count": null,
   "id": "hairy-information",
   "metadata": {},
   "outputs": [],
   "source": [
    "import matplotlib.pyplot as plt\n",
    "from matplotlib.colors import LogNorm\n",
    "%matplotlib inline\n",
    "\n",
    "import scopesim as sim\n",
    "import scopesim_templates as sim_tp\n",
    "sim.rc.__config__[\"!SIM.file.local_packages_path\"] = \"../temp/\""
   ]
  },
  {
   "cell_type": "markdown",
   "id": "future-engineering",
   "metadata": {},
   "source": [
    "Download the packages for MICADO at the ELT and the viennese 1.5m LFOA"
   ]
  },
  {
   "cell_type": "code",
   "execution_count": null,
   "id": "unexpected-appeal",
   "metadata": {},
   "outputs": [],
   "source": [
    "sim.server.download_package([\"telescopes/LFOA\"])\n",
    "sim.server.download_package([\"locations/armazones\",\n",
    "                             \"telescopes/ELT\",\n",
    "                             \"instruments/MICADO\",\n",
    "                             \"instruments/MAORY\"])"
   ]
  },
  {
   "cell_type": "markdown",
   "id": "pursuant-crystal",
   "metadata": {},
   "source": [
    "Create a star cluster ``Source`` object"
   ]
  },
  {
   "cell_type": "code",
   "execution_count": null,
   "id": "lasting-gender",
   "metadata": {},
   "outputs": [],
   "source": [
    "cluster = sim_tp.stellar.clusters.cluster(mass=10000,        # Msun\n",
    "                                          distance=50000,    # parsec\n",
    "                                          core_radius=2,     # parsec\n",
    "                                          seed=9001)         # random seed"
   ]
  },
  {
   "cell_type": "markdown",
   "id": "rubber-norwegian",
   "metadata": {},
   "source": [
    "Observe with the 1.5m LFOA"
   ]
  },
  {
   "cell_type": "code",
   "execution_count": null,
   "id": "casual-strength",
   "metadata": {},
   "outputs": [],
   "source": [
    "lfoa = sim.OpticalTrain(\"LFOA\")\n",
    "lfoa.observe(cluster,\n",
    "             properties={\"!OBS.ndit\": 10, \"!OBS.ndit\": 360},\n",
    "             update=True)\n",
    "hdus_lfoa = lfoa.readout()"
   ]
  },
  {
   "cell_type": "markdown",
   "id": "labeled-buying",
   "metadata": {},
   "source": [
    "Observe the same ``Source`` with MICADO"
   ]
  },
  {
   "cell_type": "code",
   "execution_count": null,
   "id": "chinese-spirit",
   "metadata": {},
   "outputs": [],
   "source": [
    "micado = sim.OpticalTrain(\"MICADO\")\n",
    "micado.cmds[\"!OBS.dit\"] = 10\n",
    "micado.cmds[\"!OBS.ndit\"] = 360\n",
    "micado.update()\n",
    "\n",
    "micado.observe(cluster)\n",
    "hdus_micado = micado.readout()"
   ]
  },
  {
   "cell_type": "markdown",
   "id": "infrared-angola",
   "metadata": {},
   "source": [
    "Plot up the results"
   ]
  },
  {
   "cell_type": "code",
   "execution_count": null,
   "id": "directed-mother",
   "metadata": {},
   "outputs": [],
   "source": [
    "plt.figure(figsize=(12,6))\n",
    "\n",
    "plt.subplot(121)\n",
    "plt.imshow(hdus_lfoa[0][1].data[345:385, 525:565], norm=LogNorm(), origin=\"lower\")\n",
    "plt.colorbar()\n",
    "\n",
    "plt.subplot(122)\n",
    "plt.imshow(hdus_micado[0][1].data, norm=LogNorm(), origin=\"lower\", vmax=1E6)\n",
    "plt.colorbar()"
   ]
  }
 ],
 "metadata": {
  "kernelspec": {
   "display_name": "Python 3",
   "language": "python",
   "name": "python3"
  },
  "language_info": {
   "codemirror_mode": {
    "name": "ipython",
    "version": 3
   },
   "file_extension": ".py",
   "mimetype": "text/x-python",
   "name": "python",
   "nbconvert_exporter": "python",
   "pygments_lexer": "ipython3",
   "version": "3.6.8"
  },
  "nbsphinx": {
   "execute": "always"
  }
 },
 "nbformat": 4,
 "nbformat_minor": 5
}
