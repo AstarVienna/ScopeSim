{
 "cells": [
  {
   "cell_type": "markdown",
   "id": "retained-triangle",
   "metadata": {},
   "source": [
    "Setup for the docs\n",
    "=================="
   ]
  },
  {
   "cell_type": "code",
   "execution_count": null,
   "id": "arranged-fundamental",
   "metadata": {},
   "outputs": [],
   "source": [
    "import os, scopesim\n",
    "\n",
    "if not os.path.exists(\"./temp/\"):\n",
    "    os.mkdir(\"./temp/\")\n",
    "scopesim.rc.__config__[\"!SIM.file.local_packages_path\"] = \"./temp/\"\n",
    "scopesim.rc.__config__[\"!SIM.file.use_cached_downloads\"] = False\n",
    "\n",
    "\n",
    "pkgs = [\"telescopes/LFOA\"] + \\\n",
    "       [\"locations/Paranal\", \"telescopes/VLT\", \"instruments/HAWKI\"] + \\\n",
    "       [\"locations/Armazones\", \"telescopes/ELT\", \"instruments/MAORY\",\n",
    "        \"instruments/MICADO\"]\n",
    "\n",
    "scopesim.download_package(pkgs)"
   ]
  }
 ],
 "metadata": {
  "kernelspec": {
   "display_name": "Python 3",
   "language": "python",
   "name": "python3"
  },
  "language_info": {
   "codemirror_mode": {
    "name": "ipython",
    "version": 3
   },
   "file_extension": ".py",
   "mimetype": "text/x-python",
   "name": "python",
   "nbconvert_exporter": "python",
   "pygments_lexer": "ipython3",
   "version": "3.6.8"
  },
  "nbsphinx": {
   "execute": "always"
  }
 },
 "nbformat": 4,
 "nbformat_minor": 5
}
